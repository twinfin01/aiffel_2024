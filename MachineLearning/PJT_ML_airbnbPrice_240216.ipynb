{
 "cells": [
  {
   "cell_type": "code",
   "execution_count": 5,
   "id": "10f50274",
   "metadata": {},
   "outputs": [],
   "source": [
    "import pandas as pd\n",
    "\n",
    "train = pd.read_csv('~/data/train.csv')\n",
    "test = pd.read_csv('~/data/test.csv')"
   ]
  },
  {
   "cell_type": "code",
   "execution_count": 6,
   "id": "315994e1",
   "metadata": {},
   "outputs": [
    {
     "data": {
      "text/plain": [
       "((39116, 16), (9779, 15))"
      ]
     },
     "execution_count": 6,
     "metadata": {},
     "output_type": "execute_result"
    }
   ],
   "source": [
    "train.shape, test.shape"
   ]
  },
  {
   "cell_type": "code",
   "execution_count": 7,
   "id": "a93bfd0e",
   "metadata": {},
   "outputs": [
    {
     "data": {
      "text/html": [
       "<div>\n",
       "<style scoped>\n",
       "    .dataframe tbody tr th:only-of-type {\n",
       "        vertical-align: middle;\n",
       "    }\n",
       "\n",
       "    .dataframe tbody tr th {\n",
       "        vertical-align: top;\n",
       "    }\n",
       "\n",
       "    .dataframe thead th {\n",
       "        text-align: right;\n",
       "    }\n",
       "</style>\n",
       "<table border=\"1\" class=\"dataframe\">\n",
       "  <thead>\n",
       "    <tr style=\"text-align: right;\">\n",
       "      <th></th>\n",
       "      <th>id</th>\n",
       "      <th>name</th>\n",
       "      <th>host_id</th>\n",
       "      <th>host_name</th>\n",
       "      <th>neighbourhood_group</th>\n",
       "      <th>neighbourhood</th>\n",
       "      <th>latitude</th>\n",
       "      <th>longitude</th>\n",
       "      <th>room_type</th>\n",
       "      <th>price</th>\n",
       "      <th>minimum_nights</th>\n",
       "      <th>number_of_reviews</th>\n",
       "      <th>last_review</th>\n",
       "      <th>reviews_per_month</th>\n",
       "      <th>calculated_host_listings_count</th>\n",
       "      <th>availability_365</th>\n",
       "    </tr>\n",
       "  </thead>\n",
       "  <tbody>\n",
       "    <tr>\n",
       "      <th>0</th>\n",
       "      <td>14963583</td>\n",
       "      <td>Room in South Harlem near Central Park</td>\n",
       "      <td>94219511</td>\n",
       "      <td>Gilles</td>\n",
       "      <td>Manhattan</td>\n",
       "      <td>Harlem</td>\n",
       "      <td>40.80167</td>\n",
       "      <td>-73.95781</td>\n",
       "      <td>Private room</td>\n",
       "      <td>70</td>\n",
       "      <td>3</td>\n",
       "      <td>3</td>\n",
       "      <td>2019-01-01</td>\n",
       "      <td>0.09</td>\n",
       "      <td>2</td>\n",
       "      <td>0</td>\n",
       "    </tr>\n",
       "    <tr>\n",
       "      <th>1</th>\n",
       "      <td>9458704</td>\n",
       "      <td>Large 1BR Apartment, near Times Sq (2nd Floor)</td>\n",
       "      <td>49015331</td>\n",
       "      <td>Iradj</td>\n",
       "      <td>Manhattan</td>\n",
       "      <td>Hell's Kitchen</td>\n",
       "      <td>40.76037</td>\n",
       "      <td>-73.99016</td>\n",
       "      <td>Entire home/apt</td>\n",
       "      <td>240</td>\n",
       "      <td>2</td>\n",
       "      <td>64</td>\n",
       "      <td>2019-06-30</td>\n",
       "      <td>1.68</td>\n",
       "      <td>2</td>\n",
       "      <td>262</td>\n",
       "    </tr>\n",
       "    <tr>\n",
       "      <th>2</th>\n",
       "      <td>26871281</td>\n",
       "      <td>West Village Apartment</td>\n",
       "      <td>440022</td>\n",
       "      <td>Petter</td>\n",
       "      <td>Manhattan</td>\n",
       "      <td>West Village</td>\n",
       "      <td>40.73001</td>\n",
       "      <td>-74.00562</td>\n",
       "      <td>Entire home/apt</td>\n",
       "      <td>150</td>\n",
       "      <td>60</td>\n",
       "      <td>1</td>\n",
       "      <td>2019-02-07</td>\n",
       "      <td>0.20</td>\n",
       "      <td>1</td>\n",
       "      <td>0</td>\n",
       "    </tr>\n",
       "    <tr>\n",
       "      <th>3</th>\n",
       "      <td>698132</td>\n",
       "      <td>LARGE PRIVATE FLOOR IN BROOKLYN, NY</td>\n",
       "      <td>3577509</td>\n",
       "      <td>Eric</td>\n",
       "      <td>Brooklyn</td>\n",
       "      <td>Bedford-Stuyvesant</td>\n",
       "      <td>40.69128</td>\n",
       "      <td>-73.93653</td>\n",
       "      <td>Entire home/apt</td>\n",
       "      <td>85</td>\n",
       "      <td>4</td>\n",
       "      <td>239</td>\n",
       "      <td>2019-06-26</td>\n",
       "      <td>2.89</td>\n",
       "      <td>2</td>\n",
       "      <td>1</td>\n",
       "    </tr>\n",
       "    <tr>\n",
       "      <th>4</th>\n",
       "      <td>15783953</td>\n",
       "      <td>Sun-drenched apartment, 20 mins to Manhattan</td>\n",
       "      <td>12475280</td>\n",
       "      <td>George</td>\n",
       "      <td>Brooklyn</td>\n",
       "      <td>Bedford-Stuyvesant</td>\n",
       "      <td>40.68899</td>\n",
       "      <td>-73.95555</td>\n",
       "      <td>Private room</td>\n",
       "      <td>44</td>\n",
       "      <td>28</td>\n",
       "      <td>0</td>\n",
       "      <td>NaN</td>\n",
       "      <td>NaN</td>\n",
       "      <td>1</td>\n",
       "      <td>0</td>\n",
       "    </tr>\n",
       "  </tbody>\n",
       "</table>\n",
       "</div>"
      ],
      "text/plain": [
       "         id                                            name   host_id  \\\n",
       "0  14963583          Room in South Harlem near Central Park  94219511   \n",
       "1   9458704  Large 1BR Apartment, near Times Sq (2nd Floor)  49015331   \n",
       "2  26871281                          West Village Apartment    440022   \n",
       "3    698132             LARGE PRIVATE FLOOR IN BROOKLYN, NY   3577509   \n",
       "4  15783953    Sun-drenched apartment, 20 mins to Manhattan  12475280   \n",
       "\n",
       "  host_name neighbourhood_group       neighbourhood  latitude  longitude  \\\n",
       "0    Gilles           Manhattan              Harlem  40.80167  -73.95781   \n",
       "1     Iradj           Manhattan      Hell's Kitchen  40.76037  -73.99016   \n",
       "2    Petter           Manhattan        West Village  40.73001  -74.00562   \n",
       "3      Eric            Brooklyn  Bedford-Stuyvesant  40.69128  -73.93653   \n",
       "4    George            Brooklyn  Bedford-Stuyvesant  40.68899  -73.95555   \n",
       "\n",
       "         room_type  price  minimum_nights  number_of_reviews last_review  \\\n",
       "0     Private room     70               3                  3  2019-01-01   \n",
       "1  Entire home/apt    240               2                 64  2019-06-30   \n",
       "2  Entire home/apt    150              60                  1  2019-02-07   \n",
       "3  Entire home/apt     85               4                239  2019-06-26   \n",
       "4     Private room     44              28                  0         NaN   \n",
       "\n",
       "   reviews_per_month  calculated_host_listings_count  availability_365  \n",
       "0               0.09                               2                 0  \n",
       "1               1.68                               2               262  \n",
       "2               0.20                               1                 0  \n",
       "3               2.89                               2                 1  \n",
       "4                NaN                               1                 0  "
      ]
     },
     "execution_count": 7,
     "metadata": {},
     "output_type": "execute_result"
    }
   ],
   "source": [
    "train.head()"
   ]
  },
  {
   "cell_type": "code",
   "execution_count": 8,
   "id": "df398af9",
   "metadata": {},
   "outputs": [
    {
     "data": {
      "text/html": [
       "<div>\n",
       "<style scoped>\n",
       "    .dataframe tbody tr th:only-of-type {\n",
       "        vertical-align: middle;\n",
       "    }\n",
       "\n",
       "    .dataframe tbody tr th {\n",
       "        vertical-align: top;\n",
       "    }\n",
       "\n",
       "    .dataframe thead th {\n",
       "        text-align: right;\n",
       "    }\n",
       "</style>\n",
       "<table border=\"1\" class=\"dataframe\">\n",
       "  <thead>\n",
       "    <tr style=\"text-align: right;\">\n",
       "      <th></th>\n",
       "      <th>id</th>\n",
       "      <th>name</th>\n",
       "      <th>host_id</th>\n",
       "      <th>host_name</th>\n",
       "      <th>neighbourhood_group</th>\n",
       "      <th>neighbourhood</th>\n",
       "      <th>latitude</th>\n",
       "      <th>longitude</th>\n",
       "      <th>room_type</th>\n",
       "      <th>minimum_nights</th>\n",
       "      <th>number_of_reviews</th>\n",
       "      <th>last_review</th>\n",
       "      <th>reviews_per_month</th>\n",
       "      <th>calculated_host_listings_count</th>\n",
       "      <th>availability_365</th>\n",
       "    </tr>\n",
       "  </thead>\n",
       "  <tbody>\n",
       "    <tr>\n",
       "      <th>0</th>\n",
       "      <td>30913224</td>\n",
       "      <td>Cozy and Sunny Room Williamsburg, Luxury Building</td>\n",
       "      <td>33771081</td>\n",
       "      <td>Rémy</td>\n",
       "      <td>Brooklyn</td>\n",
       "      <td>Williamsburg</td>\n",
       "      <td>40.70959</td>\n",
       "      <td>-73.94652</td>\n",
       "      <td>Private room</td>\n",
       "      <td>3</td>\n",
       "      <td>2</td>\n",
       "      <td>2019-05-08</td>\n",
       "      <td>0.31</td>\n",
       "      <td>1</td>\n",
       "      <td>0</td>\n",
       "    </tr>\n",
       "    <tr>\n",
       "      <th>1</th>\n",
       "      <td>971247</td>\n",
       "      <td>Sunny Artist Live/Work Apartment</td>\n",
       "      <td>5308961</td>\n",
       "      <td>Larry</td>\n",
       "      <td>Manhattan</td>\n",
       "      <td>Upper West Side</td>\n",
       "      <td>40.79368</td>\n",
       "      <td>-73.96487</td>\n",
       "      <td>Entire home/apt</td>\n",
       "      <td>3</td>\n",
       "      <td>159</td>\n",
       "      <td>2019-07-03</td>\n",
       "      <td>2.09</td>\n",
       "      <td>1</td>\n",
       "      <td>244</td>\n",
       "    </tr>\n",
       "    <tr>\n",
       "      <th>2</th>\n",
       "      <td>414801</td>\n",
       "      <td>Industrial Brooklyn Loft with Tree-Lined Windows</td>\n",
       "      <td>319077</td>\n",
       "      <td>Shell</td>\n",
       "      <td>Brooklyn</td>\n",
       "      <td>Clinton Hill</td>\n",
       "      <td>40.68722</td>\n",
       "      <td>-73.96289</td>\n",
       "      <td>Entire home/apt</td>\n",
       "      <td>1</td>\n",
       "      <td>54</td>\n",
       "      <td>2019-03-24</td>\n",
       "      <td>0.65</td>\n",
       "      <td>4</td>\n",
       "      <td>365</td>\n",
       "    </tr>\n",
       "    <tr>\n",
       "      <th>3</th>\n",
       "      <td>21815842</td>\n",
       "      <td>Spacious 2 bedroom in beautiful Clinton Hill</td>\n",
       "      <td>1931990</td>\n",
       "      <td>Yarden</td>\n",
       "      <td>Brooklyn</td>\n",
       "      <td>Clinton Hill</td>\n",
       "      <td>40.68859</td>\n",
       "      <td>-73.96035</td>\n",
       "      <td>Entire home/apt</td>\n",
       "      <td>3</td>\n",
       "      <td>2</td>\n",
       "      <td>2018-05-11</td>\n",
       "      <td>0.13</td>\n",
       "      <td>1</td>\n",
       "      <td>0</td>\n",
       "    </tr>\n",
       "    <tr>\n",
       "      <th>4</th>\n",
       "      <td>13576581</td>\n",
       "      <td>Modern Central Park Apartment close to everything</td>\n",
       "      <td>78325795</td>\n",
       "      <td>Bozhena</td>\n",
       "      <td>Manhattan</td>\n",
       "      <td>Harlem</td>\n",
       "      <td>40.80573</td>\n",
       "      <td>-73.94994</td>\n",
       "      <td>Entire home/apt</td>\n",
       "      <td>1</td>\n",
       "      <td>160</td>\n",
       "      <td>2019-06-23</td>\n",
       "      <td>4.31</td>\n",
       "      <td>3</td>\n",
       "      <td>246</td>\n",
       "    </tr>\n",
       "  </tbody>\n",
       "</table>\n",
       "</div>"
      ],
      "text/plain": [
       "         id                                               name   host_id  \\\n",
       "0  30913224  Cozy and Sunny Room Williamsburg, Luxury Building  33771081   \n",
       "1    971247                   Sunny Artist Live/Work Apartment   5308961   \n",
       "2    414801   Industrial Brooklyn Loft with Tree-Lined Windows    319077   \n",
       "3  21815842       Spacious 2 bedroom in beautiful Clinton Hill   1931990   \n",
       "4  13576581  Modern Central Park Apartment close to everything  78325795   \n",
       "\n",
       "  host_name neighbourhood_group    neighbourhood  latitude  longitude  \\\n",
       "0      Rémy            Brooklyn     Williamsburg  40.70959  -73.94652   \n",
       "1     Larry           Manhattan  Upper West Side  40.79368  -73.96487   \n",
       "2     Shell            Brooklyn     Clinton Hill  40.68722  -73.96289   \n",
       "3    Yarden            Brooklyn     Clinton Hill  40.68859  -73.96035   \n",
       "4   Bozhena           Manhattan           Harlem  40.80573  -73.94994   \n",
       "\n",
       "         room_type  minimum_nights  number_of_reviews last_review  \\\n",
       "0     Private room               3                  2  2019-05-08   \n",
       "1  Entire home/apt               3                159  2019-07-03   \n",
       "2  Entire home/apt               1                 54  2019-03-24   \n",
       "3  Entire home/apt               3                  2  2018-05-11   \n",
       "4  Entire home/apt               1                160  2019-06-23   \n",
       "\n",
       "   reviews_per_month  calculated_host_listings_count  availability_365  \n",
       "0               0.31                               1                 0  \n",
       "1               2.09                               1               244  \n",
       "2               0.65                               4               365  \n",
       "3               0.13                               1                 0  \n",
       "4               4.31                               3               246  "
      ]
     },
     "execution_count": 8,
     "metadata": {},
     "output_type": "execute_result"
    }
   ],
   "source": [
    "test.head()"
   ]
  },
  {
   "cell_type": "code",
   "execution_count": 9,
   "id": "d82dc642",
   "metadata": {},
   "outputs": [
    {
     "name": "stdout",
     "output_type": "stream",
     "text": [
      "<class 'pandas.core.frame.DataFrame'>\n",
      "RangeIndex: 39116 entries, 0 to 39115\n",
      "Data columns (total 16 columns):\n",
      " #   Column                          Non-Null Count  Dtype  \n",
      "---  ------                          --------------  -----  \n",
      " 0   id                              39116 non-null  int64  \n",
      " 1   name                            39104 non-null  object \n",
      " 2   host_id                         39116 non-null  int64  \n",
      " 3   host_name                       39099 non-null  object \n",
      " 4   neighbourhood_group             39116 non-null  object \n",
      " 5   neighbourhood                   39116 non-null  object \n",
      " 6   latitude                        39116 non-null  float64\n",
      " 7   longitude                       39116 non-null  float64\n",
      " 8   room_type                       39116 non-null  object \n",
      " 9   price                           39116 non-null  int64  \n",
      " 10  minimum_nights                  39116 non-null  int64  \n",
      " 11  number_of_reviews               39116 non-null  int64  \n",
      " 12  last_review                     31122 non-null  object \n",
      " 13  reviews_per_month               31122 non-null  float64\n",
      " 14  calculated_host_listings_count  39116 non-null  int64  \n",
      " 15  availability_365                39116 non-null  int64  \n",
      "dtypes: float64(3), int64(7), object(6)\n",
      "memory usage: 4.8+ MB\n"
     ]
    }
   ],
   "source": [
    "train.info()"
   ]
  },
  {
   "cell_type": "code",
   "execution_count": 10,
   "id": "87fcb527",
   "metadata": {},
   "outputs": [
    {
     "data": {
      "text/plain": [
       "id                                0.000000\n",
       "name                              0.000409\n",
       "host_id                           0.000000\n",
       "host_name                         0.000409\n",
       "neighbourhood_group               0.000000\n",
       "neighbourhood                     0.000000\n",
       "latitude                          0.000000\n",
       "longitude                         0.000000\n",
       "room_type                         0.000000\n",
       "minimum_nights                    0.000000\n",
       "number_of_reviews                 0.000000\n",
       "last_review                       0.210451\n",
       "reviews_per_month                 0.210451\n",
       "calculated_host_listings_count    0.000000\n",
       "availability_365                  0.000000\n",
       "dtype: float64"
      ]
     },
     "execution_count": 10,
     "metadata": {},
     "output_type": "execute_result"
    }
   ],
   "source": [
    "test.isna().mean()"
   ]
  },
  {
   "cell_type": "code",
   "execution_count": 11,
   "id": "7915653e",
   "metadata": {},
   "outputs": [
    {
     "data": {
      "text/plain": [
       "id                                0.000000\n",
       "name                              0.000307\n",
       "host_id                           0.000000\n",
       "host_name                         0.000435\n",
       "neighbourhood_group               0.000000\n",
       "neighbourhood                     0.000000\n",
       "latitude                          0.000000\n",
       "longitude                         0.000000\n",
       "room_type                         0.000000\n",
       "price                             0.000000\n",
       "minimum_nights                    0.000000\n",
       "number_of_reviews                 0.000000\n",
       "last_review                       0.204366\n",
       "reviews_per_month                 0.204366\n",
       "calculated_host_listings_count    0.000000\n",
       "availability_365                  0.000000\n",
       "dtype: float64"
      ]
     },
     "execution_count": 11,
     "metadata": {},
     "output_type": "execute_result"
    }
   ],
   "source": [
    "train.isna().mean()"
   ]
  },
  {
   "cell_type": "code",
   "execution_count": 12,
   "id": "a467d9b9",
   "metadata": {},
   "outputs": [
    {
     "data": {
      "text/plain": [
       "<AxesSubplot:>"
      ]
     },
     "execution_count": 12,
     "metadata": {},
     "output_type": "execute_result"
    },
    {
     "data": {
      "image/png": "[encoded data removed]",
      "text/plain": [
       "<Figure size 432x288 with 1 Axes>"
      ]
     },
     "metadata": {
      "needs_background": "light"
     },
     "output_type": "display_data"
    }
   ],
   "source": [
    "train['price'].hist()"
   ]
  },
  {
   "cell_type": "code",
   "execution_count": 13,
   "id": "36c086a1",
   "metadata": {},
   "outputs": [
    {
     "data": {
      "text/plain": [
       "count    39116.000000\n",
       "mean       152.751150\n",
       "std        241.752501\n",
       "min          0.000000\n",
       "25%         69.000000\n",
       "50%        105.000000\n",
       "75%        175.000000\n",
       "max      10000.000000\n",
       "Name: price, dtype: float64"
      ]
     },
     "execution_count": 13,
     "metadata": {},
     "output_type": "execute_result"
    }
   ],
   "source": [
    "train['price'].describe()"
   ]
  },
  {
   "cell_type": "markdown",
   "id": "c5423a48",
   "metadata": {},
   "source": [
    "# Preprocessing"
   ]
  },
  {
   "cell_type": "code",
   "execution_count": 14,
   "id": "757a0b17",
   "metadata": {},
   "outputs": [],
   "source": [
    "# missing v\n",
    "\n",
    "train = train.drop('last_review', axis=1)\n",
    "test = test.drop('last_review', axis=1)"
   ]
  },
  {
   "cell_type": "code",
   "execution_count": 15,
   "id": "65ba72fd",
   "metadata": {},
   "outputs": [],
   "source": [
    "train['reviews_per_month'] = train['reviews_per_month'].fillna(0)\n",
    "test['reviews_per_month'] = test['reviews_per_month'].fillna(0)"
   ]
  },
  {
   "cell_type": "code",
   "execution_count": 69,
   "id": "f060a5ac",
   "metadata": {},
   "outputs": [
    {
     "data": {
      "text/plain": [
       "0    0.000171\n",
       "dtype: float64"
      ]
     },
     "execution_count": 69,
     "metadata": {},
     "output_type": "execute_result"
    }
   ],
   "source": [
    "train['reviews_per_month'].mode()"
   ]
  },
  {
   "cell_type": "code",
   "execution_count": 21,
   "id": "6792e074",
   "metadata": {},
   "outputs": [
    {
     "data": {
      "text/plain": [
       "host_id                           0.0\n",
       "latitude                          0.0\n",
       "longitude                         0.0\n",
       "minimum_nights                    0.0\n",
       "number_of_reviews                 0.0\n",
       "reviews_per_month                 0.0\n",
       "calculated_host_listings_count    0.0\n",
       "availability_365                  0.0\n",
       "dtype: float64"
      ]
     },
     "execution_count": 21,
     "metadata": {},
     "output_type": "execute_result"
    }
   ],
   "source": [
    "train.isna().mean()"
   ]
  },
  {
   "cell_type": "code",
   "execution_count": 16,
   "id": "b9e0f990",
   "metadata": {},
   "outputs": [],
   "source": [
    "target = train['price'].copy()\n",
    "train = train.drop('price', axis=1)"
   ]
  },
  {
   "cell_type": "code",
   "execution_count": 17,
   "id": "34c429f8",
   "metadata": {},
   "outputs": [
    {
     "data": {
      "text/plain": [
       "Index(['id', 'name', 'host_id', 'host_name', 'neighbourhood_group',\n",
       "       'neighbourhood', 'latitude', 'longitude', 'room_type', 'minimum_nights',\n",
       "       'number_of_reviews', 'reviews_per_month',\n",
       "       'calculated_host_listings_count', 'availability_365'],\n",
       "      dtype='object')"
      ]
     },
     "execution_count": 17,
     "metadata": {},
     "output_type": "execute_result"
    }
   ],
   "source": [
    "train.columns"
   ]
  },
  {
   "cell_type": "code",
   "execution_count": 18,
   "id": "e5a4ac14",
   "metadata": {},
   "outputs": [],
   "source": [
    "cols = [\n",
    "    'host_id', \n",
    "        'latitude', 'longitude', 'minimum_nights',\n",
    "       'number_of_reviews', 'reviews_per_month',\n",
    "       'calculated_host_listings_count', 'availability_365'\n",
    "]\n",
    "\n",
    "train = train[cols]\n",
    "test = test[cols]"
   ]
  },
  {
   "cell_type": "code",
   "execution_count": 19,
   "id": "ab276ff9",
   "metadata": {},
   "outputs": [
    {
     "data": {
      "text/plain": [
       "((31292, 8), (7824, 8), (31292,))"
      ]
     },
     "execution_count": 19,
     "metadata": {},
     "output_type": "execute_result"
    }
   ],
   "source": [
    "from sklearn.model_selection import train_test_split\n",
    "\n",
    "X_train, X_val, y_train, y_val = train_test_split(train, target, test_size = 0.2, random_state=42)\n",
    "\n",
    "X_train.shape, X_val.shape, y_train.shape\n"
   ]
  },
  {
   "cell_type": "code",
   "execution_count": 20,
   "id": "64c887c0",
   "metadata": {},
   "outputs": [
    {
     "data": {
      "text/plain": [
       "67796.95068935587"
      ]
     },
     "execution_count": 20,
     "metadata": {},
     "output_type": "execute_result"
    }
   ],
   "source": [
    "from sklearn.linear_model import LinearRegression\n",
    "from sklearn.metrics import mean_squared_error\n",
    "\n",
    "model = LinearRegression()\n",
    "\n",
    "model.fit(X_train, y_train)\n",
    "pred = model.predict(X_val)\n",
    "\n",
    "mean_squared_error(y_val, pred)"
   ]
  },
  {
   "cell_type": "code",
   "execution_count": 22,
   "id": "d66ab2e6",
   "metadata": {},
   "outputs": [
    {
     "name": "stderr",
     "output_type": "stream",
     "text": [
      "/opt/conda/lib/python3.9/site-packages/sklearn/linear_model/_ridge.py:156: LinAlgWarning: Ill-conditioned matrix (rcond=3.08285e-19): result may not be accurate.\n",
      "  return linalg.solve(A, Xy, sym_pos=True, overwrite_a=True).T\n"
     ]
    },
    {
     "data": {
      "text/plain": [
       "67802.68271430826"
      ]
     },
     "execution_count": 22,
     "metadata": {},
     "output_type": "execute_result"
    }
   ],
   "source": [
    "from sklearn.linear_model import Ridge\n",
    "\n",
    "model = Ridge()\n",
    "model.fit(X_train, y_train)\n",
    "\n",
    "pred = model.predict(X_val)\n",
    "\n",
    "mean_squared_error(y_val, pred)"
   ]
  },
  {
   "cell_type": "code",
   "execution_count": 25,
   "id": "49d68f6a",
   "metadata": {},
   "outputs": [
    {
     "name": "stderr",
     "output_type": "stream",
     "text": [
      "/opt/conda/lib/python3.9/site-packages/pkg_resources/__init__.py:122: PkgResourcesDeprecationWarning: 0.996-ko-0.9.2 is an invalid version and will not be supported in a future release\n",
      "  warnings.warn(\n"
     ]
    },
    {
     "data": {
      "text/plain": [
       "65284.980125509835"
      ]
     },
     "execution_count": 25,
     "metadata": {},
     "output_type": "execute_result"
    }
   ],
   "source": [
    "# XGBoost\n",
    "\n",
    "from xgboost import XGBRegressor\n",
    "\n",
    "model = XGBRegressor(random_state = 42)\n",
    "\n",
    "model.fit(X_train, y_train)\n",
    "pred = model.predict(X_val)\n",
    "\n",
    "mean_squared_error(y_val, pred)"
   ]
  },
  {
   "cell_type": "code",
   "execution_count": 26,
   "id": "e62714cb",
   "metadata": {},
   "outputs": [
    {
     "data": {
      "text/plain": [
       "50020.96886091523"
      ]
     },
     "execution_count": 26,
     "metadata": {},
     "output_type": "execute_result"
    }
   ],
   "source": [
    "y_test = pd.read_csv('~/data/y_test.csv')\n",
    "\n",
    "#XGBoost\n",
    "pred = model.predict(test)\n",
    "mean_squared_error(y_test, pred)"
   ]
  },
  {
   "cell_type": "markdown",
   "id": "ee20bd2c",
   "metadata": {},
   "source": [
    "# 이상 Baseline"
   ]
  },
  {
   "cell_type": "code",
   "execution_count": 41,
   "id": "311b31ff",
   "metadata": {},
   "outputs": [],
   "source": [
    "train = pd.read_csv('~/data/train.csv')\n",
    "test = pd.read_csv('~/data/test.csv')\n"
   ]
  },
  {
   "cell_type": "code",
   "execution_count": 61,
   "id": "6f8b9af0",
   "metadata": {},
   "outputs": [],
   "source": [
    "train = train.drop('last_review', axis=1)\n",
    "test = test.drop('last_review', axis=1)"
   ]
  },
  {
   "cell_type": "code",
   "execution_count": 42,
   "id": "a4161de1",
   "metadata": {},
   "outputs": [
    {
     "data": {
      "text/plain": [
       "<AxesSubplot:>"
      ]
     },
     "execution_count": 42,
     "metadata": {},
     "output_type": "execute_result"
    },
    {
     "data": {
      "image/png": "[encoded data removed]",
      "text/plain": [
       "<Figure size 432x288 with 1 Axes>"
      ]
     },
     "metadata": {
      "needs_background": "light"
     },
     "output_type": "display_data"
    }
   ],
   "source": [
    "train['price'].hist()"
   ]
  },
  {
   "cell_type": "code",
   "execution_count": 43,
   "id": "83d32588",
   "metadata": {},
   "outputs": [
    {
     "name": "stdout",
     "output_type": "stream",
     "text": [
      "0    4.262680\n",
      "1    5.484797\n",
      "2    5.017280\n",
      "Name: price, dtype: float64\n",
      "0     70.0\n",
      "1    240.0\n",
      "2    150.0\n",
      "Name: price, dtype: float64\n"
     ]
    }
   ],
   "source": [
    "import numpy as np\n",
    "\n",
    "train['price'][:3]\n",
    "print(np.log1p(train['price'][:3]))\n",
    "print(np.expm1(np.log1p(train['price'][:3])))\n"
   ]
  },
  {
   "cell_type": "code",
   "execution_count": 44,
   "id": "514e39b6",
   "metadata": {},
   "outputs": [
    {
     "data": {
      "text/plain": [
       "<AxesSubplot:>"
      ]
     },
     "execution_count": 44,
     "metadata": {},
     "output_type": "execute_result"
    },
    {
     "data": {
      "image/png": "[encoded data removed]",
      "text/plain": [
       "<Figure size 432x288 with 1 Axes>"
      ]
     },
     "metadata": {
      "needs_background": "light"
     },
     "output_type": "display_data"
    }
   ],
   "source": [
    "train['price'] = np.log1p(train['price'])\n",
    "train['price'].hist(bins=100)"
   ]
  },
  {
   "cell_type": "code",
   "execution_count": 87,
   "id": "635adad4",
   "metadata": {},
   "outputs": [
    {
     "data": {
      "text/plain": [
       "count    39116.000000\n",
       "mean         4.737628\n",
       "std          0.694731\n",
       "min          0.000000\n",
       "25%          4.248495\n",
       "50%          4.663439\n",
       "75%          5.170484\n",
       "max          9.210440\n",
       "Name: price, dtype: float64"
      ]
     },
     "execution_count": 87,
     "metadata": {},
     "output_type": "execute_result"
    }
   ],
   "source": [
    "train['price'].describe()"
   ]
  },
  {
   "cell_type": "code",
   "execution_count": 45,
   "id": "4aacf2cc",
   "metadata": {},
   "outputs": [],
   "source": [
    "n_train = train.select_dtypes(exclude='object').copy()\n",
    "c_train = train.select_dtypes(include='object').copy()\n",
    "\n",
    "n_test = test.select_dtypes(exclude='object').copy()\n",
    "c_test = test.select_dtypes(include='object').copy()\n"
   ]
  },
  {
   "cell_type": "code",
   "execution_count": 46,
   "id": "c8d40126",
   "metadata": {},
   "outputs": [
    {
     "data": {
      "text/html": [
       "<div>\n",
       "<style scoped>\n",
       "    .dataframe tbody tr th:only-of-type {\n",
       "        vertical-align: middle;\n",
       "    }\n",
       "\n",
       "    .dataframe tbody tr th {\n",
       "        vertical-align: top;\n",
       "    }\n",
       "\n",
       "    .dataframe thead th {\n",
       "        text-align: right;\n",
       "    }\n",
       "</style>\n",
       "<table border=\"1\" class=\"dataframe\">\n",
       "  <thead>\n",
       "    <tr style=\"text-align: right;\">\n",
       "      <th></th>\n",
       "      <th>id</th>\n",
       "      <th>host_id</th>\n",
       "      <th>latitude</th>\n",
       "      <th>longitude</th>\n",
       "      <th>price</th>\n",
       "      <th>minimum_nights</th>\n",
       "      <th>number_of_reviews</th>\n",
       "      <th>reviews_per_month</th>\n",
       "      <th>calculated_host_listings_count</th>\n",
       "      <th>availability_365</th>\n",
       "    </tr>\n",
       "  </thead>\n",
       "  <tbody>\n",
       "    <tr>\n",
       "      <th>count</th>\n",
       "      <td>3.911600e+04</td>\n",
       "      <td>3.911600e+04</td>\n",
       "      <td>39116.000000</td>\n",
       "      <td>39116.000000</td>\n",
       "      <td>39116.000000</td>\n",
       "      <td>39116.000000</td>\n",
       "      <td>39116.000000</td>\n",
       "      <td>31122.000000</td>\n",
       "      <td>39116.000000</td>\n",
       "      <td>39116.000000</td>\n",
       "    </tr>\n",
       "    <tr>\n",
       "      <th>mean</th>\n",
       "      <td>1.898464e+07</td>\n",
       "      <td>6.774143e+07</td>\n",
       "      <td>40.728848</td>\n",
       "      <td>-73.952125</td>\n",
       "      <td>4.737628</td>\n",
       "      <td>6.990720</td>\n",
       "      <td>23.272855</td>\n",
       "      <td>1.372444</td>\n",
       "      <td>7.090756</td>\n",
       "      <td>112.980826</td>\n",
       "    </tr>\n",
       "    <tr>\n",
       "      <th>std</th>\n",
       "      <td>1.099302e+07</td>\n",
       "      <td>7.881383e+07</td>\n",
       "      <td>0.054499</td>\n",
       "      <td>0.046354</td>\n",
       "      <td>0.694731</td>\n",
       "      <td>20.310323</td>\n",
       "      <td>44.589170</td>\n",
       "      <td>1.683963</td>\n",
       "      <td>32.661136</td>\n",
       "      <td>131.674306</td>\n",
       "    </tr>\n",
       "    <tr>\n",
       "      <th>min</th>\n",
       "      <td>2.539000e+03</td>\n",
       "      <td>2.438000e+03</td>\n",
       "      <td>40.499790</td>\n",
       "      <td>-74.244420</td>\n",
       "      <td>0.000000</td>\n",
       "      <td>1.000000</td>\n",
       "      <td>0.000000</td>\n",
       "      <td>0.010000</td>\n",
       "      <td>1.000000</td>\n",
       "      <td>0.000000</td>\n",
       "    </tr>\n",
       "    <tr>\n",
       "      <th>25%</th>\n",
       "      <td>9.412608e+06</td>\n",
       "      <td>7.834978e+06</td>\n",
       "      <td>40.690038</td>\n",
       "      <td>-73.983190</td>\n",
       "      <td>4.248495</td>\n",
       "      <td>1.000000</td>\n",
       "      <td>1.000000</td>\n",
       "      <td>0.190000</td>\n",
       "      <td>1.000000</td>\n",
       "      <td>0.000000</td>\n",
       "    </tr>\n",
       "    <tr>\n",
       "      <th>50%</th>\n",
       "      <td>1.963650e+07</td>\n",
       "      <td>3.070949e+07</td>\n",
       "      <td>40.723000</td>\n",
       "      <td>-73.955740</td>\n",
       "      <td>4.663439</td>\n",
       "      <td>2.000000</td>\n",
       "      <td>5.000000</td>\n",
       "      <td>0.710000</td>\n",
       "      <td>1.000000</td>\n",
       "      <td>45.000000</td>\n",
       "    </tr>\n",
       "    <tr>\n",
       "      <th>75%</th>\n",
       "      <td>2.913445e+07</td>\n",
       "      <td>1.074344e+08</td>\n",
       "      <td>40.762943</td>\n",
       "      <td>-73.936338</td>\n",
       "      <td>5.170484</td>\n",
       "      <td>5.000000</td>\n",
       "      <td>23.000000</td>\n",
       "      <td>2.010000</td>\n",
       "      <td>2.000000</td>\n",
       "      <td>228.000000</td>\n",
       "    </tr>\n",
       "    <tr>\n",
       "      <th>max</th>\n",
       "      <td>3.648561e+07</td>\n",
       "      <td>2.743213e+08</td>\n",
       "      <td>40.912340</td>\n",
       "      <td>-73.712990</td>\n",
       "      <td>9.210440</td>\n",
       "      <td>1250.000000</td>\n",
       "      <td>629.000000</td>\n",
       "      <td>58.500000</td>\n",
       "      <td>327.000000</td>\n",
       "      <td>365.000000</td>\n",
       "    </tr>\n",
       "  </tbody>\n",
       "</table>\n",
       "</div>"
      ],
      "text/plain": [
       "                 id       host_id      latitude     longitude         price  \\\n",
       "count  3.911600e+04  3.911600e+04  39116.000000  39116.000000  39116.000000   \n",
       "mean   1.898464e+07  6.774143e+07     40.728848    -73.952125      4.737628   \n",
       "std    1.099302e+07  7.881383e+07      0.054499      0.046354      0.694731   \n",
       "min    2.539000e+03  2.438000e+03     40.499790    -74.244420      0.000000   \n",
       "25%    9.412608e+06  7.834978e+06     40.690038    -73.983190      4.248495   \n",
       "50%    1.963650e+07  3.070949e+07     40.723000    -73.955740      4.663439   \n",
       "75%    2.913445e+07  1.074344e+08     40.762943    -73.936338      5.170484   \n",
       "max    3.648561e+07  2.743213e+08     40.912340    -73.712990      9.210440   \n",
       "\n",
       "       minimum_nights  number_of_reviews  reviews_per_month  \\\n",
       "count    39116.000000       39116.000000       31122.000000   \n",
       "mean         6.990720          23.272855           1.372444   \n",
       "std         20.310323          44.589170           1.683963   \n",
       "min          1.000000           0.000000           0.010000   \n",
       "25%          1.000000           1.000000           0.190000   \n",
       "50%          2.000000           5.000000           0.710000   \n",
       "75%          5.000000          23.000000           2.010000   \n",
       "max       1250.000000         629.000000          58.500000   \n",
       "\n",
       "       calculated_host_listings_count  availability_365  \n",
       "count                    39116.000000      39116.000000  \n",
       "mean                         7.090756        112.980826  \n",
       "std                         32.661136        131.674306  \n",
       "min                          1.000000          0.000000  \n",
       "25%                          1.000000          0.000000  \n",
       "50%                          1.000000         45.000000  \n",
       "75%                          2.000000        228.000000  \n",
       "max                        327.000000        365.000000  "
      ]
     },
     "execution_count": 46,
     "metadata": {},
     "output_type": "execute_result"
    }
   ],
   "source": [
    "n_train.describe()"
   ]
  },
  {
   "cell_type": "code",
   "execution_count": 49,
   "id": "b51271b4",
   "metadata": {},
   "outputs": [
    {
     "data": {
      "text/html": [
       "<div>\n",
       "<style scoped>\n",
       "    .dataframe tbody tr th:only-of-type {\n",
       "        vertical-align: middle;\n",
       "    }\n",
       "\n",
       "    .dataframe tbody tr th {\n",
       "        vertical-align: top;\n",
       "    }\n",
       "\n",
       "    .dataframe thead th {\n",
       "        text-align: right;\n",
       "    }\n",
       "</style>\n",
       "<table border=\"1\" class=\"dataframe\">\n",
       "  <thead>\n",
       "    <tr style=\"text-align: right;\">\n",
       "      <th></th>\n",
       "      <th>id</th>\n",
       "      <th>host_id</th>\n",
       "      <th>latitude</th>\n",
       "      <th>longitude</th>\n",
       "      <th>price</th>\n",
       "      <th>minimum_nights</th>\n",
       "      <th>number_of_reviews</th>\n",
       "      <th>reviews_per_month</th>\n",
       "      <th>calculated_host_listings_count</th>\n",
       "      <th>availability_365</th>\n",
       "    </tr>\n",
       "  </thead>\n",
       "  <tbody>\n",
       "    <tr>\n",
       "      <th>0</th>\n",
       "      <td>14963583</td>\n",
       "      <td>0.343458</td>\n",
       "      <td>0.731742</td>\n",
       "      <td>0.539318</td>\n",
       "      <td>4.26268</td>\n",
       "      <td>0.001601</td>\n",
       "      <td>0.004769</td>\n",
       "      <td>0.001368</td>\n",
       "      <td>0.003067</td>\n",
       "      <td>0.0</td>\n",
       "    </tr>\n",
       "  </tbody>\n",
       "</table>\n",
       "</div>"
      ],
      "text/plain": [
       "         id   host_id  latitude  longitude    price  minimum_nights  \\\n",
       "0  14963583  0.343458  0.731742   0.539318  4.26268        0.001601   \n",
       "\n",
       "   number_of_reviews  reviews_per_month  calculated_host_listings_count  \\\n",
       "0           0.004769           0.001368                        0.003067   \n",
       "\n",
       "   availability_365  \n",
       "0               0.0  "
      ]
     },
     "metadata": {},
     "output_type": "display_data"
    },
    {
     "data": {
      "text/html": [
       "<div>\n",
       "<style scoped>\n",
       "    .dataframe tbody tr th:only-of-type {\n",
       "        vertical-align: middle;\n",
       "    }\n",
       "\n",
       "    .dataframe tbody tr th {\n",
       "        vertical-align: top;\n",
       "    }\n",
       "\n",
       "    .dataframe thead th {\n",
       "        text-align: right;\n",
       "    }\n",
       "</style>\n",
       "<table border=\"1\" class=\"dataframe\">\n",
       "  <thead>\n",
       "    <tr style=\"text-align: right;\">\n",
       "      <th></th>\n",
       "      <th>id</th>\n",
       "      <th>host_id</th>\n",
       "      <th>latitude</th>\n",
       "      <th>longitude</th>\n",
       "      <th>price</th>\n",
       "      <th>minimum_nights</th>\n",
       "      <th>number_of_reviews</th>\n",
       "      <th>reviews_per_month</th>\n",
       "      <th>calculated_host_listings_count</th>\n",
       "      <th>availability_365</th>\n",
       "    </tr>\n",
       "  </thead>\n",
       "  <tbody>\n",
       "    <tr>\n",
       "      <th>0</th>\n",
       "      <td>14963583</td>\n",
       "      <td>0.343458</td>\n",
       "      <td>0.731742</td>\n",
       "      <td>0.539318</td>\n",
       "      <td>4.26268</td>\n",
       "      <td>0.001601</td>\n",
       "      <td>0.004769</td>\n",
       "      <td>0.001368</td>\n",
       "      <td>0.003067</td>\n",
       "      <td>0.0</td>\n",
       "    </tr>\n",
       "  </tbody>\n",
       "</table>\n",
       "</div>"
      ],
      "text/plain": [
       "         id   host_id  latitude  longitude    price  minimum_nights  \\\n",
       "0  14963583  0.343458  0.731742   0.539318  4.26268        0.001601   \n",
       "\n",
       "   number_of_reviews  reviews_per_month  calculated_host_listings_count  \\\n",
       "0           0.004769           0.001368                        0.003067   \n",
       "\n",
       "   availability_365  \n",
       "0               0.0  "
      ]
     },
     "metadata": {},
     "output_type": "display_data"
    }
   ],
   "source": [
    "# numeric columns -> scaling\n",
    "\n",
    "from sklearn.preprocessing import MinMaxScaler\n",
    "\n",
    "scaler = MinMaxScaler()\n",
    "\n",
    "cols = [\n",
    "    'host_id', \n",
    "        'latitude', 'longitude', 'minimum_nights',\n",
    "       'number_of_reviews', 'reviews_per_month',\n",
    "       'calculated_host_listings_count', 'availability_365'\n",
    "]\n",
    "\n",
    "display(n_train.head(1))\n",
    "\n",
    "n_train[cols] = scaler.fit_transform(n_train[cols])\n",
    "n_test[cols] = scaler.fit_transform(n_test[cols])\n",
    "\n",
    "display(n_train.head(1))\n"
   ]
  },
  {
   "cell_type": "code",
   "execution_count": 50,
   "id": "3c9ddb31",
   "metadata": {},
   "outputs": [],
   "source": [
    "n_train.drop('id', axis=1, inplace=True)"
   ]
  },
  {
   "cell_type": "code",
   "execution_count": 51,
   "id": "47885a30",
   "metadata": {},
   "outputs": [],
   "source": [
    "n_test.drop('id', axis=1, inplace=True)"
   ]
  },
  {
   "cell_type": "code",
   "execution_count": 52,
   "id": "99a144ba",
   "metadata": {},
   "outputs": [
    {
     "data": {
      "text/html": [
       "<div>\n",
       "<style scoped>\n",
       "    .dataframe tbody tr th:only-of-type {\n",
       "        vertical-align: middle;\n",
       "    }\n",
       "\n",
       "    .dataframe tbody tr th {\n",
       "        vertical-align: top;\n",
       "    }\n",
       "\n",
       "    .dataframe thead th {\n",
       "        text-align: right;\n",
       "    }\n",
       "</style>\n",
       "<table border=\"1\" class=\"dataframe\">\n",
       "  <thead>\n",
       "    <tr style=\"text-align: right;\">\n",
       "      <th></th>\n",
       "      <th>name</th>\n",
       "      <th>host_name</th>\n",
       "      <th>neighbourhood_group</th>\n",
       "      <th>neighbourhood</th>\n",
       "      <th>room_type</th>\n",
       "      <th>last_review</th>\n",
       "    </tr>\n",
       "  </thead>\n",
       "  <tbody>\n",
       "    <tr>\n",
       "      <th>0</th>\n",
       "      <td>Room in South Harlem near Central Park</td>\n",
       "      <td>Gilles</td>\n",
       "      <td>Manhattan</td>\n",
       "      <td>Harlem</td>\n",
       "      <td>Private room</td>\n",
       "      <td>2019-01-01</td>\n",
       "    </tr>\n",
       "  </tbody>\n",
       "</table>\n",
       "</div>"
      ],
      "text/plain": [
       "                                     name host_name neighbourhood_group  \\\n",
       "0  Room in South Harlem near Central Park    Gilles           Manhattan   \n",
       "\n",
       "  neighbourhood     room_type last_review  \n",
       "0        Harlem  Private room  2019-01-01  "
      ]
     },
     "execution_count": 52,
     "metadata": {},
     "output_type": "execute_result"
    }
   ],
   "source": [
    "c_train.head(1)"
   ]
  },
  {
   "cell_type": "code",
   "execution_count": 53,
   "id": "bac67218",
   "metadata": {},
   "outputs": [
    {
     "data": {
      "text/html": [
       "<div>\n",
       "<style scoped>\n",
       "    .dataframe tbody tr th:only-of-type {\n",
       "        vertical-align: middle;\n",
       "    }\n",
       "\n",
       "    .dataframe tbody tr th {\n",
       "        vertical-align: top;\n",
       "    }\n",
       "\n",
       "    .dataframe thead th {\n",
       "        text-align: right;\n",
       "    }\n",
       "</style>\n",
       "<table border=\"1\" class=\"dataframe\">\n",
       "  <thead>\n",
       "    <tr style=\"text-align: right;\">\n",
       "      <th></th>\n",
       "      <th>name</th>\n",
       "      <th>host_name</th>\n",
       "      <th>neighbourhood_group</th>\n",
       "      <th>neighbourhood</th>\n",
       "      <th>room_type</th>\n",
       "      <th>last_review</th>\n",
       "    </tr>\n",
       "  </thead>\n",
       "  <tbody>\n",
       "    <tr>\n",
       "      <th>count</th>\n",
       "      <td>39104</td>\n",
       "      <td>39099</td>\n",
       "      <td>39116</td>\n",
       "      <td>39116</td>\n",
       "      <td>39116</td>\n",
       "      <td>31122</td>\n",
       "    </tr>\n",
       "    <tr>\n",
       "      <th>unique</th>\n",
       "      <td>38420</td>\n",
       "      <td>9977</td>\n",
       "      <td>5</td>\n",
       "      <td>221</td>\n",
       "      <td>3</td>\n",
       "      <td>1702</td>\n",
       "    </tr>\n",
       "    <tr>\n",
       "      <th>top</th>\n",
       "      <td>Home away from home</td>\n",
       "      <td>Michael</td>\n",
       "      <td>Manhattan</td>\n",
       "      <td>Williamsburg</td>\n",
       "      <td>Entire home/apt</td>\n",
       "      <td>2019-06-23</td>\n",
       "    </tr>\n",
       "    <tr>\n",
       "      <th>freq</th>\n",
       "      <td>15</td>\n",
       "      <td>338</td>\n",
       "      <td>17331</td>\n",
       "      <td>3099</td>\n",
       "      <td>20299</td>\n",
       "      <td>1138</td>\n",
       "    </tr>\n",
       "  </tbody>\n",
       "</table>\n",
       "</div>"
      ],
      "text/plain": [
       "                       name host_name neighbourhood_group neighbourhood  \\\n",
       "count                 39104     39099               39116         39116   \n",
       "unique                38420      9977                   5           221   \n",
       "top     Home away from home   Michael           Manhattan  Williamsburg   \n",
       "freq                     15       338               17331          3099   \n",
       "\n",
       "              room_type last_review  \n",
       "count             39116       31122  \n",
       "unique                3        1702  \n",
       "top     Entire home/apt  2019-06-23  \n",
       "freq              20299        1138  "
      ]
     },
     "execution_count": 53,
     "metadata": {},
     "output_type": "execute_result"
    }
   ],
   "source": [
    "c_train.describe()"
   ]
  },
  {
   "cell_type": "code",
   "execution_count": 54,
   "id": "b03585e0",
   "metadata": {
    "scrolled": true
   },
   "outputs": [
    {
     "data": {
      "text/plain": [
       "Index(['name', 'host_name', 'neighbourhood_group', 'neighbourhood',\n",
       "       'room_type', 'last_review'],\n",
       "      dtype='object')"
      ]
     },
     "execution_count": 54,
     "metadata": {},
     "output_type": "execute_result"
    }
   ],
   "source": [
    "c_train.columns"
   ]
  },
  {
   "cell_type": "code",
   "execution_count": 55,
   "id": "9f7e1246",
   "metadata": {},
   "outputs": [
    {
     "data": {
      "text/html": [
       "<div>\n",
       "<style scoped>\n",
       "    .dataframe tbody tr th:only-of-type {\n",
       "        vertical-align: middle;\n",
       "    }\n",
       "\n",
       "    .dataframe tbody tr th {\n",
       "        vertical-align: top;\n",
       "    }\n",
       "\n",
       "    .dataframe thead th {\n",
       "        text-align: right;\n",
       "    }\n",
       "</style>\n",
       "<table border=\"1\" class=\"dataframe\">\n",
       "  <thead>\n",
       "    <tr style=\"text-align: right;\">\n",
       "      <th></th>\n",
       "      <th>name</th>\n",
       "      <th>host_name</th>\n",
       "      <th>neighbourhood_group</th>\n",
       "      <th>neighbourhood</th>\n",
       "      <th>room_type</th>\n",
       "      <th>last_review</th>\n",
       "    </tr>\n",
       "  </thead>\n",
       "  <tbody>\n",
       "    <tr>\n",
       "      <th>0</th>\n",
       "      <td>Room in South Harlem near Central Park</td>\n",
       "      <td>Gilles</td>\n",
       "      <td>Manhattan</td>\n",
       "      <td>Harlem</td>\n",
       "      <td>Private room</td>\n",
       "      <td>2019-01-01</td>\n",
       "    </tr>\n",
       "  </tbody>\n",
       "</table>\n",
       "</div>"
      ],
      "text/plain": [
       "                                     name host_name neighbourhood_group  \\\n",
       "0  Room in South Harlem near Central Park    Gilles           Manhattan   \n",
       "\n",
       "  neighbourhood     room_type last_review  \n",
       "0        Harlem  Private room  2019-01-01  "
      ]
     },
     "metadata": {},
     "output_type": "display_data"
    },
    {
     "data": {
      "text/html": [
       "<div>\n",
       "<style scoped>\n",
       "    .dataframe tbody tr th:only-of-type {\n",
       "        vertical-align: middle;\n",
       "    }\n",
       "\n",
       "    .dataframe tbody tr th {\n",
       "        vertical-align: top;\n",
       "    }\n",
       "\n",
       "    .dataframe thead th {\n",
       "        text-align: right;\n",
       "    }\n",
       "</style>\n",
       "<table border=\"1\" class=\"dataframe\">\n",
       "  <thead>\n",
       "    <tr style=\"text-align: right;\">\n",
       "      <th></th>\n",
       "      <th>name</th>\n",
       "      <th>host_name</th>\n",
       "      <th>neighbourhood_group</th>\n",
       "      <th>neighbourhood</th>\n",
       "      <th>room_type</th>\n",
       "      <th>last_review</th>\n",
       "    </tr>\n",
       "  </thead>\n",
       "  <tbody>\n",
       "    <tr>\n",
       "      <th>0</th>\n",
       "      <td>Room in South Harlem near Central Park</td>\n",
       "      <td>Gilles</td>\n",
       "      <td>2</td>\n",
       "      <td>94</td>\n",
       "      <td>1</td>\n",
       "      <td>2019-01-01</td>\n",
       "    </tr>\n",
       "  </tbody>\n",
       "</table>\n",
       "</div>"
      ],
      "text/plain": [
       "                                     name host_name  neighbourhood_group  \\\n",
       "0  Room in South Harlem near Central Park    Gilles                    2   \n",
       "\n",
       "   neighbourhood  room_type last_review  \n",
       "0             94          1  2019-01-01  "
      ]
     },
     "metadata": {},
     "output_type": "display_data"
    }
   ],
   "source": [
    "from sklearn.preprocessing import LabelEncoder\n",
    "\n",
    "le = LabelEncoder()\n",
    "\n",
    "cols = [ 'neighbourhood_group', 'neighbourhood',\n",
    "       'room_type'\n",
    "    \n",
    "]\n",
    "\n",
    "display(c_train.head(1))\n",
    "\n",
    "for col in cols:\n",
    "    c_train[col] = le.fit_transform(c_train[col])\n",
    "    c_test[col] = le.transform(c_test[col])\n",
    "    \n",
    "    \n",
    "display(c_train.head(1))\n",
    "    "
   ]
  },
  {
   "cell_type": "code",
   "execution_count": 56,
   "id": "9978ed3e",
   "metadata": {},
   "outputs": [],
   "source": [
    "del_cols = ['name', 'host_name']\n",
    "c_train = c_train.drop(del_cols, axis=1)\n",
    "c_test.drop(del_cols, axis=1, inplace=True)"
   ]
  },
  {
   "cell_type": "code",
   "execution_count": 57,
   "id": "e7de6bb3",
   "metadata": {},
   "outputs": [
    {
     "data": {
      "text/plain": [
       "((39116, 13), (9779, 12))"
      ]
     },
     "execution_count": 57,
     "metadata": {},
     "output_type": "execute_result"
    }
   ],
   "source": [
    "# merge two df\n",
    "\n",
    "train = pd.concat([n_train, c_train], axis=1)\n",
    "test = pd.concat([n_test, c_test], axis=1)\n",
    "\n",
    "train.shape, test.shape"
   ]
  },
  {
   "cell_type": "code",
   "execution_count": 102,
   "id": "40823073",
   "metadata": {},
   "outputs": [
    {
     "data": {
      "text/plain": [
       "9.210440366976517"
      ]
     },
     "execution_count": 102,
     "metadata": {},
     "output_type": "execute_result"
    }
   ],
   "source": [
    "train['price'].max()"
   ]
  },
  {
   "cell_type": "code",
   "execution_count": 105,
   "id": "a4b22a97",
   "metadata": {},
   "outputs": [],
   "source": [
    "target = np.log1p(target)"
   ]
  },
  {
   "cell_type": "code",
   "execution_count": 106,
   "id": "8271223c",
   "metadata": {},
   "outputs": [
    {
     "data": {
      "text/plain": [
       "((31292, 12), (7824, 12), (31292,))"
      ]
     },
     "execution_count": 106,
     "metadata": {},
     "output_type": "execute_result"
    }
   ],
   "source": [
    "# 검증 데이터 분리\n",
    "\n",
    "X_train, X_val, y_train, y_val = train_test_split(train, target, test_size=0.2, random_state=42)\n",
    "X_train.shape, X_val.shape, y_train.shape\n",
    "\n",
    "\n"
   ]
  },
  {
   "cell_type": "code",
   "execution_count": 104,
   "id": "65032cc0",
   "metadata": {},
   "outputs": [
    {
     "data": {
      "text/plain": [
       "0     70\n",
       "1    240\n",
       "2    150\n",
       "3     85\n",
       "4     44\n",
       "Name: price, dtype: int64"
      ]
     },
     "execution_count": 104,
     "metadata": {},
     "output_type": "execute_result"
    }
   ],
   "source": [
    "target.head()"
   ]
  },
  {
   "cell_type": "code",
   "execution_count": 83,
   "id": "781d3352",
   "metadata": {},
   "outputs": [
    {
     "data": {
      "text/plain": [
       "0     70\n",
       "1    240\n",
       "2    150\n",
       "3     85\n",
       "4     44\n",
       "Name: price, dtype: int64"
      ]
     },
     "execution_count": 83,
     "metadata": {},
     "output_type": "execute_result"
    }
   ],
   "source": [
    "target.head()"
   ]
  },
  {
   "cell_type": "code",
   "execution_count": 81,
   "id": "b6db6364",
   "metadata": {},
   "outputs": [
    {
     "data": {
      "text/plain": [
       "host_id                           0.0\n",
       "latitude                          0.0\n",
       "longitude                         0.0\n",
       "price                             0.0\n",
       "minimum_nights                    0.0\n",
       "number_of_reviews                 0.0\n",
       "reviews_per_month                 0.0\n",
       "calculated_host_listings_count    0.0\n",
       "availability_365                  0.0\n",
       "neighbourhood_group               0.0\n",
       "neighbourhood                     0.0\n",
       "room_type                         0.0\n",
       "dtype: float64"
      ]
     },
     "execution_count": 81,
     "metadata": {},
     "output_type": "execute_result"
    }
   ],
   "source": [
    "train.isna().mean()"
   ]
  },
  {
   "cell_type": "code",
   "execution_count": 75,
   "id": "18d55d08",
   "metadata": {},
   "outputs": [],
   "source": [
    "test['reviews_per_month'] = test['reviews_per_month'].fillna(0)\n",
    "train['reviews_per_month'] = train['reviews_per_month'].fillna(0)"
   ]
  },
  {
   "cell_type": "code",
   "execution_count": 84,
   "id": "ebeb3a4b",
   "metadata": {},
   "outputs": [
    {
     "data": {
      "text/html": [
       "<div>\n",
       "<style scoped>\n",
       "    .dataframe tbody tr th:only-of-type {\n",
       "        vertical-align: middle;\n",
       "    }\n",
       "\n",
       "    .dataframe tbody tr th {\n",
       "        vertical-align: top;\n",
       "    }\n",
       "\n",
       "    .dataframe thead th {\n",
       "        text-align: right;\n",
       "    }\n",
       "</style>\n",
       "<table border=\"1\" class=\"dataframe\">\n",
       "  <thead>\n",
       "    <tr style=\"text-align: right;\">\n",
       "      <th></th>\n",
       "      <th>host_id</th>\n",
       "      <th>latitude</th>\n",
       "      <th>longitude</th>\n",
       "      <th>price</th>\n",
       "      <th>minimum_nights</th>\n",
       "      <th>number_of_reviews</th>\n",
       "      <th>reviews_per_month</th>\n",
       "      <th>calculated_host_listings_count</th>\n",
       "      <th>availability_365</th>\n",
       "      <th>neighbourhood_group</th>\n",
       "      <th>neighbourhood</th>\n",
       "      <th>room_type</th>\n",
       "    </tr>\n",
       "  </thead>\n",
       "  <tbody>\n",
       "    <tr>\n",
       "      <th>count</th>\n",
       "      <td>39116.000000</td>\n",
       "      <td>39116.000000</td>\n",
       "      <td>39116.000000</td>\n",
       "      <td>39116.000000</td>\n",
       "      <td>39116.000000</td>\n",
       "      <td>39116.000000</td>\n",
       "      <td>39116.000000</td>\n",
       "      <td>39116.000000</td>\n",
       "      <td>39116.000000</td>\n",
       "      <td>39116.000000</td>\n",
       "      <td>39116.000000</td>\n",
       "      <td>39116.000000</td>\n",
       "    </tr>\n",
       "    <tr>\n",
       "      <th>mean</th>\n",
       "      <td>0.246935</td>\n",
       "      <td>0.555225</td>\n",
       "      <td>0.550016</td>\n",
       "      <td>4.737628</td>\n",
       "      <td>0.004796</td>\n",
       "      <td>0.037000</td>\n",
       "      <td>0.018533</td>\n",
       "      <td>0.018683</td>\n",
       "      <td>0.309537</td>\n",
       "      <td>1.674328</td>\n",
       "      <td>106.870513</td>\n",
       "      <td>0.505113</td>\n",
       "    </tr>\n",
       "    <tr>\n",
       "      <th>std</th>\n",
       "      <td>0.287307</td>\n",
       "      <td>0.132102</td>\n",
       "      <td>0.087225</td>\n",
       "      <td>0.694731</td>\n",
       "      <td>0.016261</td>\n",
       "      <td>0.070889</td>\n",
       "      <td>0.027345</td>\n",
       "      <td>0.100188</td>\n",
       "      <td>0.360752</td>\n",
       "      <td>0.735476</td>\n",
       "      <td>68.593641</td>\n",
       "      <td>0.545981</td>\n",
       "    </tr>\n",
       "    <tr>\n",
       "      <th>min</th>\n",
       "      <td>0.000000</td>\n",
       "      <td>0.000000</td>\n",
       "      <td>0.000000</td>\n",
       "      <td>0.000000</td>\n",
       "      <td>0.000000</td>\n",
       "      <td>0.000000</td>\n",
       "      <td>0.000000</td>\n",
       "      <td>0.000000</td>\n",
       "      <td>0.000000</td>\n",
       "      <td>0.000000</td>\n",
       "      <td>0.000000</td>\n",
       "      <td>0.000000</td>\n",
       "    </tr>\n",
       "    <tr>\n",
       "      <th>25%</th>\n",
       "      <td>0.028553</td>\n",
       "      <td>0.461150</td>\n",
       "      <td>0.491561</td>\n",
       "      <td>4.248495</td>\n",
       "      <td>0.000000</td>\n",
       "      <td>0.001590</td>\n",
       "      <td>0.000513</td>\n",
       "      <td>0.000000</td>\n",
       "      <td>0.000000</td>\n",
       "      <td>1.000000</td>\n",
       "      <td>51.000000</td>\n",
       "      <td>0.000000</td>\n",
       "    </tr>\n",
       "    <tr>\n",
       "      <th>50%</th>\n",
       "      <td>0.111939</td>\n",
       "      <td>0.541050</td>\n",
       "      <td>0.543214</td>\n",
       "      <td>4.663439</td>\n",
       "      <td>0.000801</td>\n",
       "      <td>0.007949</td>\n",
       "      <td>0.006155</td>\n",
       "      <td>0.000000</td>\n",
       "      <td>0.123288</td>\n",
       "      <td>2.000000</td>\n",
       "      <td>94.000000</td>\n",
       "      <td>0.000000</td>\n",
       "    </tr>\n",
       "    <tr>\n",
       "      <th>75%</th>\n",
       "      <td>0.391632</td>\n",
       "      <td>0.637868</td>\n",
       "      <td>0.579724</td>\n",
       "      <td>5.170484</td>\n",
       "      <td>0.003203</td>\n",
       "      <td>0.036566</td>\n",
       "      <td>0.027013</td>\n",
       "      <td>0.003067</td>\n",
       "      <td>0.624658</td>\n",
       "      <td>2.000000</td>\n",
       "      <td>178.000000</td>\n",
       "      <td>1.000000</td>\n",
       "    </tr>\n",
       "    <tr>\n",
       "      <th>max</th>\n",
       "      <td>1.000000</td>\n",
       "      <td>1.000000</td>\n",
       "      <td>1.000000</td>\n",
       "      <td>9.210440</td>\n",
       "      <td>1.000000</td>\n",
       "      <td>1.000000</td>\n",
       "      <td>1.000000</td>\n",
       "      <td>1.000000</td>\n",
       "      <td>1.000000</td>\n",
       "      <td>4.000000</td>\n",
       "      <td>220.000000</td>\n",
       "      <td>2.000000</td>\n",
       "    </tr>\n",
       "  </tbody>\n",
       "</table>\n",
       "</div>"
      ],
      "text/plain": [
       "            host_id      latitude     longitude         price  minimum_nights  \\\n",
       "count  39116.000000  39116.000000  39116.000000  39116.000000    39116.000000   \n",
       "mean       0.246935      0.555225      0.550016      4.737628        0.004796   \n",
       "std        0.287307      0.132102      0.087225      0.694731        0.016261   \n",
       "min        0.000000      0.000000      0.000000      0.000000        0.000000   \n",
       "25%        0.028553      0.461150      0.491561      4.248495        0.000000   \n",
       "50%        0.111939      0.541050      0.543214      4.663439        0.000801   \n",
       "75%        0.391632      0.637868      0.579724      5.170484        0.003203   \n",
       "max        1.000000      1.000000      1.000000      9.210440        1.000000   \n",
       "\n",
       "       number_of_reviews  reviews_per_month  calculated_host_listings_count  \\\n",
       "count       39116.000000       39116.000000                    39116.000000   \n",
       "mean            0.037000           0.018533                        0.018683   \n",
       "std             0.070889           0.027345                        0.100188   \n",
       "min             0.000000           0.000000                        0.000000   \n",
       "25%             0.001590           0.000513                        0.000000   \n",
       "50%             0.007949           0.006155                        0.000000   \n",
       "75%             0.036566           0.027013                        0.003067   \n",
       "max             1.000000           1.000000                        1.000000   \n",
       "\n",
       "       availability_365  neighbourhood_group  neighbourhood     room_type  \n",
       "count      39116.000000         39116.000000   39116.000000  39116.000000  \n",
       "mean           0.309537             1.674328     106.870513      0.505113  \n",
       "std            0.360752             0.735476      68.593641      0.545981  \n",
       "min            0.000000             0.000000       0.000000      0.000000  \n",
       "25%            0.000000             1.000000      51.000000      0.000000  \n",
       "50%            0.123288             2.000000      94.000000      0.000000  \n",
       "75%            0.624658             2.000000     178.000000      1.000000  \n",
       "max            1.000000             4.000000     220.000000      2.000000  "
      ]
     },
     "execution_count": 84,
     "metadata": {},
     "output_type": "execute_result"
    }
   ],
   "source": [
    "train.describe()"
   ]
  },
  {
   "cell_type": "code",
   "execution_count": 85,
   "id": "fe6711a5",
   "metadata": {
    "scrolled": true
   },
   "outputs": [
    {
     "name": "stdout",
     "output_type": "stream",
     "text": [
      "host_id                           0\n",
      "latitude                          0\n",
      "longitude                         0\n",
      "price                             0\n",
      "minimum_nights                    0\n",
      "number_of_reviews                 0\n",
      "reviews_per_month                 0\n",
      "calculated_host_listings_count    0\n",
      "availability_365                  0\n",
      "neighbourhood_group               0\n",
      "neighbourhood                     0\n",
      "room_type                         0\n",
      "dtype: int64\n",
      "0\n",
      "host_id                           0\n",
      "latitude                          0\n",
      "longitude                         0\n",
      "price                             0\n",
      "minimum_nights                    0\n",
      "number_of_reviews                 0\n",
      "reviews_per_month                 0\n",
      "calculated_host_listings_count    0\n",
      "availability_365                  0\n",
      "neighbourhood_group               0\n",
      "neighbourhood                     0\n",
      "room_type                         0\n",
      "dtype: int64\n"
     ]
    }
   ],
   "source": [
    "print(X_train.isnull().sum())\n",
    "print(y_train.isnull().sum())\n",
    "print(X_val.isnull().sum())"
   ]
  },
  {
   "cell_type": "code",
   "execution_count": 107,
   "id": "a913116b",
   "metadata": {},
   "outputs": [
    {
     "data": {
      "text/plain": [
       "92585.78495927792"
      ]
     },
     "execution_count": 107,
     "metadata": {},
     "output_type": "execute_result"
    }
   ],
   "source": [
    "# RandomForest\n",
    "\n",
    "from sklearn.ensemble import RandomForestRegressor\n",
    "\n",
    "model = RandomForestRegressor(random_state=42, n_estimators=200)\n",
    "model.fit(X_train, y_train)\n",
    "pred = model.predict(X_val)\n",
    "\n",
    "pred = np.expm1(pred)\n",
    "mean_squared_error(y_val, pred)"
   ]
  },
  {
   "cell_type": "code",
   "execution_count": 108,
   "id": "782ec062",
   "metadata": {},
   "outputs": [
    {
     "data": {
      "text/plain": [
       "92666.0033868495"
      ]
     },
     "execution_count": 108,
     "metadata": {},
     "output_type": "execute_result"
    }
   ],
   "source": [
    "# XGBoost\n",
    "\n",
    "from xgboost import XGBRegressor\n",
    "\n",
    "model = XGBRegressor(max_depth = 10,\n",
    "                    learning_rate = 0.02,\n",
    "                    n_estimators = 500,\n",
    "                    random_state=42)\n",
    "\n",
    "model.fit(X_train, y_train)\n",
    "\n",
    "pred = model.predict(X_val)\n",
    "\n",
    "pred = np.expm1(pred)\n",
    "mean_squared_error(y_val, pred)"
   ]
  },
  {
   "cell_type": "code",
   "execution_count": null,
   "id": "f7ebc84b",
   "metadata": {},
   "outputs": [],
   "source": [
    "train['price'].hist(bins=100)"
   ]
  },
  {
   "cell_type": "code",
   "execution_count": 109,
   "id": "783049c3",
   "metadata": {},
   "outputs": [
    {
     "data": {
      "text/plain": [
       "9966.068"
      ]
     },
     "execution_count": 109,
     "metadata": {},
     "output_type": "execute_result"
    }
   ],
   "source": [
    "pred.max()"
   ]
  },
  {
   "cell_type": "code",
   "execution_count": null,
   "id": "be70a269",
   "metadata": {},
   "outputs": [],
   "source": [
    "## 회고\n",
    "\n",
    "- 로그를..잘못 만진듯 하다!"
   ]
  },
  {
   "cell_type": "code",
   "execution_count": null,
   "id": "e6685be9",
   "metadata": {},
   "outputs": [],
   "source": []
  },
  {
   "cell_type": "code",
   "execution_count": null,
   "id": "496520de",
   "metadata": {},
   "outputs": [],
   "source": []
  }
 ],
 "metadata": {
  "kernelspec": {
   "display_name": "Python 3 (ipykernel)",
   "language": "python",
   "name": "python3"
  },
  "language_info": {
   "codemirror_mode": {
    "name": "ipython",
    "version": 3
   },
   "file_extension": ".py",
   "mimetype": "text/x-python",
   "name": "python",
   "nbconvert_exporter": "python",
   "pygments_lexer": "ipython3",
   "version": "3.9.7"
  }
 },
 "nbformat": 4,
 "nbformat_minor": 5
}
