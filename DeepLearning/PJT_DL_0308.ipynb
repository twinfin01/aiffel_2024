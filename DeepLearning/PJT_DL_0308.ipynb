{
 "cells": [
  {
   "cell_type": "markdown",
   "id": "d29442a5-0ff0-4b6b-9c24-5ef6632c0af6",
   "metadata": {},
   "source": [
    "# Boston Housing Price"
   ]
  },
  {
   "cell_type": "code",
   "execution_count": 1,
   "id": "ebd97a0f-6188-452d-ada6-81e9dd4089d3",
   "metadata": {
    "tags": []
   },
   "outputs": [],
   "source": [
    "from tensorflow.keras import models, layers\n",
    "import matplotlib.pyplot as plt"
   ]
  },
  {
   "cell_type": "code",
   "execution_count": 2,
   "id": "3e0c8086-9946-471b-b048-6fb48ce0f7d2",
   "metadata": {
    "tags": []
   },
   "outputs": [
    {
     "name": "stdout",
     "output_type": "stream",
     "text": [
      "Downloading data from https://storage.googleapis.com/tensorflow/tf-keras-datasets/boston_housing.npz\n",
      "57026/57026 [==============================] - 0s 0us/step\n",
      "404 102\n"
     ]
    }
   ],
   "source": [
    "from keras.datasets import boston_housing\n",
    "\n",
    "(train_data, train_labels), (test_data, test_labels) = boston_housing.load_data()\n",
    "\n",
    "print(len(train_data), len(test_data))"
   ]
  },
  {
   "cell_type": "code",
   "execution_count": 4,
   "id": "987a7e58-5439-4ebc-877c-d5572be9c415",
   "metadata": {
    "tags": []
   },
   "outputs": [
    {
     "data": {
      "text/plain": [
       "array([  1.23247,   0.     ,   8.14   ,   0.     ,   0.538  ,   6.142  ,\n",
       "        91.7    ,   3.9769 ,   4.     , 307.     ,  21.     , 396.9    ,\n",
       "        18.72   ])"
      ]
     },
     "execution_count": 4,
     "metadata": {},
     "output_type": "execute_result"
    }
   ],
   "source": [
    "train_data[0]"
   ]
  },
  {
   "cell_type": "code",
   "execution_count": 6,
   "id": "4e65ea55-2b2e-44f9-a9d7-d6f914df314e",
   "metadata": {
    "tags": []
   },
   "outputs": [],
   "source": [
    "# standardization\n",
    "# apply the train mean/std to test as well, to prevent data leakage\n",
    "mean = train_data.mean(axis=0)\n",
    "std = train_data.std(axis=0)\n",
    "\n",
    "train_stand = ( train_data - mean ) / std\n",
    "test_stand = (test_data - mean) / std\n"
   ]
  },
  {
   "cell_type": "code",
   "execution_count": 10,
   "id": "5afeea0d-5aa1-4955-800a-cedca0d4acee",
   "metadata": {
    "tags": []
   },
   "outputs": [
    {
     "name": "stderr",
     "output_type": "stream",
     "text": [
      "2024-03-08 17:02:04.730242: I metal_plugin/src/device/metal_device.cc:1154] Metal device set to: Apple M1\n",
      "2024-03-08 17:02:04.731181: I metal_plugin/src/device/metal_device.cc:296] systemMemory: 8.00 GB\n",
      "2024-03-08 17:02:04.731200: I metal_plugin/src/device/metal_device.cc:313] maxCacheSize: 2.67 GB\n",
      "2024-03-08 17:02:04.732779: I tensorflow/core/common_runtime/pluggable_device/pluggable_device_factory.cc:306] Could not identify NUMA node of platform GPU ID 0, defaulting to 0. Your kernel may not have been built with NUMA support.\n",
      "2024-03-08 17:02:04.733247: I tensorflow/core/common_runtime/pluggable_device/pluggable_device_factory.cc:272] Created TensorFlow device (/job:localhost/replica:0/task:0/device:GPU:0 with 0 MB memory) -> physical PluggableDevice (device: 0, name: METAL, pci bus id: <undefined>)\n"
     ]
    },
    {
     "name": "stdout",
     "output_type": "stream",
     "text": [
      "Model: \"sequential\"\n",
      "_________________________________________________________________\n",
      " Layer (type)                Output Shape              Param #   \n",
      "=================================================================\n",
      " batch_normalization (BatchN  (None, 13)               52        \n",
      " ormalization)                                                   \n",
      "                                                                 \n",
      " dense (Dense)               (None, 128)               1792      \n",
      "                                                                 \n",
      " dropout (Dropout)           (None, 128)               0         \n",
      "                                                                 \n",
      " batch_normalization_1 (Batc  (None, 128)              512       \n",
      " hNormalization)                                                 \n",
      "                                                                 \n",
      " dense_1 (Dense)             (None, 64)                8256      \n",
      "                                                                 \n",
      " dropout_1 (Dropout)         (None, 64)                0         \n",
      "                                                                 \n",
      " batch_normalization_2 (Batc  (None, 64)               256       \n",
      " hNormalization)                                                 \n",
      "                                                                 \n",
      " dense_2 (Dense)             (None, 1)                 65        \n",
      "                                                                 \n",
      "=================================================================\n",
      "Total params: 10,933\n",
      "Trainable params: 10,523\n",
      "Non-trainable params: 410\n",
      "_________________________________________________________________\n"
     ]
    }
   ],
   "source": [
    "# model creation and compile\n",
    "\n",
    "import tensorflow as tf\n",
    "from tensorflow.keras import models, layers\n",
    "\n",
    "model = models.Sequential([layers.Input(shape=(train_data.shape[1],)),\n",
    "                          layers.BatchNormalization(),\n",
    "                           layers.Dense(128, activation='relu'),\n",
    "                            layers.Dropout(0.5),\n",
    "                           layers.BatchNormalization(),\n",
    "                          layers.Dense(64, activation='relu'),\n",
    "                           layers.Dropout(0.5),\n",
    "                           layers.BatchNormalization(),\n",
    "                          layers.Dense(1, activation='linear')]) # should be linear, not softmax etc.\n",
    "\n",
    "model.summary()\n",
    "\n",
    "model.compile(optimizer='adam',\n",
    "             loss='mse',\n",
    "             metrics=['mae'])\n"
   ]
  },
  {
   "cell_type": "code",
   "execution_count": null,
   "id": "8ea0f85e-054d-4be8-86dd-2687707d237e",
   "metadata": {
    "tags": []
   },
   "outputs": [
    {
     "name": "stdout",
     "output_type": "stream",
     "text": [
      "Epoch 1/30\n"
     ]
    },
    {
     "name": "stderr",
     "output_type": "stream",
     "text": [
      "2024-03-08 17:05:54.783718: W tensorflow/tsl/platform/profile_utils/cpu_utils.cc:128] Failed to get CPU frequency: 0 Hz\n"
     ]
    }
   ],
   "source": [
    "# model training\n",
    "\n",
    "history = model.fit(train_stand, train_labels,\n",
    "                   epochs=30,\n",
    "                   batch_size=64,\n",
    "                   validation_data=(test_stand, test_labels))"
   ]
  },
  {
   "cell_type": "code",
   "execution_count": 1,
   "id": "6a8dcf62-c1df-4cd7-bd22-9772ecf7f153",
   "metadata": {
    "tags": []
   },
   "outputs": [
    {
     "name": "stdout",
     "output_type": "stream",
     "text": [
      "usage: conda [-h] [-v] [--no-plugins] [-V] COMMAND ...\n",
      "conda: error: unrecognized arguments: --upgrade\n",
      "\n",
      "Note: you may need to restart the kernel to use updated packages.\n"
     ]
    }
   ],
   "source": [
    "conda install --upgrade tensorflow"
   ]
  },
  {
   "cell_type": "code",
   "execution_count": null,
   "id": "b08d600e-7186-4446-97c9-1beae7a2f1ba",
   "metadata": {
    "tags": []
   },
   "outputs": [],
   "source": [
    "conda update -n base -c defaults conda"
   ]
  },
  {
   "cell_type": "code",
   "execution_count": null,
   "id": "1cd2ae7a-ef18-44fe-825b-d83b3f528b93",
   "metadata": {
    "tags": []
   },
   "outputs": [
    {
     "name": "stdout",
     "output_type": "stream",
     "text": [
      "Collecting package metadata (current_repodata.json): done\n",
      "Solving environment: done\n",
      "\n",
      "\n",
      "==> WARNING: A newer version of conda exists. <==\n",
      "  current version: 23.9.0\n",
      "  latest version: 24.1.2\n",
      "\n",
      "Please update conda by running\n",
      "\n",
      "    $ conda update -n base -c defaults conda\n",
      "\n",
      "Or to minimize the number of packages updated during conda update use\n",
      "\n",
      "     conda install conda=24.1.2\n",
      "\n",
      "\n",
      "\n",
      "## Package Plan ##\n",
      "\n",
      "  environment location: /Users/leegen/anaconda3/envs/tf_m1\n",
      "\n",
      "  added / updated specs:\n",
      "    - python=3.8\n",
      "\n",
      "\n",
      "The following packages will be downloaded:\n",
      "\n",
      "    package                    |            build\n",
      "    ---------------------------|-----------------\n",
      "    pip-23.3.1                 |   py38hca03da5_0         2.6 MB\n",
      "    python-3.8.18              |       hb885b13_0        14.1 MB\n",
      "    setuptools-68.2.2          |   py38hca03da5_0         934 KB\n",
      "    wheel-0.41.2               |   py38hca03da5_0         107 KB\n",
      "    ------------------------------------------------------------\n",
      "                                           Total:        17.8 MB\n",
      "\n",
      "The following NEW packages will be INSTALLED:\n",
      "\n",
      "  ca-certificates    pkgs/main/osx-arm64::ca-certificates-2023.12.12-hca03da5_0 \n",
      "  libcxx             pkgs/main/osx-arm64::libcxx-14.0.6-h848a8c0_0 \n",
      "  libffi             pkgs/main/osx-arm64::libffi-3.4.4-hca03da5_0 \n",
      "  ncurses            pkgs/main/osx-arm64::ncurses-6.4-h313beb8_0 \n",
      "  openssl            pkgs/main/osx-arm64::openssl-3.0.13-h1a28f6b_0 \n",
      "  pip                pkgs/main/osx-arm64::pip-23.3.1-py38hca03da5_0 \n",
      "  python             pkgs/main/osx-arm64::python-3.8.18-hb885b13_0 \n",
      "  readline           pkgs/main/osx-arm64::readline-8.2-h1a28f6b_0 \n",
      "  setuptools         pkgs/main/osx-arm64::setuptools-68.2.2-py38hca03da5_0 \n",
      "  sqlite             pkgs/main/osx-arm64::sqlite-3.41.2-h80987f9_0 \n",
      "  tk                 pkgs/main/osx-arm64::tk-8.6.12-hb8d0fd4_0 \n",
      "  wheel              pkgs/main/osx-arm64::wheel-0.41.2-py38hca03da5_0 \n",
      "  xz                 pkgs/main/osx-arm64::xz-5.4.6-h80987f9_0 \n",
      "  zlib               pkgs/main/osx-arm64::zlib-1.2.13-h5a0b063_0 \n",
      "\n",
      "\n",
      "Proceed ([y]/n)? "
     ]
    }
   ],
   "source": [
    "conda create --name tf_m1 python=3.8"
   ]
  },
  {
   "cell_type": "code",
   "execution_count": null,
   "id": "45410a0b-1bfb-4a91-9e31-f6bda4318f6f",
   "metadata": {
    "tags": []
   },
   "outputs": [],
   "source": [
    "y"
   ]
  },
  {
   "cell_type": "code",
   "execution_count": null,
   "id": "98bd6ba9-11ba-42ff-997e-93114caf9002",
   "metadata": {},
   "outputs": [],
   "source": []
  }
 ],
 "metadata": {
  "kernelspec": {
   "display_name": "Python 3 (ipykernel)",
   "language": "python",
   "name": "python3"
  },
  "language_info": {
   "codemirror_mode": {
    "name": "ipython",
    "version": 3
   },
   "file_extension": ".py",
   "mimetype": "text/x-python",
   "name": "python",
   "nbconvert_exporter": "python",
   "pygments_lexer": "ipython3",
   "version": "3.11.5"
  }
 },
 "nbformat": 4,
 "nbformat_minor": 5
}
