{
 "cells": [
  {
   "cell_type": "code",
   "execution_count": 1,
   "id": "c3de4c3d-25b6-471d-b34c-029b4c88947c",
   "metadata": {
    "tags": []
   },
   "outputs": [
    {
     "name": "stdout",
     "output_type": "stream",
     "text": [
      "2.12.0\n",
      "1.23.5\n"
     ]
    }
   ],
   "source": [
    "import tensorflow as tf\n",
    "import numpy as np\n",
    "\n",
    "print(tf.__version__)\n",
    "print(np.__version__)"
   ]
  },
  {
   "cell_type": "code",
   "execution_count": 2,
   "id": "f1ff0ba6-ea17-4e57-9f44-99df2a6c69f3",
   "metadata": {
    "tags": []
   },
   "outputs": [
    {
     "name": "stdout",
     "output_type": "stream",
     "text": [
      "import done!\n"
     ]
    }
   ],
   "source": [
    "from PIL import Image\n",
    "import glob\n",
    "import os\n",
    "\n",
    "print('import done!')"
   ]
  },
  {
   "cell_type": "code",
   "execution_count": 3,
   "id": "e4b42ad7-922a-4a37-9e42-c200825ab3cd",
   "metadata": {
    "tags": []
   },
   "outputs": [
    {
     "name": "stdout",
     "output_type": "stream",
     "text": [
      "133 images to be resized\n",
      "133 images resized\n",
      "scissor resize done\n"
     ]
    }
   ],
   "source": [
    "# resize images to be 28x28\n",
    "\n",
    "def resize_images(img_path):\n",
    "    images = glob.glob(img_path + '/*.jpg')\n",
    "    \n",
    "    print(len(images), 'images to be resized')\n",
    "    \n",
    "    # resize to 28x28\n",
    "    target_size = (28,28)\n",
    "    for img in images:\n",
    "        old_img = Image.open(img)\n",
    "        new_img = old_img.resize(target_size, Image.Resampling.LANCZOS)\n",
    "        new_img.save(img, 'JPEG')\n",
    "        \n",
    "    print(len(images), 'images resized')\n",
    "    \n",
    "# 가위 전부 읽어들여서 리사이즈\n",
    "image_dir_path = '/Users/leegen/Downloads/RSP/scissor'\n",
    "resize_images(image_dir_path)\n",
    "\n",
    "print('scissor resize done')"
   ]
  },
  {
   "cell_type": "code",
   "execution_count": 4,
   "id": "870250ab-e368-439b-8c25-2b06e22d89a1",
   "metadata": {
    "tags": []
   },
   "outputs": [
    {
     "name": "stdout",
     "output_type": "stream",
     "text": [
      "107 images to be resized\n",
      "107 images resized\n"
     ]
    }
   ],
   "source": [
    "# rock\n",
    "\n",
    "image_dir_path = '/Users/leegen/Downloads/RSP/rock'\n",
    "resize_images(image_dir_path)"
   ]
  },
  {
   "cell_type": "code",
   "execution_count": 5,
   "id": "29ae1c32-797f-47a4-beba-a81379be4742",
   "metadata": {
    "tags": []
   },
   "outputs": [
    {
     "name": "stdout",
     "output_type": "stream",
     "text": [
      "118 images to be resized\n",
      "118 images resized\n"
     ]
    }
   ],
   "source": [
    "# paper\n",
    "\n",
    "image_dir_path = '/Users/leegen/Downloads/RSP/paper'\n",
    "resize_images(image_dir_path)"
   ]
  },
  {
   "cell_type": "markdown",
   "id": "e2c0beca-47a6-4793-b41d-f33b79f25f03",
   "metadata": {},
   "source": [
    "# Load Data"
   ]
  },
  {
   "cell_type": "code",
   "execution_count": 6,
   "id": "6ff09b6a-eccc-4b13-894f-ec159aecc2ff",
   "metadata": {
    "tags": []
   },
   "outputs": [
    {
     "name": "stdout",
     "output_type": "stream",
     "text": [
      "학습데이터(x_train)의 이미지 개수는 358 입니다.\n",
      "x_train shape: (358, 28, 28, 3)\n",
      "y_train shape: (358,)\n"
     ]
    }
   ],
   "source": [
    "import numpy as np\n",
    "\n",
    "def load_data(img_path, number_of_data=358):  # 가위바위보 이미지 개수 총합에 주의하세요.\n",
    "    # 가위 : 0, 바위 : 1, 보 : 2\n",
    "    img_size=28\n",
    "    color=3\n",
    "    #이미지 데이터와 라벨(가위 : 0, 바위 : 1, 보 : 2) 데이터를 담을 행렬(matrix) 영역을 생성합니다.\n",
    "    imgs=np.zeros(number_of_data*img_size*img_size*color,dtype=np.int32\n",
    "    ).reshape(number_of_data,img_size,img_size,color)\n",
    "    labels=np.zeros(number_of_data,dtype=np.int32)\n",
    "\n",
    "    idx=0\n",
    "    for file in glob.iglob(img_path+'/scissor/*.jpg'):\n",
    "        img = np.array(Image.open(file),dtype=np.int32)\n",
    "        imgs[idx,:,:,:]=img    # 데이터 영역에 이미지 행렬을 복사\n",
    "        labels[idx]=0   # 가위 : 0\n",
    "        idx=idx+1\n",
    "\n",
    "    for file in glob.iglob(img_path+'/rock/*.jpg'):\n",
    "        img = np.array(Image.open(file),dtype=np.int32)\n",
    "        imgs[idx,:,:,:]=img    # 데이터 영역에 이미지 행렬을 복사\n",
    "        labels[idx]=1   # 바위 : 1\n",
    "        idx=idx+1  \n",
    "    \n",
    "    for file in glob.iglob(img_path+'/paper/*.jpg'):\n",
    "        img = np.array(Image.open(file),dtype=np.int32)\n",
    "        imgs[idx,:,:,:]=img    # 데이터 영역에 이미지 행렬을 복사\n",
    "        labels[idx]=2   # 보 : 2\n",
    "        idx=idx+1\n",
    "        \n",
    "    print(\"학습데이터(x_train)의 이미지 개수는\", idx,\"입니다.\")\n",
    "    return imgs, labels\n",
    "\n",
    "image_dir_path = \"/Users/leegen/Downloads/RSP\"\n",
    "(x_train, y_train)=load_data(image_dir_path)\n",
    "x_train_norm = x_train/255.0   # 입력은 0~1 사이의 값으로 정규화\n",
    "\n",
    "print(\"x_train shape: {}\".format(x_train.shape))\n",
    "print(\"y_train shape: {}\".format(y_train.shape))"
   ]
  },
  {
   "cell_type": "code",
   "execution_count": 7,
   "id": "2fe72cae-57c2-4a46-be48-4996ea27d86d",
   "metadata": {
    "tags": []
   },
   "outputs": [
    {
     "name": "stdout",
     "output_type": "stream",
     "text": [
      "0\n"
     ]
    },
    {
     "data": {
      "image/png": "[encoded data removed]",
      "text/plain": [
       "<Figure size 640x480 with 1 Axes>"
      ]
     },
     "metadata": {},
     "output_type": "display_data"
    }
   ],
   "source": [
    "# load image\n",
    "\n",
    "import matplotlib.pyplot as plt\n",
    "\n",
    "plt.imshow(x_train[1])\n",
    "print(y_train[1])"
   ]
  },
  {
   "cell_type": "code",
   "execution_count": 8,
   "id": "cca1c0ab-7676-41c5-b709-7155746e6856",
   "metadata": {
    "tags": []
   },
   "outputs": [],
   "source": [
    "# GPT code for data augmentation\n",
    "from tensorflow import keras\n",
    "from tensorflow.keras.preprocessing.image import ImageDataGenerator\n",
    "from tensorflow.keras.callbacks import EarlyStopping\n",
    "\n",
    "# # Define an ImageDataGenerator for data augmentation\n",
    "# datagen = ImageDataGenerator(\n",
    "#     rotation_range=10,  # randomly rotate images in the range (degrees, 0 to 180)\n",
    "#     width_shift_range=0.1,  # randomly shift images horizontally (fraction of total width)\n",
    "#     height_shift_range=0.1,  # randomly shift images vertically (fraction of total height)\n",
    "#     shear_range=0.1,  # randomly shear images\n",
    "#     zoom_range=0.1,  # randomly zoom image\n",
    "#     horizontal_flip=True,  # randomly flip images\n",
    "#     fill_mode='nearest'  # fill in missing pixels after a transformation\n",
    "# )\n",
    "\n",
    "# # Compute quantities required for featurewise normalization\n",
    "# datagen.fit(x_train)\n"
   ]
  },
  {
   "cell_type": "code",
   "execution_count": 9,
   "id": "d4d3f34c-eb02-4dae-9a21-0865f7d23361",
   "metadata": {
    "tags": []
   },
   "outputs": [
    {
     "data": {
      "text/plain": [
       "(358,)"
      ]
     },
     "execution_count": 9,
     "metadata": {},
     "output_type": "execute_result"
    }
   ],
   "source": [
    "y_train.shape"
   ]
  },
  {
   "cell_type": "code",
   "execution_count": 10,
   "id": "86d37738-0420-4bb0-9915-cd4bfcfcd91b",
   "metadata": {
    "tags": []
   },
   "outputs": [
    {
     "data": {
      "text/plain": [
       "(358, 28, 28, 3)"
      ]
     },
     "execution_count": 10,
     "metadata": {},
     "output_type": "execute_result"
    }
   ],
   "source": [
    "x_train.shape"
   ]
  },
  {
   "cell_type": "code",
   "execution_count": 12,
   "id": "43576095-5ffe-4d25-8a2d-c30a459e2f94",
   "metadata": {
    "tags": []
   },
   "outputs": [
    {
     "name": "stdout",
     "output_type": "stream",
     "text": [
      "[0 0 0 0 0]\n"
     ]
    },
    {
     "data": {
      "text/plain": [
       "array([[[0.0033218 , 0.00350634, 0.00344483],\n",
       "        [0.00330642, 0.00349097, 0.00342945],\n",
       "        [0.00330642, 0.00347559, 0.00341407],\n",
       "        ...,\n",
       "        [0.00322953, 0.00330642, 0.00335256],\n",
       "        [0.00318339, 0.00326028, 0.00330642],\n",
       "        [0.00316801, 0.00322953, 0.00324491]],\n",
       "\n",
       "       [[0.00319877, 0.00336794, 0.00330642],\n",
       "        [0.00319877, 0.00336794, 0.00330642],\n",
       "        [0.00321415, 0.00335256, 0.00330642],\n",
       "        ...,\n",
       "        [0.00321415, 0.00329104, 0.00333718],\n",
       "        [0.00318339, 0.00324491, 0.00326028],\n",
       "        [0.00315263, 0.00321415, 0.00322953]],\n",
       "\n",
       "       [[0.00313725, 0.00327566, 0.00322953],\n",
       "        [0.00318339, 0.00327566, 0.00324491],\n",
       "        [0.00319877, 0.00329104, 0.00326028],\n",
       "        ...,\n",
       "        [0.00321415, 0.00329104, 0.00333718],\n",
       "        [0.00316801, 0.00322953, 0.00324491],\n",
       "        [0.00315263, 0.00321415, 0.00322953]],\n",
       "\n",
       "       ...,\n",
       "\n",
       "       [[0.00230681, 0.00224529, 0.00222991],\n",
       "        [0.00242983, 0.00235294, 0.00230681],\n",
       "        [0.00249135, 0.00241446, 0.00236832],\n",
       "        ...,\n",
       "        [0.00087659, 0.00143022, 0.00161476],\n",
       "        [0.00058439, 0.00110727, 0.00124567],\n",
       "        [0.00047674, 0.00098424, 0.00109189]],\n",
       "\n",
       "       [[0.00227605, 0.00219915, 0.00226067],\n",
       "        [0.0023837 , 0.00229143, 0.00229143],\n",
       "        [0.00249135, 0.00233756, 0.00230681],\n",
       "        ...,\n",
       "        [0.00053825, 0.00118416, 0.00143022],\n",
       "        [0.00041522, 0.00099962, 0.00116878],\n",
       "        [0.00039985, 0.00096886, 0.00110727]],\n",
       "\n",
       "       [[0.00222991, 0.00219915, 0.00227605],\n",
       "        [0.00235294, 0.00226067, 0.00226067],\n",
       "        [0.00246059, 0.00229143, 0.00222991],\n",
       "        ...,\n",
       "        [0.00032295, 0.00103037, 0.00127643],\n",
       "        [0.00033833, 0.00095348, 0.00110727],\n",
       "        [0.00036909, 0.00095348, 0.00109189]]])"
      ]
     },
     "execution_count": 12,
     "metadata": {},
     "output_type": "execute_result"
    }
   ],
   "source": [
    "# normalize x_train\n",
    "\n",
    "x_train = x_train / 255\n",
    "print(y_train[0:5])\n",
    "x_train[0]"
   ]
  },
  {
   "cell_type": "code",
   "execution_count": null,
   "id": "6ec53341-7cde-427f-bcf9-1865419de95c",
   "metadata": {
    "tags": []
   },
   "outputs": [
    {
     "name": "stderr",
     "output_type": "stream",
     "text": [
      "2024-03-06 16:31:58.673195: I metal_plugin/src/device/metal_device.cc:1154] Metal device set to: Apple M1\n",
      "2024-03-06 16:31:58.673278: I metal_plugin/src/device/metal_device.cc:296] systemMemory: 8.00 GB\n",
      "2024-03-06 16:31:58.673298: I metal_plugin/src/device/metal_device.cc:313] maxCacheSize: 2.67 GB\n",
      "2024-03-06 16:31:58.673431: I tensorflow/core/common_runtime/pluggable_device/pluggable_device_factory.cc:306] Could not identify NUMA node of platform GPU ID 0, defaulting to 0. Your kernel may not have been built with NUMA support.\n",
      "2024-03-06 16:31:58.673485: I tensorflow/core/common_runtime/pluggable_device/pluggable_device_factory.cc:272] Created TensorFlow device (/job:localhost/replica:0/task:0/device:GPU:0 with 0 MB memory) -> physical PluggableDevice (device: 0, name: METAL, pci bus id: <undefined>)\n"
     ]
    },
    {
     "name": "stdout",
     "output_type": "stream",
     "text": [
      "Model: \"sequential\"\n",
      "_________________________________________________________________\n",
      " Layer (type)                Output Shape              Param #   \n",
      "=================================================================\n",
      " conv2d (Conv2D)             (None, 26, 26, 32)        896       \n",
      "                                                                 \n",
      " batch_normalization (BatchN  (None, 26, 26, 32)       128       \n",
      " ormalization)                                                   \n",
      "                                                                 \n",
      " max_pooling2d (MaxPooling2D  (None, 13, 13, 32)       0         \n",
      " )                                                               \n",
      "                                                                 \n",
      " conv2d_1 (Conv2D)           (None, 11, 11, 64)        18496     \n",
      "                                                                 \n",
      " batch_normalization_1 (Batc  (None, 11, 11, 64)       256       \n",
      " hNormalization)                                                 \n",
      "                                                                 \n",
      " dropout (Dropout)           (None, 11, 11, 64)        0         \n",
      "                                                                 \n",
      " max_pooling2d_1 (MaxPooling  (None, 5, 5, 64)         0         \n",
      " 2D)                                                             \n",
      "                                                                 \n",
      " flatten (Flatten)           (None, 1600)              0         \n",
      "                                                                 \n",
      " dense (Dense)               (None, 32)                51232     \n",
      "                                                                 \n",
      " dropout_1 (Dropout)         (None, 32)                0         \n",
      "                                                                 \n",
      " dense_1 (Dense)             (None, 3)                 99        \n",
      "                                                                 \n",
      "=================================================================\n",
      "Total params: 71,107\n",
      "Trainable params: 70,915\n",
      "Non-trainable params: 192\n",
      "_________________________________________________________________\n",
      "Epoch 1/10\n"
     ]
    },
    {
     "name": "stderr",
     "output_type": "stream",
     "text": [
      "2024-03-06 16:31:59.813948: W tensorflow/tsl/platform/profile_utils/cpu_utils.cc:128] Failed to get CPU frequency: 0 Hz\n"
     ]
    }
   ],
   "source": [
    "# model creation\n",
    "\n",
    "import numpy as np\n",
    "from tensorflow import keras\n",
    "from tensorflow.keras.layers import Conv2D, MaxPooling2D, Flatten, Dense, Dropout, BatchNormalization\n",
    "import matplotlib.pyplot as plt\n",
    "\n",
    "# 아래의 하이퍼파라미터는 예시입니다. 높은 인식률을 얻기 위해 하이퍼파라미터를 수정해 보세요. \n",
    "n_channel_1=16\n",
    "n_channel_2=32\n",
    "n_dense=32\n",
    "n_train_epoch=10\n",
    "\n",
    "model = keras.Sequential([\n",
    "            Conv2D(32, (3,3), activation='relu', input_shape=(28,28,3)),\n",
    "            BatchNormalization(),\n",
    "            MaxPooling2D(2,2),\n",
    "            Conv2D(64, (3,3), activation='relu'),\n",
    "            BatchNormalization(),\n",
    "            Dropout(0.2),\n",
    "            MaxPooling2D(2,2),\n",
    "            Flatten(),\n",
    "            Dense(32, activation='relu'),\n",
    "            Dropout(0.2),\n",
    "            Dense(3, activation='softmax')  # Assuming you have 3 classes\n",
    "        ])\n",
    "\n",
    "model.summary()\n",
    "\n",
    "from sklearn.model_selection import train_test_split\n",
    "\n",
    "x_train, x_val, y_train, y_val = train_test_split(x_train, y_train, test_size=0.2, random_state=42)\n",
    "\n",
    "\n",
    "# model compile\n",
    "model.compile(optimizer='adam',\n",
    "              loss='sparse_categorical_crossentropy',\n",
    "              metrics=['accuracy'])\n",
    "\n",
    "\n",
    "# Fit the model\n",
    "history = model.fit(x_train, y_train, epochs=n_train_epoch, validation_data=(x_val, y_val), verbose=1)\n",
    "\n",
    "\n",
    "# Continue with the previous plotting code...\n"
   ]
  },
  {
   "cell_type": "markdown",
   "id": "191cc348-dd17-4a75-984e-f53cb3ce1f0d",
   "metadata": {
    "tags": []
   },
   "source": [
    "---- 중간에 커널이 계속 꺼져서 lms 에서 돌렸습니다 ----"
   ]
  },
  {
   "cell_type": "code",
   "execution_count": null,
   "id": "3596d150-ae3b-4edb-8c78-2fb7b36388a4",
   "metadata": {},
   "outputs": [],
   "source": []
  },
  {
   "cell_type": "markdown",
   "id": "37d7461f-5d2e-41e7-bb88-73d4810ae3b2",
   "metadata": {},
   "source": [
    "# 회고\n",
    "- 픽셀이 너무 깨지는 게 아닌가? 32*32 로 바꾸기\n",
    "- 육안으로도 구분이 안돼..\n",
    "- 리사이즈 한 채로 돌리면 깨져서 다시 압축 푸는것부터 다시 하기\n",
    "- dropout 추가, batch normalization 추가\n",
    "- 로컬에서 계속 커널이 꺼져서 중간에 lms 로 옮겨갔다\n",
    "- 왜 꺼지는지는 아직 잘 모르겠음\n",
    "- GPT 가 Data Augmentation 도 추천해줬는데 아직 못해봤음"
   ]
  },
  {
   "cell_type": "code",
   "execution_count": null,
   "id": "7977be3d-7033-41ae-ae55-f6573442b981",
   "metadata": {},
   "outputs": [],
   "source": []
  }
 ],
 "metadata": {
  "kernelspec": {
   "display_name": "Python 3 (ipykernel)",
   "language": "python",
   "name": "python3"
  },
  "language_info": {
   "codemirror_mode": {
    "name": "ipython",
    "version": 3
   },
   "file_extension": ".py",
   "mimetype": "text/x-python",
   "name": "python",
   "nbconvert_exporter": "python",
   "pygments_lexer": "ipython3",
   "version": "3.11.5"
  }
 },
 "nbformat": 4,
 "nbformat_minor": 5
}
