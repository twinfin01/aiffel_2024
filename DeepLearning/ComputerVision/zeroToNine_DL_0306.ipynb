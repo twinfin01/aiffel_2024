{
 "cells": [
  {
   "cell_type": "code",
   "execution_count": 18,
   "id": "51cadbc9-6c12-40d3-8335-9185cd4b1e14",
   "metadata": {
    "tags": []
   },
   "outputs": [],
   "source": [
    "import pandas as pd"
   ]
  },
  {
   "cell_type": "code",
   "execution_count": 1,
   "id": "e084bdbb",
   "metadata": {
    "tags": []
   },
   "outputs": [
    {
     "name": "stdout",
     "output_type": "stream",
     "text": [
      "2.12.0\n",
      "60000\n"
     ]
    }
   ],
   "source": [
    "import tensorflow as tf\n",
    "from tensorflow import keras\n",
    "\n",
    "import numpy as np\n",
    "import matplotlib.pyplot as plt\n",
    "import os\n",
    "\n",
    "\n",
    "print(tf.__version__)   # Tensorflow의 버전을 출력\n",
    "\n",
    "mnist = keras.datasets.mnist\n",
    "\n",
    "# MNIST 데이터를 로드. 다운로드하지 않았다면 다운로드까지 자동으로 진행됩니다. \n",
    "(x_train, y_train), (x_test, y_test) = mnist.load_data()   \n",
    "\n",
    "print(len(x_train))  # x_train 배열의 크기를 출력"
   ]
  },
  {
   "cell_type": "code",
   "execution_count": 12,
   "id": "43c26d63",
   "metadata": {
    "tags": []
   },
   "outputs": [
    {
     "data": {
      "text/plain": [
       "<matplotlib.image.AxesImage at 0x2c48348d0>"
      ]
     },
     "execution_count": 12,
     "metadata": {},
     "output_type": "execute_result"
    },
    {
     "data": {
      "image/png": "[encoded data removed]",
      "text/plain": [
       "<Figure size 640x480 with 1 Axes>"
      ]
     },
     "metadata": {},
     "output_type": "display_data"
    }
   ],
   "source": [
    "plt.imshow(x_train[1], cmap=plt.cm.binary)"
   ]
  },
  {
   "cell_type": "code",
   "execution_count": 3,
   "id": "1681b70f",
   "metadata": {
    "tags": []
   },
   "outputs": [],
   "source": [
    "x_train_norm, x_test_norm = x_train / 255.0 , x_test / 255.0"
   ]
  },
  {
   "cell_type": "code",
   "execution_count": 7,
   "id": "17449ee2",
   "metadata": {
    "tags": []
   },
   "outputs": [],
   "source": [
    "model = keras.models.Sequential()\n",
    "model.add(keras.layers.Conv2D(16, (3,3), activation='relu', input_shape=(28,28,1)))\n",
    "model.add(keras.layers.MaxPool2D(2,2))\n",
    "model.add(keras.layers.Conv2D(32, (3,3), activation='relu'))\n",
    "model.add(keras.layers.MaxPooling2D((2,2)))\n",
    "model.add(keras.layers.Flatten())\n",
    "model.add(keras.layers.Dense(32, activation='relu'))\n",
    "model.add(keras.layers.Dense(10, activation='softmax'))"
   ]
  },
  {
   "cell_type": "code",
   "execution_count": 8,
   "id": "b984779b",
   "metadata": {
    "tags": []
   },
   "outputs": [
    {
     "name": "stdout",
     "output_type": "stream",
     "text": [
      "Model 의 layer 개수: 7\n"
     ]
    }
   ],
   "source": [
    "print(f'Model 의 layer 개수: {len(model.layers)}')"
   ]
  },
  {
   "cell_type": "code",
   "execution_count": 9,
   "id": "6bf2f905",
   "metadata": {
    "tags": []
   },
   "outputs": [
    {
     "name": "stdout",
     "output_type": "stream",
     "text": [
      "Model: \"sequential_1\"\n",
      "_________________________________________________________________\n",
      " Layer (type)                Output Shape              Param #   \n",
      "=================================================================\n",
      " conv2d_2 (Conv2D)           (None, 26, 26, 16)        160       \n",
      "                                                                 \n",
      " max_pooling2d_2 (MaxPooling  (None, 13, 13, 16)       0         \n",
      " 2D)                                                             \n",
      "                                                                 \n",
      " conv2d_3 (Conv2D)           (None, 11, 11, 32)        4640      \n",
      "                                                                 \n",
      " max_pooling2d_3 (MaxPooling  (None, 5, 5, 32)         0         \n",
      " 2D)                                                             \n",
      "                                                                 \n",
      " flatten_1 (Flatten)         (None, 800)               0         \n",
      "                                                                 \n",
      " dense_2 (Dense)             (None, 32)                25632     \n",
      "                                                                 \n",
      " dense_3 (Dense)             (None, 10)                330       \n",
      "                                                                 \n",
      "=================================================================\n",
      "Total params: 30,762\n",
      "Trainable params: 30,762\n",
      "Non-trainable params: 0\n",
      "_________________________________________________________________\n"
     ]
    }
   ],
   "source": [
    "model.summary()"
   ]
  },
  {
   "cell_type": "code",
   "execution_count": 10,
   "id": "2fe6bc80",
   "metadata": {
    "tags": []
   },
   "outputs": [
    {
     "name": "stdout",
     "output_type": "stream",
     "text": [
      "(60000, 28, 28, 1)\n"
     ]
    }
   ],
   "source": [
    "# add channel for the B/W image\n",
    "\n",
    "x_train_reshaped = x_train_norm.reshape(-1, 28, 28, 1)\n",
    "x_test_reshaped = x_test_norm.reshape(-1, 28, 28, 1)\n",
    "\n",
    "print(x_train_reshaped.shape)"
   ]
  },
  {
   "cell_type": "code",
   "execution_count": 11,
   "id": "3570c10e",
   "metadata": {
    "tags": []
   },
   "outputs": [
    {
     "name": "stdout",
     "output_type": "stream",
     "text": [
      "Epoch 1/10\n"
     ]
    },
    {
     "name": "stderr",
     "output_type": "stream",
     "text": [
      "2024-03-06 11:52:01.082762: W tensorflow/tsl/platform/profile_utils/cpu_utils.cc:128] Failed to get CPU frequency: 0 Hz\n",
      "2024-03-06 11:52:01.457250: I tensorflow/core/grappler/optimizers/custom_graph_optimizer_registry.cc:114] Plugin optimizer for device_type GPU is enabled.\n"
     ]
    },
    {
     "name": "stdout",
     "output_type": "stream",
     "text": [
      "1875/1875 [==============================] - 22s 9ms/step - loss: 0.2032 - accuracy: 0.9388\n",
      "Epoch 2/10\n",
      "1875/1875 [==============================] - 18s 9ms/step - loss: 0.0847 - accuracy: 0.9749\n",
      "Epoch 3/10\n",
      "1875/1875 [==============================] - 17s 9ms/step - loss: 0.0838 - accuracy: 0.9780\n",
      "Epoch 4/10\n",
      "1875/1875 [==============================] - 16s 9ms/step - loss: 0.1234 - accuracy: 0.9758\n",
      "Epoch 5/10\n",
      "1875/1875 [==============================] - 17s 9ms/step - loss: 0.2092 - accuracy: 0.9760\n",
      "Epoch 6/10\n",
      "1875/1875 [==============================] - 17s 9ms/step - loss: 0.4874 - accuracy: 0.9724\n",
      "Epoch 7/10\n",
      "1875/1875 [==============================] - 19s 10ms/step - loss: 0.9156 - accuracy: 0.9717\n",
      "Epoch 8/10\n",
      "1875/1875 [==============================] - 19s 10ms/step - loss: 1.5300 - accuracy: 0.9703\n",
      "Epoch 9/10\n",
      "1875/1875 [==============================] - 20s 11ms/step - loss: 2.5424 - accuracy: 0.9706\n",
      "Epoch 10/10\n",
      "1875/1875 [==============================] - 21s 11ms/step - loss: 3.7933 - accuracy: 0.9708\n"
     ]
    },
    {
     "data": {
      "text/plain": [
       "<keras.callbacks.History at 0x17cae2890>"
      ]
     },
     "execution_count": 11,
     "metadata": {},
     "output_type": "execute_result"
    }
   ],
   "source": [
    "# model training\n",
    "\n",
    "model.compile(optimizer='adam',\n",
    "             loss='sparse_categorical_crossentropy',\n",
    "             metrics=['accuracy'])\n",
    "\n",
    "model.fit(x_train_reshaped, y_train, epochs=10)"
   ]
  },
  {
   "cell_type": "code",
   "execution_count": 13,
   "id": "7abd6d35",
   "metadata": {},
   "outputs": [
    {
     "name": "stderr",
     "output_type": "stream",
     "text": [
      "2024-03-06 11:59:59.766980: I tensorflow/core/grappler/optimizers/custom_graph_optimizer_registry.cc:114] Plugin optimizer for device_type GPU is enabled.\n"
     ]
    },
    {
     "name": "stdout",
     "output_type": "stream",
     "text": [
      "313/313 - 2s - loss: 5.6506 - accuracy: 0.9624 - 2s/epoch - 7ms/step\n",
      "5.650647163391113 0.9624000191688538\n"
     ]
    }
   ],
   "source": [
    "# Test\n",
    "\n",
    "test_loss, test_accuracy = model.evaluate(x_test_reshaped, y_test, verbose=2)\n",
    "print(test_loss, test_accuracy)"
   ]
  },
  {
   "cell_type": "code",
   "execution_count": 14,
   "id": "0b61f543-f8c4-4fe6-9ea2-f5549fa3623c",
   "metadata": {
    "tags": []
   },
   "outputs": [
    {
     "name": "stdout",
     "output_type": "stream",
     "text": [
      "  3/313 [..............................] - ETA: 7s  "
     ]
    },
    {
     "name": "stderr",
     "output_type": "stream",
     "text": [
      "2024-03-06 12:03:49.755267: I tensorflow/core/grappler/optimizers/custom_graph_optimizer_registry.cc:114] Plugin optimizer for device_type GPU is enabled.\n"
     ]
    },
    {
     "name": "stdout",
     "output_type": "stream",
     "text": [
      "313/313 [==============================] - 1s 3ms/step\n",
      "pred 결과:  [0. 0. 0. 0. 0. 0. 0. 1. 0. 0.] \n",
      " 예측치:  7 \n",
      "정답:  7\n"
     ]
    }
   ],
   "source": [
    "# 정답 확인\n",
    "\n",
    "pred_result = model.predict(x_test_reshaped)\n",
    "pred_labels = np.argmax(pred_result, axis = 1)\n",
    "\n",
    "idx = 0\n",
    "\n",
    "print('pred 결과: ', pred_result[idx], '\\n 예측치: ', pred_labels[idx], '\\n정답: ', y_test[idx])"
   ]
  },
  {
   "cell_type": "code",
   "execution_count": 16,
   "id": "25131c93-5aab-41ee-a6a2-7646bd6de95f",
   "metadata": {
    "tags": []
   },
   "outputs": [
    {
     "name": "stdout",
     "output_type": "stream",
     "text": [
      "pred: [1. 0. 0. 0. 0. 0. 0. 0. 0. 0.]\n",
      "answer: 5, 예측 결과0\n"
     ]
    },
    {
     "data": {
      "image/png": "[encoded data removed]",
      "text/plain": [
       "<Figure size 640x480 with 1 Axes>"
      ]
     },
     "metadata": {},
     "output_type": "display_data"
    },
    {
     "name": "stdout",
     "output_type": "stream",
     "text": [
      "pred: [0.000000e+00 0.000000e+00 0.000000e+00 0.000000e+00 0.000000e+00\n",
      " 6.490621e-36 0.000000e+00 0.000000e+00 1.000000e+00 0.000000e+00]\n",
      "answer: 5, 예측 결과8\n"
     ]
    },
    {
     "data": {
      "image/png": "[encoded data removed]",
      "text/plain": [
       "<Figure size 640x480 with 1 Axes>"
      ]
     },
     "metadata": {},
     "output_type": "display_data"
    },
    {
     "name": "stdout",
     "output_type": "stream",
     "text": [
      "pred: [0. 1. 0. 0. 0. 0. 0. 0. 0. 0.]\n",
      "answer: 0, 예측 결과1\n"
     ]
    },
    {
     "data": {
      "image/png": "[encoded data removed]",
      "text/plain": [
       "<Figure size 640x480 with 1 Axes>"
      ]
     },
     "metadata": {},
     "output_type": "display_data"
    },
    {
     "name": "stdout",
     "output_type": "stream",
     "text": [
      "pred: [0.0000000e+00 0.0000000e+00 0.0000000e+00 0.0000000e+00 0.0000000e+00\n",
      " 0.0000000e+00 0.0000000e+00 0.0000000e+00 1.0000000e+00 7.7620553e-16]\n",
      "answer: 9, 예측 결과8\n"
     ]
    },
    {
     "data": {
      "image/png": "[encoded data removed]",
      "text/plain": [
       "<Figure size 640x480 with 1 Axes>"
      ]
     },
     "metadata": {},
     "output_type": "display_data"
    },
    {
     "name": "stdout",
     "output_type": "stream",
     "text": [
      "pred: [0. 0. 0. 0. 1. 0. 0. 0. 0. 0.]\n",
      "answer: 9, 예측 결과4\n"
     ]
    },
    {
     "data": {
      "image/png": "[encoded data removed]",
      "text/plain": [
       "<Figure size 640x480 with 1 Axes>"
      ]
     },
     "metadata": {},
     "output_type": "display_data"
    }
   ],
   "source": [
    "# 모델이 틀린 경우 확인\n",
    "\n",
    "import random\n",
    "\n",
    "wrong_pred_list = []\n",
    "\n",
    "for i, _ in enumerate(pred_labels):\n",
    "    if pred_labels[i] != y_test[i]:\n",
    "        wrong_pred_list.append(i)\n",
    "        \n",
    "#wrong pred e.g.\n",
    "samples = random.choices(population=wrong_pred_list, k=5)\n",
    "\n",
    "for n in samples:\n",
    "    print('pred: ' + str(pred_result[n]))\n",
    "    print('answer: ' + str(y_test[n]) +', 예측 결과' +str(pred_labels[n]))\n",
    "    \n",
    "    plt.imshow(x_test[n], cmap=plt.cm.binary)\n",
    "    plt.show();"
   ]
  },
  {
   "cell_type": "code",
   "execution_count": 19,
   "id": "68637222-9feb-4539-9ac4-36cff4678e1e",
   "metadata": {
    "tags": []
   },
   "outputs": [
    {
     "name": "stderr",
     "output_type": "stream",
     "text": [
      "/var/folders/h6/51v9gvc533zc454hnmsmngvc0000gn/T/ipykernel_6747/1609173716.py:21: DeprecationWarning: KerasClassifier is deprecated, use Sci-Keras (https://github.com/adriangb/scikeras) instead. See https://www.adriangb.com/scikeras/stable/migration.html for help migrating.\n",
      "  model = KerasClassifier(build_fn=create_model, verbose=0)\n"
     ]
    },
    {
     "name": "stdout",
     "output_type": "stream",
     "text": [
      "Fitting 3 folds for each of 10 candidates, totalling 30 fits\n"
     ]
    },
    {
     "name": "stderr",
     "output_type": "stream",
     "text": [
      "2024-03-06 12:41:59.221566: I tensorflow/core/grappler/optimizers/custom_graph_optimizer_registry.cc:114] Plugin optimizer for device_type GPU is enabled.\n",
      "2024-03-06 12:43:26.966816: I tensorflow/core/grappler/optimizers/custom_graph_optimizer_registry.cc:114] Plugin optimizer for device_type GPU is enabled.\n"
     ]
    },
    {
     "name": "stdout",
     "output_type": "stream",
     "text": [
      "[CV] END epochs=7, n_channel_1=32, n_channel_2=32, n_dense=64; total time= 1.6min\n"
     ]
    },
    {
     "name": "stderr",
     "output_type": "stream",
     "text": [
      "2024-03-06 12:43:33.254484: I tensorflow/core/grappler/optimizers/custom_graph_optimizer_registry.cc:114] Plugin optimizer for device_type GPU is enabled.\n",
      "2024-03-06 12:45:39.586464: I tensorflow/core/grappler/optimizers/custom_graph_optimizer_registry.cc:114] Plugin optimizer for device_type GPU is enabled.\n"
     ]
    },
    {
     "name": "stdout",
     "output_type": "stream",
     "text": [
      "[CV] END epochs=7, n_channel_1=32, n_channel_2=32, n_dense=64; total time= 2.2min\n"
     ]
    },
    {
     "name": "stderr",
     "output_type": "stream",
     "text": [
      "2024-03-06 12:45:43.460246: I tensorflow/core/grappler/optimizers/custom_graph_optimizer_registry.cc:114] Plugin optimizer for device_type GPU is enabled.\n",
      "2024-03-06 12:47:00.532436: I tensorflow/core/grappler/optimizers/custom_graph_optimizer_registry.cc:114] Plugin optimizer for device_type GPU is enabled.\n"
     ]
    },
    {
     "name": "stdout",
     "output_type": "stream",
     "text": [
      "[CV] END epochs=7, n_channel_1=32, n_channel_2=32, n_dense=64; total time= 1.4min\n"
     ]
    },
    {
     "name": "stderr",
     "output_type": "stream",
     "text": [
      "2024-03-06 12:47:08.941542: I tensorflow/core/grappler/optimizers/custom_graph_optimizer_registry.cc:114] Plugin optimizer for device_type GPU is enabled.\n",
      "2024-03-06 12:48:24.263849: I tensorflow/core/grappler/optimizers/custom_graph_optimizer_registry.cc:114] Plugin optimizer for device_type GPU is enabled.\n"
     ]
    },
    {
     "name": "stdout",
     "output_type": "stream",
     "text": [
      "[CV] END epochs=7, n_channel_1=8, n_channel_2=64, n_dense=32; total time= 1.3min\n"
     ]
    },
    {
     "name": "stderr",
     "output_type": "stream",
     "text": [
      "2024-03-06 12:48:27.653774: I tensorflow/core/grappler/optimizers/custom_graph_optimizer_registry.cc:114] Plugin optimizer for device_type GPU is enabled.\n",
      "2024-03-06 12:50:22.729102: I tensorflow/core/grappler/optimizers/custom_graph_optimizer_registry.cc:114] Plugin optimizer for device_type GPU is enabled.\n"
     ]
    },
    {
     "name": "stdout",
     "output_type": "stream",
     "text": [
      "[CV] END epochs=7, n_channel_1=8, n_channel_2=64, n_dense=32; total time= 2.0min\n"
     ]
    },
    {
     "name": "stderr",
     "output_type": "stream",
     "text": [
      "2024-03-06 12:50:29.692029: I tensorflow/core/grappler/optimizers/custom_graph_optimizer_registry.cc:114] Plugin optimizer for device_type GPU is enabled.\n",
      "2024-03-06 12:52:15.314900: I tensorflow/core/grappler/optimizers/custom_graph_optimizer_registry.cc:114] Plugin optimizer for device_type GPU is enabled.\n"
     ]
    },
    {
     "name": "stdout",
     "output_type": "stream",
     "text": [
      "[CV] END epochs=7, n_channel_1=8, n_channel_2=64, n_dense=32; total time= 1.8min\n"
     ]
    },
    {
     "name": "stderr",
     "output_type": "stream",
     "text": [
      "2024-03-06 12:52:18.399723: I tensorflow/core/grappler/optimizers/custom_graph_optimizer_registry.cc:114] Plugin optimizer for device_type GPU is enabled.\n",
      "2024-03-06 12:53:02.257229: I tensorflow/core/grappler/optimizers/custom_graph_optimizer_registry.cc:114] Plugin optimizer for device_type GPU is enabled.\n"
     ]
    },
    {
     "name": "stdout",
     "output_type": "stream",
     "text": [
      "[CV] END epochs=5, n_channel_1=8, n_channel_2=32, n_dense=64; total time=  46.9s\n"
     ]
    },
    {
     "name": "stderr",
     "output_type": "stream",
     "text": [
      "2024-03-06 12:53:05.319978: I tensorflow/core/grappler/optimizers/custom_graph_optimizer_registry.cc:114] Plugin optimizer for device_type GPU is enabled.\n",
      "2024-03-06 12:53:49.184094: I tensorflow/core/grappler/optimizers/custom_graph_optimizer_registry.cc:114] Plugin optimizer for device_type GPU is enabled.\n"
     ]
    },
    {
     "name": "stdout",
     "output_type": "stream",
     "text": [
      "[CV] END epochs=5, n_channel_1=8, n_channel_2=32, n_dense=64; total time=  46.9s\n"
     ]
    },
    {
     "name": "stderr",
     "output_type": "stream",
     "text": [
      "2024-03-06 12:53:52.229468: I tensorflow/core/grappler/optimizers/custom_graph_optimizer_registry.cc:114] Plugin optimizer for device_type GPU is enabled.\n",
      "2024-03-06 12:54:49.106068: I tensorflow/core/grappler/optimizers/custom_graph_optimizer_registry.cc:114] Plugin optimizer for device_type GPU is enabled.\n"
     ]
    },
    {
     "name": "stdout",
     "output_type": "stream",
     "text": [
      "[CV] END epochs=5, n_channel_1=8, n_channel_2=32, n_dense=64; total time= 1.0min\n"
     ]
    },
    {
     "name": "stderr",
     "output_type": "stream",
     "text": [
      "2024-03-06 12:54:53.201288: I tensorflow/core/grappler/optimizers/custom_graph_optimizer_registry.cc:114] Plugin optimizer for device_type GPU is enabled.\n",
      "2024-03-06 12:55:40.058452: I tensorflow/core/grappler/optimizers/custom_graph_optimizer_registry.cc:114] Plugin optimizer for device_type GPU is enabled.\n"
     ]
    },
    {
     "name": "stdout",
     "output_type": "stream",
     "text": [
      "[CV] END epochs=5, n_channel_1=16, n_channel_2=32, n_dense=16; total time=  50.3s\n"
     ]
    },
    {
     "name": "stderr",
     "output_type": "stream",
     "text": [
      "2024-03-06 12:55:43.413007: I tensorflow/core/grappler/optimizers/custom_graph_optimizer_registry.cc:114] Plugin optimizer for device_type GPU is enabled.\n",
      "2024-03-06 12:56:35.539604: I tensorflow/core/grappler/optimizers/custom_graph_optimizer_registry.cc:114] Plugin optimizer for device_type GPU is enabled.\n"
     ]
    },
    {
     "name": "stdout",
     "output_type": "stream",
     "text": [
      "[CV] END epochs=5, n_channel_1=16, n_channel_2=32, n_dense=16; total time=  55.5s\n"
     ]
    },
    {
     "name": "stderr",
     "output_type": "stream",
     "text": [
      "2024-03-06 12:56:39.050008: I tensorflow/core/grappler/optimizers/custom_graph_optimizer_registry.cc:114] Plugin optimizer for device_type GPU is enabled.\n",
      "2024-03-06 12:57:24.729405: I tensorflow/core/grappler/optimizers/custom_graph_optimizer_registry.cc:114] Plugin optimizer for device_type GPU is enabled.\n"
     ]
    },
    {
     "name": "stdout",
     "output_type": "stream",
     "text": [
      "[CV] END epochs=5, n_channel_1=16, n_channel_2=32, n_dense=16; total time=  49.0s\n"
     ]
    },
    {
     "name": "stderr",
     "output_type": "stream",
     "text": [
      "2024-03-06 12:57:27.888642: I tensorflow/core/grappler/optimizers/custom_graph_optimizer_registry.cc:114] Plugin optimizer for device_type GPU is enabled.\n",
      "2024-03-06 12:58:55.896487: I tensorflow/core/grappler/optimizers/custom_graph_optimizer_registry.cc:114] Plugin optimizer for device_type GPU is enabled.\n"
     ]
    },
    {
     "name": "stdout",
     "output_type": "stream",
     "text": [
      "[CV] END epochs=10, n_channel_1=8, n_channel_2=16, n_dense=16; total time= 1.5min\n"
     ]
    },
    {
     "name": "stderr",
     "output_type": "stream",
     "text": [
      "2024-03-06 12:58:58.966546: I tensorflow/core/grappler/optimizers/custom_graph_optimizer_registry.cc:114] Plugin optimizer for device_type GPU is enabled.\n",
      "2024-03-06 13:00:26.569092: I tensorflow/core/grappler/optimizers/custom_graph_optimizer_registry.cc:114] Plugin optimizer for device_type GPU is enabled.\n"
     ]
    },
    {
     "name": "stdout",
     "output_type": "stream",
     "text": [
      "[CV] END epochs=10, n_channel_1=8, n_channel_2=16, n_dense=16; total time= 1.5min\n"
     ]
    },
    {
     "name": "stderr",
     "output_type": "stream",
     "text": [
      "2024-03-06 13:00:29.712589: I tensorflow/core/grappler/optimizers/custom_graph_optimizer_registry.cc:114] Plugin optimizer for device_type GPU is enabled.\n",
      "2024-03-06 13:01:56.941183: I tensorflow/core/grappler/optimizers/custom_graph_optimizer_registry.cc:114] Plugin optimizer for device_type GPU is enabled.\n"
     ]
    },
    {
     "name": "stdout",
     "output_type": "stream",
     "text": [
      "[CV] END epochs=10, n_channel_1=8, n_channel_2=16, n_dense=16; total time= 1.5min\n"
     ]
    },
    {
     "name": "stderr",
     "output_type": "stream",
     "text": [
      "2024-03-06 13:02:00.073915: I tensorflow/core/grappler/optimizers/custom_graph_optimizer_registry.cc:114] Plugin optimizer for device_type GPU is enabled.\n",
      "2024-03-06 13:03:17.116636: I tensorflow/core/grappler/optimizers/custom_graph_optimizer_registry.cc:114] Plugin optimizer for device_type GPU is enabled.\n"
     ]
    },
    {
     "name": "stdout",
     "output_type": "stream",
     "text": [
      "[CV] END epochs=7, n_channel_1=32, n_channel_2=64, n_dense=64; total time= 1.3min\n"
     ]
    },
    {
     "name": "stderr",
     "output_type": "stream",
     "text": [
      "2024-03-06 13:03:20.655220: I tensorflow/core/grappler/optimizers/custom_graph_optimizer_registry.cc:114] Plugin optimizer for device_type GPU is enabled.\n",
      "2024-03-06 13:04:30.729727: I tensorflow/core/grappler/optimizers/custom_graph_optimizer_registry.cc:114] Plugin optimizer for device_type GPU is enabled.\n"
     ]
    },
    {
     "name": "stdout",
     "output_type": "stream",
     "text": [
      "[CV] END epochs=7, n_channel_1=32, n_channel_2=64, n_dense=64; total time= 1.2min\n"
     ]
    },
    {
     "name": "stderr",
     "output_type": "stream",
     "text": [
      "2024-03-06 13:04:34.468218: I tensorflow/core/grappler/optimizers/custom_graph_optimizer_registry.cc:114] Plugin optimizer for device_type GPU is enabled.\n",
      "2024-03-06 13:05:44.490795: I tensorflow/core/grappler/optimizers/custom_graph_optimizer_registry.cc:114] Plugin optimizer for device_type GPU is enabled.\n"
     ]
    },
    {
     "name": "stdout",
     "output_type": "stream",
     "text": [
      "[CV] END epochs=7, n_channel_1=32, n_channel_2=64, n_dense=64; total time= 1.2min\n"
     ]
    },
    {
     "name": "stderr",
     "output_type": "stream",
     "text": [
      "2024-03-06 13:05:48.391712: I tensorflow/core/grappler/optimizers/custom_graph_optimizer_registry.cc:114] Plugin optimizer for device_type GPU is enabled.\n",
      "2024-03-06 13:06:51.964414: I tensorflow/core/grappler/optimizers/custom_graph_optimizer_registry.cc:114] Plugin optimizer for device_type GPU is enabled.\n"
     ]
    },
    {
     "name": "stdout",
     "output_type": "stream",
     "text": [
      "[CV] END epochs=7, n_channel_1=8, n_channel_2=32, n_dense=64; total time= 1.1min\n"
     ]
    },
    {
     "name": "stderr",
     "output_type": "stream",
     "text": [
      "2024-03-06 13:06:55.178771: I tensorflow/core/grappler/optimizers/custom_graph_optimizer_registry.cc:114] Plugin optimizer for device_type GPU is enabled.\n",
      "2024-03-06 13:07:56.174516: I tensorflow/core/grappler/optimizers/custom_graph_optimizer_registry.cc:114] Plugin optimizer for device_type GPU is enabled.\n"
     ]
    },
    {
     "name": "stdout",
     "output_type": "stream",
     "text": [
      "[CV] END epochs=7, n_channel_1=8, n_channel_2=32, n_dense=64; total time= 1.1min\n"
     ]
    },
    {
     "name": "stderr",
     "output_type": "stream",
     "text": [
      "2024-03-06 13:07:59.389621: I tensorflow/core/grappler/optimizers/custom_graph_optimizer_registry.cc:114] Plugin optimizer for device_type GPU is enabled.\n",
      "2024-03-06 13:09:02.792266: I tensorflow/core/grappler/optimizers/custom_graph_optimizer_registry.cc:114] Plugin optimizer for device_type GPU is enabled.\n"
     ]
    },
    {
     "name": "stdout",
     "output_type": "stream",
     "text": [
      "[CV] END epochs=7, n_channel_1=8, n_channel_2=32, n_dense=64; total time= 1.1min\n"
     ]
    },
    {
     "name": "stderr",
     "output_type": "stream",
     "text": [
      "2024-03-06 13:09:05.879805: I tensorflow/core/grappler/optimizers/custom_graph_optimizer_registry.cc:114] Plugin optimizer for device_type GPU is enabled.\n",
      "2024-03-06 13:10:33.672915: I tensorflow/core/grappler/optimizers/custom_graph_optimizer_registry.cc:114] Plugin optimizer for device_type GPU is enabled.\n"
     ]
    },
    {
     "name": "stdout",
     "output_type": "stream",
     "text": [
      "[CV] END epochs=10, n_channel_1=8, n_channel_2=32, n_dense=64; total time= 1.5min\n"
     ]
    },
    {
     "name": "stderr",
     "output_type": "stream",
     "text": [
      "2024-03-06 13:10:36.714736: I tensorflow/core/grappler/optimizers/custom_graph_optimizer_registry.cc:114] Plugin optimizer for device_type GPU is enabled.\n",
      "2024-03-06 13:12:02.149779: I tensorflow/core/grappler/optimizers/custom_graph_optimizer_registry.cc:114] Plugin optimizer for device_type GPU is enabled.\n"
     ]
    },
    {
     "name": "stdout",
     "output_type": "stream",
     "text": [
      "[CV] END epochs=10, n_channel_1=8, n_channel_2=32, n_dense=64; total time= 1.5min\n"
     ]
    },
    {
     "name": "stderr",
     "output_type": "stream",
     "text": [
      "2024-03-06 13:12:05.193829: I tensorflow/core/grappler/optimizers/custom_graph_optimizer_registry.cc:114] Plugin optimizer for device_type GPU is enabled.\n",
      "2024-03-06 13:13:30.698069: I tensorflow/core/grappler/optimizers/custom_graph_optimizer_registry.cc:114] Plugin optimizer for device_type GPU is enabled.\n"
     ]
    },
    {
     "name": "stdout",
     "output_type": "stream",
     "text": [
      "[CV] END epochs=10, n_channel_1=8, n_channel_2=32, n_dense=64; total time= 1.5min\n"
     ]
    },
    {
     "name": "stderr",
     "output_type": "stream",
     "text": [
      "2024-03-06 13:13:33.709182: I tensorflow/core/grappler/optimizers/custom_graph_optimizer_registry.cc:114] Plugin optimizer for device_type GPU is enabled.\n",
      "2024-03-06 13:15:01.259112: I tensorflow/core/grappler/optimizers/custom_graph_optimizer_registry.cc:114] Plugin optimizer for device_type GPU is enabled.\n"
     ]
    },
    {
     "name": "stdout",
     "output_type": "stream",
     "text": [
      "[CV] END epochs=10, n_channel_1=16, n_channel_2=32, n_dense=32; total time= 1.5min\n"
     ]
    },
    {
     "name": "stderr",
     "output_type": "stream",
     "text": [
      "2024-03-06 13:15:04.373406: I tensorflow/core/grappler/optimizers/custom_graph_optimizer_registry.cc:114] Plugin optimizer for device_type GPU is enabled.\n",
      "2024-03-06 13:16:33.126123: I tensorflow/core/grappler/optimizers/custom_graph_optimizer_registry.cc:114] Plugin optimizer for device_type GPU is enabled.\n"
     ]
    },
    {
     "name": "stdout",
     "output_type": "stream",
     "text": [
      "[CV] END epochs=10, n_channel_1=16, n_channel_2=32, n_dense=32; total time= 1.5min\n"
     ]
    },
    {
     "name": "stderr",
     "output_type": "stream",
     "text": [
      "2024-03-06 13:16:36.139935: I tensorflow/core/grappler/optimizers/custom_graph_optimizer_registry.cc:114] Plugin optimizer for device_type GPU is enabled.\n",
      "2024-03-06 13:18:03.395377: I tensorflow/core/grappler/optimizers/custom_graph_optimizer_registry.cc:114] Plugin optimizer for device_type GPU is enabled.\n"
     ]
    },
    {
     "name": "stdout",
     "output_type": "stream",
     "text": [
      "[CV] END epochs=10, n_channel_1=16, n_channel_2=32, n_dense=32; total time= 1.5min\n"
     ]
    },
    {
     "name": "stderr",
     "output_type": "stream",
     "text": [
      "2024-03-06 13:18:06.498287: I tensorflow/core/grappler/optimizers/custom_graph_optimizer_registry.cc:114] Plugin optimizer for device_type GPU is enabled.\n",
      "2024-03-06 13:18:51.940539: I tensorflow/core/grappler/optimizers/custom_graph_optimizer_registry.cc:114] Plugin optimizer for device_type GPU is enabled.\n"
     ]
    },
    {
     "name": "stdout",
     "output_type": "stream",
     "text": [
      "[CV] END epochs=5, n_channel_1=8, n_channel_2=64, n_dense=32; total time=  48.7s\n"
     ]
    },
    {
     "name": "stderr",
     "output_type": "stream",
     "text": [
      "2024-03-06 13:18:55.174294: I tensorflow/core/grappler/optimizers/custom_graph_optimizer_registry.cc:114] Plugin optimizer for device_type GPU is enabled.\n",
      "2024-03-06 13:19:40.580662: I tensorflow/core/grappler/optimizers/custom_graph_optimizer_registry.cc:114] Plugin optimizer for device_type GPU is enabled.\n"
     ]
    },
    {
     "name": "stdout",
     "output_type": "stream",
     "text": [
      "[CV] END epochs=5, n_channel_1=8, n_channel_2=64, n_dense=32; total time=  48.5s\n"
     ]
    },
    {
     "name": "stderr",
     "output_type": "stream",
     "text": [
      "2024-03-06 13:19:43.668665: I tensorflow/core/grappler/optimizers/custom_graph_optimizer_registry.cc:114] Plugin optimizer for device_type GPU is enabled.\n",
      "2024-03-06 13:20:28.946201: I tensorflow/core/grappler/optimizers/custom_graph_optimizer_registry.cc:114] Plugin optimizer for device_type GPU is enabled.\n"
     ]
    },
    {
     "name": "stdout",
     "output_type": "stream",
     "text": [
      "[CV] END epochs=5, n_channel_1=8, n_channel_2=64, n_dense=32; total time=  48.5s\n"
     ]
    },
    {
     "name": "stderr",
     "output_type": "stream",
     "text": [
      "2024-03-06 13:20:32.172667: I tensorflow/core/grappler/optimizers/custom_graph_optimizer_registry.cc:114] Plugin optimizer for device_type GPU is enabled.\n"
     ]
    },
    {
     "name": "stdout",
     "output_type": "stream",
     "text": [
      "Best: 0.980033 using {'n_dense': 32, 'n_channel_2': 64, 'n_channel_1': 8, 'epochs': 5}\n",
      "0.972033 (0.009041) with: {'n_dense': 64, 'n_channel_2': 32, 'n_channel_1': 32, 'epochs': 7}\n",
      "0.973967 (0.000772) with: {'n_dense': 32, 'n_channel_2': 64, 'n_channel_1': 8, 'epochs': 7}\n",
      "0.974183 (0.006649) with: {'n_dense': 64, 'n_channel_2': 32, 'n_channel_1': 8, 'epochs': 5}\n",
      "0.973067 (0.006351) with: {'n_dense': 16, 'n_channel_2': 32, 'n_channel_1': 16, 'epochs': 5}\n",
      "0.958883 (0.014342) with: {'n_dense': 16, 'n_channel_2': 16, 'n_channel_1': 8, 'epochs': 10}\n",
      "0.978250 (0.003443) with: {'n_dense': 64, 'n_channel_2': 64, 'n_channel_1': 32, 'epochs': 7}\n",
      "0.974900 (0.006013) with: {'n_dense': 64, 'n_channel_2': 32, 'n_channel_1': 8, 'epochs': 7}\n",
      "0.972867 (0.002211) with: {'n_dense': 64, 'n_channel_2': 32, 'n_channel_1': 8, 'epochs': 10}\n",
      "0.973933 (0.003747) with: {'n_dense': 32, 'n_channel_2': 32, 'n_channel_1': 16, 'epochs': 10}\n",
      "0.980033 (0.001062) with: {'n_dense': 32, 'n_channel_2': 64, 'n_channel_1': 8, 'epochs': 5}\n"
     ]
    }
   ],
   "source": [
    "# GPT code for RandomsearchCV\n",
    "\n",
    "from tensorflow.keras.wrappers.scikit_learn import KerasClassifier\n",
    "from sklearn.model_selection import RandomizedSearchCV\n",
    "\n",
    "# Define a function to create the Keras model with hyperparameters as arguments\n",
    "def create_model(n_channel_1=8, n_channel_2=16, n_dense=32):\n",
    "    model = keras.Sequential([\n",
    "        keras.layers.Conv2D(n_channel_1, (3,3), activation='relu', input_shape=(28,28,1)),\n",
    "        keras.layers.MaxPooling2D(2,2),\n",
    "        keras.layers.Conv2D(n_channel_2, (3,3), activation='relu'),\n",
    "        keras.layers.MaxPooling2D(2,2),\n",
    "        keras.layers.Flatten(),\n",
    "        keras.layers.Dense(n_dense, activation='relu'),\n",
    "        keras.layers.Dense(10, activation='softmax')\n",
    "    ])\n",
    "    model.compile(optimizer='adam', loss='sparse_categorical_crossentropy', metrics=['accuracy'])\n",
    "    return model\n",
    "\n",
    "# Wrap the model so it can be used by scikit-learn\n",
    "model = KerasClassifier(build_fn=create_model, verbose=0)\n",
    "\n",
    "# Define the hyperparameters grid to be randomized over\n",
    "param_dist = {\n",
    "    'n_channel_1': [8, 16, 32],\n",
    "    'n_channel_2': [16, 32, 64],\n",
    "    'n_dense': [16, 32, 64],\n",
    "    'epochs': [5, 7, 10]  # You can also tune other parameters like batch size\n",
    "}\n",
    "\n",
    "# Create a RandomizedSearchCV instance and fit it\n",
    "random_search = RandomizedSearchCV(estimator=model, param_distributions=param_dist, n_iter=10, cv=3, verbose=2)\n",
    "random_search_result = random_search.fit(x_train_reshaped, y_train)\n",
    "\n",
    "# Summarize results\n",
    "print(\"Best: %f using %s\" % (random_search_result.best_score_, random_search_result.best_params_))\n",
    "means = random_search_result.cv_results_['mean_test_score']\n",
    "stds = random_search_result.cv_results_['std_test_score']\n",
    "params = random_search_result.cv_results_['params']\n",
    "for mean, stdev, param in zip(means, stds, params):\n",
    "    print(\"%f (%f) with: %r\" % (mean, stdev, param))\n"
   ]
  },
  {
   "cell_type": "code",
   "execution_count": 20,
   "id": "cbae4ff3-d0f1-4023-b352-f65614fa00fd",
   "metadata": {
    "tags": []
   },
   "outputs": [
    {
     "name": "stdout",
     "output_type": "stream",
     "text": [
      "Collecting package metadata (current_repodata.json): done\n",
      "Solving environment: | \n",
      "The environment is inconsistent, please check the package plan carefully\n",
      "The following packages are causing the inconsistency:\n",
      "\n",
      "  - conda-forge/noarch::jupyter_contrib_core==0.4.0=pyhd8ed1ab_0\n",
      "  - defaults/osx-arm64::_anaconda_depends==2023.09=py311_openblas_1\n",
      "  - defaults/osx-arm64::python-lsp-black==1.2.1=py311hca03da5_0\n",
      "  - defaults/osx-arm64::jupyter_console==6.6.3=py311hca03da5_0\n",
      "  - defaults/osx-arm64::notebook==6.5.4=py311hca03da5_1\n",
      "  - conda-forge/noarch::jupyter_highlight_selected_word==0.2.0=pyhd8ed1ab_1006\n",
      "  - defaults/noarch::pyls-spyder==0.4.0=pyhd3eb1b0_0\n",
      "  - defaults/osx-arm64::jupyterlab==3.6.3=py311hca03da5_0\n",
      "  - defaults/osx-arm64::spyder==5.4.3=py311hca03da5_1\n",
      "  - defaults/osx-arm64::nbclassic==0.5.5=py311hca03da5_0\n",
      "  - defaults/osx-arm64::qtconsole==5.4.2=py311hca03da5_0\n",
      "  - defaults/osx-arm64::ipython==8.15.0=py311hca03da5_0\n",
      "  - defaults/osx-arm64::python-lsp-server==1.7.2=py311hca03da5_0\n",
      "  - conda-forge/noarch::jupyter_contrib_nbextensions==0.7.0=pyhd8ed1ab_0\n",
      "  - conda-forge/noarch::jupyter_latex_envs==1.4.6=pyhd8ed1ab_1002\n",
      "  - defaults/osx-arm64::spyder-kernels==2.4.4=py311hca03da5_0\n",
      "  - defaults/osx-arm64::ipywidgets==8.0.4=py311hca03da5_0\n",
      "  - conda-forge/noarch::jupyter_nbextensions_configurator==0.6.1=pyhd8ed1ab_0\n",
      "  - defaults/osx-arm64::ipykernel==6.25.0=py311hb6e6a13_0\n",
      "  - defaults/osx-arm64::jupyter==1.0.0=py311hca03da5_8\n",
      "done\n",
      "\n",
      "\n",
      "==> WARNING: A newer version of conda exists. <==\n",
      "  current version: 23.9.0\n",
      "  latest version: 24.1.2\n",
      "\n",
      "Please update conda by running\n",
      "\n",
      "    $ conda update -n base -c defaults conda\n",
      "\n",
      "Or to minimize the number of packages updated during conda update use\n",
      "\n",
      "     conda install conda=24.1.2\n",
      "\n",
      "\n",
      "\n",
      "## Package Plan ##\n",
      "\n",
      "  environment location: /Users/leegen/anaconda3\n",
      "\n",
      "  added / updated specs:\n",
      "    - jupyterlab-git\n",
      "\n",
      "\n",
      "The following packages will be downloaded:\n",
      "\n",
      "    package                    |            build\n",
      "    ---------------------------|-----------------\n",
      "    gitdb-4.0.11               |     pyhd8ed1ab_0          52 KB  conda-forge\n",
      "    gitpython-3.1.42           |     pyhd8ed1ab_0         146 KB  conda-forge\n",
      "    jedi-0.18.2                |     pyhd8ed1ab_0         786 KB  conda-forge\n",
      "    jupyter-server-mathjax-0.2.6|     pyh5bfe37b_1         2.0 MB  conda-forge\n",
      "    jupyterlab-git-0.39.3      |     pyhd8ed1ab_0         923 KB  conda-forge\n",
      "    nbdime-3.2.1               |     pyhd8ed1ab_0         3.8 MB  conda-forge\n",
      "    openssl-1.1.1w             |       h53f4e23_0         1.6 MB  conda-forge\n",
      "    smmap-5.0.0                |     pyhd8ed1ab_0          22 KB  conda-forge\n",
      "    ------------------------------------------------------------\n",
      "                                           Total:         9.2 MB\n",
      "\n",
      "The following NEW packages will be INSTALLED:\n",
      "\n",
      "  gitdb              conda-forge/noarch::gitdb-4.0.11-pyhd8ed1ab_0 \n",
      "  gitpython          conda-forge/noarch::gitpython-3.1.42-pyhd8ed1ab_0 \n",
      "  jedi               conda-forge/noarch::jedi-0.18.2-pyhd8ed1ab_0 \n",
      "  jupyter-server-ma~ conda-forge/noarch::jupyter-server-mathjax-0.2.6-pyh5bfe37b_1 \n",
      "  jupyterlab-git     conda-forge/noarch::jupyterlab-git-0.39.3-pyhd8ed1ab_0 \n",
      "  nbdime             conda-forge/noarch::nbdime-3.2.1-pyhd8ed1ab_0 \n",
      "  smmap              conda-forge/noarch::smmap-5.0.0-pyhd8ed1ab_0 \n",
      "\n",
      "The following packages will be SUPERSEDED by a higher-priority channel:\n",
      "\n",
      "  certifi            pkgs/main/osx-arm64::certifi-2024.2.2~ --> conda-forge/noarch::certifi-2024.2.2-pyhd8ed1ab_0 \n",
      "  openssl              pkgs/main::openssl-1.1.1w-h1a28f6b_0 --> conda-forge::openssl-1.1.1w-h53f4e23_0 \n",
      "\n",
      "\n",
      "\n",
      "Downloading and Extracting Packages:\n",
      "gitdb-4.0.11         | 52 KB     |                                       |   0% \n",
      "jedi-0.18.2          | 786 KB    |                                       |   0% \u001b[A\n",
      "\n",
      "smmap-5.0.0          | 22 KB     |                                       |   0% \u001b[A\u001b[A\n",
      "\n",
      "\n",
      "nbdime-3.2.1         | 3.8 MB    |                                       |   0% \u001b[A\u001b[A\u001b[A\n",
      "\n",
      "\n",
      "\n",
      "jupyter-server-mathj | 2.0 MB    |                                       |   0% \u001b[A\u001b[A\u001b[A\u001b[A\n",
      "\n",
      "\n",
      "\n",
      "\n",
      "jupyterlab-git-0.39. | 923 KB    |                                       |   0% \u001b[A\u001b[A\u001b[A\u001b[A\u001b[A\n",
      "\n",
      "\n",
      "\n",
      "\n",
      "\n",
      "openssl-1.1.1w       | 1.6 MB    |                                       |   0% \u001b[A\u001b[A\u001b[A\u001b[A\u001b[A\u001b[A\n",
      "\n",
      "\n",
      "\n",
      "\n",
      "\n",
      "\n",
      "gitdb-4.0.11         | 52 KB     | ##################################### | 100% \u001b[A\u001b[A\u001b[A\u001b[A\u001b[A\u001b[A\u001b[A\n",
      "jedi-0.18.2          | 786 KB    | 7                                     |   2% \u001b[A\n",
      "\n",
      "\n",
      "\n",
      "\n",
      "jupyterlab-git-0.39. | 923 KB    | 6                                     |   2% \u001b[A\u001b[A\u001b[A\u001b[A\u001b[A\n",
      "jedi-0.18.2          | 786 KB    | ################5                     |  45% \u001b[A\n",
      "\n",
      "\n",
      "\n",
      "\n",
      "jupyterlab-git-0.39. | 923 KB    | ######4                               |  17% \u001b[A\u001b[A\u001b[A\u001b[A\u001b[A\n",
      "jedi-0.18.2          | 786 KB    | ##############################1       |  81% \u001b[A\n",
      "\n",
      "\n",
      "\n",
      "\n",
      "jupyterlab-git-0.39. | 923 KB    | ###################8                  |  54% \u001b[A\u001b[A\u001b[A\u001b[A\u001b[A\n",
      "\n",
      "\n",
      "\n",
      "\n",
      "jupyterlab-git-0.39. | 923 KB    | ############################2         |  76% \u001b[A\u001b[A\u001b[A\u001b[A\u001b[A\n",
      "\n",
      "smmap-5.0.0          | 22 KB     | ##########################9           |  73% \u001b[A\u001b[A\n",
      "\n",
      "\n",
      "\n",
      "\n",
      "\n",
      "openssl-1.1.1w       | 1.6 MB    | 3                                     |   1% \u001b[A\u001b[A\u001b[A\u001b[A\u001b[A\u001b[A\n",
      "\n",
      "smmap-5.0.0          | 22 KB     | ##################################### | 100% \u001b[A\u001b[A\n",
      "\n",
      "\n",
      "\n",
      "jupyter-server-mathj | 2.0 MB    | 2                                     |   1% \u001b[A\u001b[A\u001b[A\u001b[A\n",
      "\n",
      "\n",
      "\n",
      "\n",
      "\n",
      "openssl-1.1.1w       | 1.6 MB    | ################1                     |  44% \u001b[A\u001b[A\u001b[A\u001b[A\u001b[A\u001b[A\n",
      "\n",
      "\n",
      "\n",
      "\n",
      "\n",
      "\n",
      "gitpython-3.1.42     | 146 KB    | ####                                  |  11% \u001b[A\u001b[A\u001b[A\u001b[A\u001b[A\u001b[A\u001b[A\n",
      "\n",
      "\n",
      "nbdime-3.2.1         | 3.8 MB    | 1                                     |   0% \u001b[A\u001b[A\u001b[A\n",
      "\n",
      "\n",
      "nbdime-3.2.1         | 3.8 MB    | 6                                     |   2% \u001b[A\u001b[A\u001b[A\n",
      "\n",
      "\n",
      "\n",
      "\n",
      "\n",
      "openssl-1.1.1w       | 1.6 MB    | ########################9             |  67% \u001b[A\u001b[A\u001b[A\u001b[A\u001b[A\u001b[A\n",
      "\n",
      "\n",
      "\n",
      "jupyter-server-mathj | 2.0 MB    | ##                                    |   6% \u001b[A\u001b[A\u001b[A\u001b[A\n",
      "\n",
      "\n",
      "\n",
      "\n",
      "\n",
      "\n",
      "gitpython-3.1.42     | 146 KB    | ####################2                 |  55% \u001b[A\u001b[A\u001b[A\u001b[A\u001b[A\u001b[A\u001b[A\n",
      "\n",
      "\n",
      "\n",
      "\n",
      "jupyterlab-git-0.39. | 923 KB    | ##################################### | 100% \u001b[A\u001b[A\u001b[A\u001b[A\u001b[A\n",
      "\n",
      "\n",
      "\n",
      "\n",
      "jupyterlab-git-0.39. | 923 KB    | ##################################### | 100% \u001b[A\u001b[A\u001b[A\u001b[A\u001b[A\n",
      "\n",
      "\n",
      "\n",
      "\n",
      "\n",
      "openssl-1.1.1w       | 1.6 MB    | ###################################9  |  97% \u001b[A\u001b[A\u001b[A\u001b[A\u001b[A\u001b[A\n",
      "\n",
      "\n",
      "nbdime-3.2.1         | 3.8 MB    | ##2                                   |   6% \u001b[A\u001b[A\u001b[A\n",
      "\n",
      "\n",
      "\n",
      "jupyter-server-mathj | 2.0 MB    | #######7                              |  21% \u001b[A\u001b[A\u001b[A\u001b[A\n",
      "\n",
      "\n",
      "\n",
      "\n",
      "\n",
      "\n",
      "gitpython-3.1.42     | 146 KB    | ##################################### | 100% \u001b[A\u001b[A\u001b[A\u001b[A\u001b[A\u001b[A\u001b[A\n",
      "\n",
      "\n",
      "\n",
      "\n",
      "\n",
      "\n",
      "gitpython-3.1.42     | 146 KB    | ##################################### | 100% \u001b[A\u001b[A\u001b[A\u001b[A\u001b[A\u001b[A\u001b[A\n",
      "\n",
      "\n",
      "nbdime-3.2.1         | 3.8 MB    | #####9                                |  16% \u001b[A\u001b[A\u001b[A\n",
      "\n",
      "\n",
      "\n",
      "jupyter-server-mathj | 2.0 MB    | #############6                        |  37% \u001b[A\u001b[A\u001b[A\u001b[A\n",
      "\n",
      "\n",
      "\n",
      "\n",
      "\n",
      "openssl-1.1.1w       | 1.6 MB    | ##################################### | 100% \u001b[A\u001b[A\u001b[A\u001b[A\u001b[A\u001b[A\n",
      "\n",
      "\n",
      "nbdime-3.2.1         | 3.8 MB    | ##########5                           |  29% \u001b[A\u001b[A\u001b[A\n",
      "\n",
      "\n",
      "\n",
      "jupyter-server-mathj | 2.0 MB    | #################4                    |  47% \u001b[A\u001b[A\u001b[A\u001b[A\n",
      "\n",
      "\n",
      "nbdime-3.2.1         | 3.8 MB    | #############7                        |  37% \u001b[A\u001b[A\u001b[A\n",
      "\n",
      "\n",
      "\n",
      "jupyter-server-mathj | 2.0 MB    | ##########################            |  70% \u001b[A\u001b[A\u001b[A\u001b[A\n",
      "jedi-0.18.2          | 786 KB    | ##################################### | 100% \u001b[A\n",
      "\n",
      "\n",
      "nbdime-3.2.1         | 3.8 MB    | #################9                    |  48% \u001b[A\u001b[A\u001b[A\n",
      "\n",
      "\n",
      "\n",
      "jupyter-server-mathj | 2.0 MB    | ###############################4      |  85% \u001b[A\u001b[A\u001b[A\u001b[A\n",
      "\n",
      "\n",
      "nbdime-3.2.1         | 3.8 MB    | #####################2                |  57% \u001b[A\u001b[A\u001b[A\n",
      "\n",
      "\n",
      "nbdime-3.2.1         | 3.8 MB    | #############################6        |  80% \u001b[A\u001b[A\u001b[A\n",
      "\n",
      "\n",
      "nbdime-3.2.1         | 3.8 MB    | ####################################4 |  98% \u001b[A\u001b[A\u001b[A\n",
      "\n",
      "\n",
      "nbdime-3.2.1         | 3.8 MB    | ##################################### | 100% \u001b[A\u001b[A\u001b[A\n",
      "\n",
      "\n",
      "\n",
      "jupyter-server-mathj | 2.0 MB    | ##################################### | 100% \u001b[A\u001b[A\u001b[A\u001b[A\n",
      "\n",
      "\n",
      "\n",
      "                                                                                \u001b[A\u001b[A\u001b[A\u001b[A\n",
      "                                                                                \u001b[A\n",
      "\n",
      "                                                                                \u001b[A\u001b[A\n",
      "\n",
      "\n",
      "                                                                                \u001b[A\u001b[A\u001b[A\n",
      "\n",
      "\n",
      "\n",
      "                                                                                \u001b[A\u001b[A\u001b[A\u001b[A\n",
      "\n",
      "\n",
      "\n",
      "\n",
      "                                                                                \u001b[A\u001b[A\u001b[A\u001b[A\u001b[A\n",
      "\n",
      "\n",
      "\n",
      "\n",
      "\n",
      "                                                                                \u001b[A\u001b[A\u001b[A\u001b[A\u001b[A\u001b[A\n",
      "\n",
      "\n",
      "\n",
      "\n",
      "\n",
      "\n",
      "                                                                                \u001b[A\u001b[A\u001b[A\u001b[A\u001b[A\u001b[A\u001b[A\n",
      "Preparing transaction: done\n",
      "Verifying transaction: done\n",
      "Executing transaction: done\n",
      "\n",
      "Note: you may need to restart the kernel to use updated packages.\n"
     ]
    }
   ],
   "source": [
    "conda install -c conda-forge jupyterlab-git"
   ]
  },
  {
   "cell_type": "code",
   "execution_count": null,
   "id": "895e8069-4c91-4d2b-bd8a-83e87dfc7911",
   "metadata": {
    "tags": []
   },
   "outputs": [
    {
     "name": "stdout",
     "output_type": "stream",
     "text": [
      "Collecting package metadata (current_repodata.json): done\n",
      "Solving environment: unsuccessful initial attempt using frozen solve. Retrying with flexible solve.\n",
      "Solving environment: - "
     ]
    }
   ],
   "source": [
    "conda install -c conda-forge jupyterlab_execute_time"
   ]
  },
  {
   "cell_type": "code",
   "execution_count": 1,
   "id": "7f3739c9-36ef-4104-b675-31faa527fe21",
   "metadata": {},
   "outputs": [
    {
     "name": "stdout",
     "output_type": "stream",
     "text": [
      "Collecting package metadata (current_repodata.json): done\n",
      "Solving environment: unsuccessful initial attempt using frozen solve. Retrying with flexible solve.\n",
      "Collecting package metadata (repodata.json): done\n",
      "Solving environment: unsuccessful initial attempt using frozen solve. Retrying with flexible solve.\n",
      "\n",
      "PackagesNotFoundError: The following packages are not available from current channels:\n",
      "\n",
      "  - lckr-jupyterlab-variableinspector\n",
      "\n",
      "Current channels:\n",
      "\n",
      "  - https://repo.anaconda.com/pkgs/main/osx-arm64\n",
      "  - https://repo.anaconda.com/pkgs/main/noarch\n",
      "  - https://repo.anaconda.com/pkgs/r/osx-arm64\n",
      "  - https://repo.anaconda.com/pkgs/r/noarch\n",
      "\n",
      "To search for alternate channels that may provide the conda package you're\n",
      "looking for, navigate to\n",
      "\n",
      "    https://anaconda.org\n",
      "\n",
      "and use the search bar at the top of the page.\n",
      "\n",
      "\n",
      "\n",
      "Note: you may need to restart the kernel to use updated packages.\n"
     ]
    }
   ],
   "source": [
    "conda install lckr-jupyterlab-variableinspector"
   ]
  },
  {
   "cell_type": "code",
   "execution_count": 2,
   "id": "8bcac9be-b887-4c3f-b9ef-d4d3938ea5d2",
   "metadata": {
    "tags": []
   },
   "outputs": [
    {
     "name": "stdout",
     "output_type": "stream",
     "text": [
      "Collecting package metadata (current_repodata.json): \\ WARNING conda.models.version:get_matcher(556): Using .* with relational operator is superfluous and deprecated and will be removed in a future version of conda. Your spec was 3.*, but conda is ignoring the .* and treating it as 3\n",
      "done\n",
      "Solving environment: done\n",
      "\n",
      "\n",
      "==> WARNING: A newer version of conda exists. <==\n",
      "  current version: 23.9.0\n",
      "  latest version: 24.1.2\n",
      "\n",
      "Please update conda by running\n",
      "\n",
      "    $ conda update -n base -c defaults conda\n",
      "\n",
      "Or to minimize the number of packages updated during conda update use\n",
      "\n",
      "     conda install conda=24.1.2\n",
      "\n",
      "\n",
      "\n",
      "## Package Plan ##\n",
      "\n",
      "  environment location: /Users/leegen/anaconda3\n",
      "\n",
      "  added / updated specs:\n",
      "    - jupyterlab-system-monitor\n",
      "\n",
      "\n",
      "The following packages will be downloaded:\n",
      "\n",
      "    package                    |            build\n",
      "    ---------------------------|-----------------\n",
      "    jupyter-resource-usage-0.7.1|     pyhd8ed1ab_0          33 KB  conda-forge\n",
      "    jupyterlab-system-monitor-0.8.0|     pyhd8ed1ab_2          30 KB  conda-forge\n",
      "    jupyterlab-topbar-0.6.1    |     pyhd8ed1ab_2          20 KB  conda-forge\n",
      "    ------------------------------------------------------------\n",
      "                                           Total:          84 KB\n",
      "\n",
      "The following NEW packages will be INSTALLED:\n",
      "\n",
      "  jupyter-resource-~ conda-forge/noarch::jupyter-resource-usage-0.7.1-pyhd8ed1ab_0 \n",
      "  jupyterlab-system~ conda-forge/noarch::jupyterlab-system-monitor-0.8.0-pyhd8ed1ab_2 \n",
      "  jupyterlab-topbar  conda-forge/noarch::jupyterlab-topbar-0.6.1-pyhd8ed1ab_2 \n",
      "\n",
      "\n",
      "\n",
      "Downloading and Extracting Packages:\n",
      "jupyterlab-topbar-0. | 20 KB     |                                       |   0% \n",
      "jupyterlab-system-mo | 30 KB     |                                       |   0% \u001b[A\n",
      "\n",
      "jupyter-resource-usa | 33 KB     |                                       |   0% \u001b[A\u001b[A\n",
      "\n",
      "jupyterlab-topbar-0. | 20 KB     | ############################9         |  78% \u001b[A\u001b[A\n",
      "\n",
      "jupyterlab-topbar-0. | 20 KB     | ##################################### | 100% \u001b[A\u001b[A\n",
      "jupyterlab-system-mo | 30 KB     | ###################6                  |  53% \u001b[A\n",
      "                                                                                \u001b[A\n",
      "                                                                                \u001b[A\n",
      "\n",
      "                                                                                \u001b[A\u001b[A\n",
      "Preparing transaction: done\n",
      "Verifying transaction: done\n",
      "Executing transaction: done\n",
      "\n",
      "Note: you may need to restart the kernel to use updated packages.\n"
     ]
    }
   ],
   "source": [
    "conda install -c conda-forge jupyterlab-system-monitor"
   ]
  },
  {
   "cell_type": "code",
   "execution_count": 3,
   "id": "c7e6f42f-f80d-4085-93da-d30140ef5f8d",
   "metadata": {
    "tags": []
   },
   "outputs": [
    {
     "name": "stdout",
     "output_type": "stream",
     "text": [
      "Collecting package metadata (current_repodata.json): \\ WARNING conda.models.version:get_matcher(556): Using .* with relational operator is superfluous and deprecated and will be removed in a future version of conda. Your spec was 3.*, but conda is ignoring the .* and treating it as 3\n",
      "done\n",
      "Solving environment: done\n",
      "\n",
      "\n",
      "==> WARNING: A newer version of conda exists. <==\n",
      "  current version: 23.9.0\n",
      "  latest version: 24.1.2\n",
      "\n",
      "Please update conda by running\n",
      "\n",
      "    $ conda update -n base -c defaults conda\n",
      "\n",
      "Or to minimize the number of packages updated during conda update use\n",
      "\n",
      "     conda install conda=24.1.2\n",
      "\n",
      "\n",
      "\n",
      "## Package Plan ##\n",
      "\n",
      "  environment location: /Users/leegen/anaconda3\n",
      "\n",
      "  added / updated specs:\n",
      "    - jupyterlab-variableinspector\n",
      "\n",
      "\n",
      "The following packages will be downloaded:\n",
      "\n",
      "    package                    |            build\n",
      "    ---------------------------|-----------------\n",
      "    jupyterlab-variableinspector-3.2.1|     pyhd8ed1ab_0         126 KB  conda-forge\n",
      "    ------------------------------------------------------------\n",
      "                                           Total:         126 KB\n",
      "\n",
      "The following NEW packages will be INSTALLED:\n",
      "\n",
      "  jupyterlab-variab~ conda-forge/noarch::jupyterlab-variableinspector-3.2.1-pyhd8ed1ab_0 \n",
      "\n",
      "\n",
      "\n",
      "Downloading and Extracting Packages:\n",
      "                                                                                \n",
      "Preparing transaction: done\n",
      "Verifying transaction: done\n",
      "Executing transaction: done\n",
      "\n",
      "Note: you may need to restart the kernel to use updated packages.\n"
     ]
    }
   ],
   "source": [
    "conda install -c conda-forge jupyterlab-variableinspector"
   ]
  },
  {
   "cell_type": "code",
   "execution_count": null,
   "id": "aaee6969-3a00-4f8c-9d5a-7befabb1ce94",
   "metadata": {},
   "outputs": [],
   "source": []
  }
 ],
 "metadata": {
  "kernelspec": {
   "display_name": "Python 3 (ipykernel)",
   "language": "python",
   "name": "python3"
  },
  "language_info": {
   "codemirror_mode": {
    "name": "ipython",
    "version": 3
   },
   "file_extension": ".py",
   "mimetype": "text/x-python",
   "name": "python",
   "nbconvert_exporter": "python",
   "pygments_lexer": "ipython3",
   "version": "3.11.5"
  }
 },
 "nbformat": 4,
 "nbformat_minor": 5
}
