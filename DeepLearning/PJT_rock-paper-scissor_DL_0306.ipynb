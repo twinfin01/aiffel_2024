{
 "cells": [
  {
   "cell_type": "code",
   "execution_count": 1,
   "id": "42ab0e03",
   "metadata": {},
   "outputs": [
    {
     "name": "stdout",
     "output_type": "stream",
     "text": [
      "2.6.0\n",
      "1.22.2\n"
     ]
    }
   ],
   "source": [
    "import tensorflow as tf\n",
    "import numpy as np\n",
    "\n",
    "print(tf.__version__)\n",
    "print(np.__version__)"
   ]
  },
  {
   "cell_type": "code",
   "execution_count": 2,
   "id": "90c3fbf5",
   "metadata": {},
   "outputs": [
    {
     "name": "stdout",
     "output_type": "stream",
     "text": [
      "PIL 라이브러리 import 완료!\n"
     ]
    }
   ],
   "source": [
    "from PIL import Image \n",
    "import glob\n",
    "import os\n",
    "\n",
    "print(\"PIL 라이브러리 import 완료!\")"
   ]
  },
  {
   "cell_type": "code",
   "execution_count": 3,
   "id": "09d11420",
   "metadata": {},
   "outputs": [
    {
     "name": "stdout",
     "output_type": "stream",
     "text": [
      "133  images to be resized.\n",
      "133  images resized.\n",
      "가위 이미지 resize 완료!\n"
     ]
    }
   ],
   "source": [
    "def resize_images(img_path):\n",
    "\timages=glob.glob(img_path + \"/*.jpg\")  \n",
    "    \n",
    "\tprint(len(images), \" images to be resized.\")\n",
    "\n",
    "    # 파일마다 모두 28x28 사이즈로 바꾸어 저장합니다.\n",
    "\ttarget_size=(32,32)\n",
    "\tfor img in images:\n",
    "\t\told_img=Image.open(img)\n",
    "\t\tnew_img=old_img.resize(target_size,Image.ANTIALIAS)\n",
    "\t\tnew_img.save(img, \"JPEG\")\n",
    "    \n",
    "\tprint(len(images), \" images resized.\")\n",
    "\t\n",
    "# 가위 이미지가 저장된 디렉토리 아래의 모든 jpg 파일을 읽어들여서\n",
    "image_dir_path = os.getenv(\"HOME\") + \"/aiffel/DeepLearning/rock_scissor_paper/scissor\"\n",
    "resize_images(image_dir_path)\n",
    "\n",
    "print(\"가위 이미지 resize 완료!\")"
   ]
  },
  {
   "cell_type": "code",
   "execution_count": 4,
   "id": "eb32dad7",
   "metadata": {},
   "outputs": [
    {
     "name": "stdout",
     "output_type": "stream",
     "text": [
      "107  images to be resized.\n",
      "107  images resized.\n",
      "118  images to be resized.\n",
      "118  images resized.\n"
     ]
    }
   ],
   "source": [
    "# 바위 이미지가 저장된 디렉토리 아래의 모든 jpg 파일을 읽어들여서\n",
    "\n",
    "image_dir_path = os.getenv(\"HOME\") + \"/aiffel/DeepLearning/rock_scissor_paper/rock\"\n",
    "resize_images(image_dir_path)\n",
    "\n",
    "# 보 이미지가 저장된 디렉토리 아래의 모든 jpg 파일을 읽어들여서\n",
    "# [[YOUR CODE]]\n",
    "\n",
    "# 파일마다 모두 28x28 사이즈로 바꾸어 저장합니다.\n",
    "\n",
    "image_dir_path = os.getenv(\"HOME\") + \"/aiffel/DeepLearning/rock_scissor_paper/paper\"\n",
    "resize_images(image_dir_path)"
   ]
  },
  {
   "cell_type": "code",
   "execution_count": 5,
   "id": "c40e64a7",
   "metadata": {},
   "outputs": [
    {
     "name": "stdout",
     "output_type": "stream",
     "text": [
      "학습데이터(x_train)의 이미지 개수는 358 입니다.\n",
      "x_train shape: (363, 32, 32, 3)\n",
      "y_train shape: (363,)\n"
     ]
    }
   ],
   "source": [
    "import numpy as np\n",
    "\n",
    "def load_data(img_path, number_of_data=363):  # 가위바위보 이미지 개수 총합에 주의하세요.\n",
    "    # 가위 : 0, 바위 : 1, 보 : 2\n",
    "    img_size=32\n",
    "    color=3\n",
    "    #이미지 데이터와 라벨(가위 : 0, 바위 : 1, 보 : 2) 데이터를 담을 행렬(matrix) 영역을 생성합니다.\n",
    "    imgs=np.zeros(number_of_data*img_size*img_size*color,dtype=np.int32\n",
    "    ).reshape(number_of_data,img_size,img_size,color)\n",
    "    labels=np.zeros(number_of_data,dtype=np.int32)\n",
    "\n",
    "    idx=0\n",
    "    for file in glob.iglob(img_path+'/scissor/*.jpg'):\n",
    "        img = np.array(Image.open(file),dtype=np.int32)\n",
    "        imgs[idx,:,:,:]=img    # 데이터 영역에 이미지 행렬을 복사\n",
    "        labels[idx]=0   # 가위 : 0\n",
    "        idx=idx+1\n",
    "\n",
    "    for file in glob.iglob(img_path+'/rock/*.jpg'):\n",
    "        img = np.array(Image.open(file),dtype=np.int32)\n",
    "        imgs[idx,:,:,:]=img    # 데이터 영역에 이미지 행렬을 복사\n",
    "        labels[idx]=1   # 바위 : 1\n",
    "        idx=idx+1  \n",
    "    \n",
    "    for file in glob.iglob(img_path+'/paper/*.jpg'):\n",
    "        img = np.array(Image.open(file),dtype=np.int32)\n",
    "        imgs[idx,:,:,:]=img    # 데이터 영역에 이미지 행렬을 복사\n",
    "        labels[idx]=2   # 보 : 2\n",
    "        idx=idx+1\n",
    "        \n",
    "    print(\"학습데이터(x_train)의 이미지 개수는\", idx,\"입니다.\")\n",
    "    return imgs, labels\n",
    "\n",
    "image_dir_path = os.getenv(\"HOME\") + \"/aiffel/DeepLearning/rock_scissor_paper\"\n",
    "(x_train, y_train)=load_data(image_dir_path)\n",
    "x_train_norm = x_train/255.0   # 입력은 0~1 사이의 값으로 정규화\n",
    "\n",
    "print(\"x_train shape: {}\".format(x_train.shape))\n",
    "print(\"y_train shape: {}\".format(y_train.shape))"
   ]
  },
  {
   "cell_type": "code",
   "execution_count": 6,
   "id": "3a122eb8",
   "metadata": {},
   "outputs": [
    {
     "name": "stdout",
     "output_type": "stream",
     "text": [
      "라벨:  0\n"
     ]
    },
    {
     "data": {
      "image/png": "[encoded data removed]",
      "text/plain": [
       "<Figure size 432x288 with 1 Axes>"
      ]
     },
     "metadata": {
      "needs_background": "light"
     },
     "output_type": "display_data"
    }
   ],
   "source": [
    "import matplotlib.pyplot as plt\n",
    "\n",
    "plt.imshow(x_train[0])\n",
    "print('라벨: ', y_train[0])"
   ]
  },
  {
   "cell_type": "code",
   "execution_count": 8,
   "id": "2d839558",
   "metadata": {},
   "outputs": [
    {
     "name": "stdout",
     "output_type": "stream",
     "text": [
      "Model: \"sequential\"\n",
      "_________________________________________________________________\n",
      "Layer (type)                 Output Shape              Param #   \n",
      "=================================================================\n",
      "conv2d (Conv2D)              (None, 30, 30, 32)        896       \n",
      "_________________________________________________________________\n",
      "batch_normalization (BatchNo (None, 30, 30, 32)        128       \n",
      "_________________________________________________________________\n",
      "max_pooling2d (MaxPooling2D) (None, 15, 15, 32)        0         \n",
      "_________________________________________________________________\n",
      "conv2d_1 (Conv2D)            (None, 13, 13, 64)        18496     \n",
      "_________________________________________________________________\n",
      "batch_normalization_1 (Batch (None, 13, 13, 64)        256       \n",
      "_________________________________________________________________\n",
      "dropout (Dropout)            (None, 13, 13, 64)        0         \n",
      "_________________________________________________________________\n",
      "max_pooling2d_1 (MaxPooling2 (None, 6, 6, 64)          0         \n",
      "_________________________________________________________________\n",
      "flatten (Flatten)            (None, 2304)              0         \n",
      "_________________________________________________________________\n",
      "dense (Dense)                (None, 32)                73760     \n",
      "_________________________________________________________________\n",
      "dropout_1 (Dropout)          (None, 32)                0         \n",
      "_________________________________________________________________\n",
      "dense_1 (Dense)              (None, 3)                 99        \n",
      "=================================================================\n",
      "Total params: 93,635\n",
      "Trainable params: 93,443\n",
      "Non-trainable params: 192\n",
      "_________________________________________________________________\n"
     ]
    }
   ],
   "source": [
    "import numpy as np\n",
    "from tensorflow import keras\n",
    "from tensorflow.keras.layers import Conv2D, MaxPooling2D, Flatten, Dense, Dropout, BatchNormalization\n",
    "import matplotlib.pyplot as plt\n",
    "\n",
    "# 아래의 하이퍼파라미터는 예시입니다. 높은 인식률을 얻기 위해 하이퍼파라미터를 수정해 보세요. \n",
    "n_channel_1=16\n",
    "n_channel_2=32\n",
    "n_dense=32\n",
    "n_train_epoch=20\n",
    "\n",
    "model = keras.Sequential([\n",
    "            Conv2D(32, (3,3), activation='relu', input_shape=(32,32,3)),\n",
    "            BatchNormalization(),\n",
    "            MaxPooling2D(2,2),\n",
    "            Conv2D(64, (3,3), activation='relu'),\n",
    "            BatchNormalization(),\n",
    "            Dropout(0.2),\n",
    "            MaxPooling2D(2,2),\n",
    "            Flatten(),\n",
    "            Dense(32, activation='relu'),\n",
    "            Dropout(0.2),\n",
    "            Dense(3, activation='softmax')  # Assuming you have 3 classes\n",
    "        ])\n",
    "\n",
    "model.summary()"
   ]
  },
  {
   "cell_type": "code",
   "execution_count": 9,
   "id": "798be91a",
   "metadata": {},
   "outputs": [
    {
     "name": "stdout",
     "output_type": "stream",
     "text": [
      "Epoch 1/20\n",
      "11/11 [==============================] - 2s 100ms/step - loss: 1.0059 - accuracy: 0.6840 - val_loss: 1.3333 - val_accuracy: 0.0000e+00\n",
      "Epoch 2/20\n",
      "11/11 [==============================] - 1s 79ms/step - loss: 0.1832 - accuracy: 0.9325 - val_loss: 1.3624 - val_accuracy: 0.0000e+00\n",
      "Epoch 3/20\n",
      "11/11 [==============================] - 1s 76ms/step - loss: 0.0751 - accuracy: 0.9877 - val_loss: 1.3879 - val_accuracy: 0.0000e+00\n",
      "Epoch 4/20\n",
      "11/11 [==============================] - 1s 73ms/step - loss: 0.0613 - accuracy: 0.9755 - val_loss: 1.3422 - val_accuracy: 0.0000e+00\n",
      "Epoch 5/20\n",
      "11/11 [==============================] - 1s 71ms/step - loss: 0.0253 - accuracy: 1.0000 - val_loss: 1.2847 - val_accuracy: 0.0000e+00\n",
      "Epoch 6/20\n",
      "11/11 [==============================] - 1s 82ms/step - loss: 0.0223 - accuracy: 0.9969 - val_loss: 1.0129 - val_accuracy: 0.8649\n",
      "Epoch 7/20\n",
      "11/11 [==============================] - 1s 73ms/step - loss: 0.0152 - accuracy: 1.0000 - val_loss: 0.8953 - val_accuracy: 0.8649\n",
      "Epoch 8/20\n",
      "11/11 [==============================] - 1s 71ms/step - loss: 0.0109 - accuracy: 0.9969 - val_loss: 0.8104 - val_accuracy: 0.8649\n",
      "Epoch 9/20\n",
      "11/11 [==============================] - 1s 71ms/step - loss: 0.0110 - accuracy: 0.9939 - val_loss: 0.7246 - val_accuracy: 0.8649\n",
      "Epoch 10/20\n",
      "11/11 [==============================] - 1s 75ms/step - loss: 0.0034 - accuracy: 1.0000 - val_loss: 0.6885 - val_accuracy: 0.8649\n",
      "Epoch 11/20\n",
      "11/11 [==============================] - 1s 73ms/step - loss: 0.0028 - accuracy: 1.0000 - val_loss: 0.6592 - val_accuracy: 0.8649\n",
      "Epoch 12/20\n",
      "11/11 [==============================] - 1s 71ms/step - loss: 0.0039 - accuracy: 1.0000 - val_loss: 0.6310 - val_accuracy: 0.8649\n",
      "Epoch 13/20\n",
      "11/11 [==============================] - 1s 74ms/step - loss: 0.0028 - accuracy: 1.0000 - val_loss: 0.6127 - val_accuracy: 0.8649\n",
      "Epoch 14/20\n",
      "11/11 [==============================] - 1s 71ms/step - loss: 0.0025 - accuracy: 1.0000 - val_loss: 0.6054 - val_accuracy: 0.8649\n",
      "Epoch 15/20\n",
      "11/11 [==============================] - 1s 74ms/step - loss: 0.0031 - accuracy: 1.0000 - val_loss: 0.5869 - val_accuracy: 0.8649\n",
      "Epoch 16/20\n",
      "11/11 [==============================] - 1s 71ms/step - loss: 0.0014 - accuracy: 1.0000 - val_loss: 0.5725 - val_accuracy: 0.8649\n",
      "Epoch 17/20\n",
      "11/11 [==============================] - 1s 72ms/step - loss: 0.0024 - accuracy: 1.0000 - val_loss: 0.5757 - val_accuracy: 0.8649\n",
      "Epoch 18/20\n",
      "11/11 [==============================] - 1s 71ms/step - loss: 0.0028 - accuracy: 1.0000 - val_loss: 0.5701 - val_accuracy: 0.8649\n",
      "Epoch 19/20\n",
      "11/11 [==============================] - 1s 74ms/step - loss: 0.0017 - accuracy: 1.0000 - val_loss: 0.5828 - val_accuracy: 0.8649\n",
      "Epoch 20/20\n",
      "11/11 [==============================] - 1s 69ms/step - loss: 0.0020 - accuracy: 1.0000 - val_loss: 0.6152 - val_accuracy: 0.8649\n"
     ]
    },
    {
     "data": {
      "image/png": "[encoded data removed]",
      "text/plain": [
       "<Figure size 864x288 with 2 Axes>"
      ]
     },
     "metadata": {
      "needs_background": "light"
     },
     "output_type": "display_data"
    }
   ],
   "source": [
    "# model을 학습시키는 코드를 직접 작성해 보세요. \n",
    "# Hint! model.compile()과 model.fit()을 사용해 봅시다.\n",
    "model.compile(optimizer='adam',\n",
    "             loss='sparse_categorical_crossentropy',\n",
    "             metrics=['accuracy'])\n",
    "\n",
    "# 모델 훈련\n",
    "history = model.fit(x_train_norm, y_train, epochs=n_train_epoch, validation_split=0.1)\n",
    "\n",
    "# Plot training & validation accuracy values\n",
    "plt.figure(figsize=(12, 4))\n",
    "plt.subplot(1, 2, 1)\n",
    "plt.plot(history.history['accuracy'], label='Train')\n",
    "plt.plot(history.history['val_accuracy'], label='Validation')\n",
    "plt.title('Model Accuracy')\n",
    "plt.xlabel('Epoch')\n",
    "plt.ylabel('Accuracy')\n",
    "plt.legend(loc='upper left')\n",
    "\n",
    "# Plot training & validation loss values\n",
    "plt.subplot(1, 2, 2)\n",
    "plt.plot(history.history['loss'], label='Train')\n",
    "plt.plot(history.history['val_loss'], label='Validation')\n",
    "plt.title('Model Loss')\n",
    "plt.xlabel('Epoch')\n",
    "plt.ylabel('Loss')\n",
    "plt.legend(loc='upper left')\n",
    "\n",
    "plt.tight_layout()\n",
    "plt.show();"
   ]
  },
  {
   "cell_type": "code",
   "execution_count": 10,
   "id": "9ce15e58",
   "metadata": {},
   "outputs": [
    {
     "name": "stdout",
     "output_type": "stream",
     "text": [
      "101  images to be resized.\n",
      "101  images resized.\n",
      "138  images to be resized.\n",
      "138  images resized.\n",
      "124  images to be resized.\n",
      "124  images resized.\n",
      "학습데이터(x_train)의 이미지 개수는 363 입니다.\n",
      "x_test shape: (363, 32, 32, 3)\n",
      "y_test shape: (363,)\n"
     ]
    }
   ],
   "source": [
    "image_dir_path = os.getenv(\"HOME\") + \"/aiffel/DeepLearning/rock_scissor_paper/test/scissor\"\n",
    "resize_images(image_dir_path)\n",
    "\n",
    "image_dir_path = os.getenv(\"HOME\") + \"/aiffel/DeepLearning/rock_scissor_paper/test/rock\"\n",
    "resize_images(image_dir_path)\n",
    "\n",
    "image_dir_path = os.getenv(\"HOME\") + \"/aiffel/DeepLearning/rock_scissor_paper/test/paper\"\n",
    "resize_images(image_dir_path)\n",
    "\n",
    "image_dir_path = os.getenv(\"HOME\") + \"/aiffel/DeepLearning/rock_scissor_paper/test\"\n",
    "(x_test, y_test)=load_data(image_dir_path)\n",
    "x_test_norm = x_test/255.0   # 입력은 0~1 사이의 값으로 정규화\n",
    "print(\"x_test shape: {}\".format(x_test.shape))\n",
    "print(\"y_test shape: {}\".format(y_test.shape))"
   ]
  },
  {
   "cell_type": "code",
   "execution_count": 11,
   "id": "8c4c1fbf",
   "metadata": {},
   "outputs": [
    {
     "name": "stdout",
     "output_type": "stream",
     "text": [
      "12/12 - 0s - loss: 2.6952 - accuracy: 0.3416\n",
      "test_loss: 2.6951656341552734 \n",
      "test_accuracy: 0.3415977954864502\n"
     ]
    }
   ],
   "source": [
    "# model을 학습시키는 코드를 직접 작성해 보세요.\n",
    "# Hint! model.evaluate()을 사용해 봅시다.\n",
    "\n",
    "test_loss, test_accuracy = model.evaluate(x_test_norm, y_test, verbose=2)\n",
    "\n",
    "print(\"test_loss: {} \".format(test_loss))\n",
    "print(\"test_accuracy: {}\".format(test_accuracy))"
   ]
  },
  {
   "cell_type": "markdown",
   "id": "f73ae067",
   "metadata": {},
   "source": [
    "# 회고\n",
    "- 픽셀이 너무 깨지는 게 아닌가? 32*32 로 바꾸기\n",
    "- 육안으로도 구분이 안돼..\n",
    "- 리사이즈 한 채로 돌리면 깨져서 다시 압축 푸는것부터 다시 하기\n",
    "- dropout 추가, batch normalization 추가\n",
    "- 로컬에서 계속 커널이 꺼져서 중간에 lms 로 옮겨갔다\n",
    "- 왜 꺼지는지는 아직 잘 모르겠음\n",
    "- GPT 가 Data Augmentation 도 추천해줬는데 아직 못해봤음\n",
    "- 정확도가 0.34 인 것으로 보아 그냥 모든 걸 하나로 예측한게 아닌가 의심이 들지만 확인해보진 못했음"
   ]
  },
  {
   "cell_type": "code",
   "execution_count": null,
   "id": "79245392",
   "metadata": {},
   "outputs": [],
   "source": []
  }
 ],
 "metadata": {
  "kernelspec": {
   "display_name": "Python 3 (ipykernel)",
   "language": "python",
   "name": "python3"
  },
  "language_info": {
   "codemirror_mode": {
    "name": "ipython",
    "version": 3
   },
   "file_extension": ".py",
   "mimetype": "text/x-python",
   "name": "python",
   "nbconvert_exporter": "python",
   "pygments_lexer": "ipython3",
   "version": "3.9.7"
  }
 },
 "nbformat": 4,
 "nbformat_minor": 5
}
