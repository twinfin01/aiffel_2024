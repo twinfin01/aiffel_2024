{
 "cells": [
  {
   "cell_type": "code",
   "execution_count": 2,
   "id": "edcf5f44",
   "metadata": {},
   "outputs": [
    {
     "name": "stdout",
     "output_type": "stream",
     "text": [
      "뉴스 기사의 개수:  40\n"
     ]
    }
   ],
   "source": [
    "# 크롤러를 만들기 전 필요한 도구들을 임포트합니다.\n",
    "import requests\n",
    "import pandas as pd\n",
    "from bs4 import BeautifulSoup\n",
    "\n",
    "# 페이지 수, 카테고리, 날짜를 입력값으로 받습니다.\n",
    "def make_urllist(page_num, code, date): \n",
    "  urllist= []\n",
    "  for i in range(1, page_num + 1):\n",
    "    url = 'https://news.naver.com/main/list.nhn?mode=LSD&mid=sec&sid1='+str(code)+'&date='+str(date)+'&page='+str(i)\n",
    "    headers = {'User-Agent': 'Mozilla/5.0 (X11; Linux x86_64) AppleWebKit/537.36 (KHTML, like Gecko) Chrome/54.0.2840.90 Safari/537.36'}\n",
    "    news = requests.get(url, headers=headers)\n",
    "\n",
    "    # BeautifulSoup의 인스턴스 생성합니다. 파서는 html.parser를 사용합니다.\n",
    "    soup = BeautifulSoup(news.content, 'html.parser')\n",
    "\n",
    "    # CASE 1\n",
    "    news_list = soup.select('.newsflash_body .type06_headline li dl')\n",
    "    # CASE 2\n",
    "    news_list.extend(soup.select('.newsflash_body .type06 li dl'))\n",
    "        \n",
    "    # 각 뉴스로부터 a 태그인 <a href ='주소'> 에서 '주소'만을 가져옵니다.\n",
    "    for line in news_list:\n",
    "        urllist.append(line.a.get('href'))\n",
    "  return urllist\n",
    "\n",
    "url_list = make_urllist(2, 105, 20231128)\n",
    "print('뉴스 기사의 개수: ',len(url_list))\n",
    "\n",
    "idx2word = {'101' : '경제', '102' : '사회', '103' : '생활/문화', '105' : 'IT/과학'}"
   ]
  },
  {
   "cell_type": "code",
   "execution_count": 4,
   "id": "f15d984d",
   "metadata": {},
   "outputs": [],
   "source": [
    "from newspaper import Article\n",
    "\n",
    "#- 데이터프레임을 생성하는 함수입니다.\n",
    "def make_data(urllist, code):\n",
    "  text_list = []\n",
    "  for url in urllist:\n",
    "    article = Article(url, language='ko')\n",
    "    article.download()\n",
    "    article.parse()\n",
    "    text_list.append(article.title)\n",
    "\n",
    "  #- 데이터프레임의 'news' 키 아래 파싱한 텍스트를 밸류로 붙여줍니다.\n",
    "  df = pd.DataFrame({'news': text_list})\n",
    "\n",
    "  #- 데이터프레임의 'code' 키 아래 한글 카테고리명을 붙여줍니다.\n",
    "  df['code'] = idx2word[str(code)]\n",
    "  return df"
   ]
  },
  {
   "cell_type": "code",
   "execution_count": 6,
   "id": "ee5212f2",
   "metadata": {},
   "outputs": [
    {
     "data": {
      "text/plain": [
       "[102, 103, 105]"
      ]
     },
     "execution_count": 6,
     "metadata": {},
     "output_type": "execute_result"
    }
   ],
   "source": [
    "# 코드 리스트\n",
    "code_list = [102, 103, 105]\n",
    "code_list"
   ]
  },
  {
   "cell_type": "code",
   "execution_count": 8,
   "id": "9c0ff54f",
   "metadata": {},
   "outputs": [],
   "source": [
    "def make_total_data(page_num, code_list, date):\n",
    "  df = None\n",
    "\n",
    "  for code in code_list:\n",
    "    url_list = make_urllist(page_num, code, date)\n",
    "    df_temp = make_data(url_list, code)\n",
    "    print(str(code)+'번 코드에 대한 데이터를 만들었습니다.')\n",
    "\n",
    "    if df is not None:\n",
    "      df = pd.concat([df, df_temp])\n",
    "    else:\n",
    "      df = df_temp\n",
    "\n",
    "  return df\n",
    "\n",
    "# 크롤링\n",
    "\n",
    "# df = make_total_data(1, code_list, 20231225)\n",
    "# df.sample(10)"
   ]
  },
  {
   "cell_type": "code",
   "execution_count": 10,
   "id": "6c3630d6",
   "metadata": {},
   "outputs": [
    {
     "name": "stdout",
     "output_type": "stream",
     "text": [
      "5820\n",
      "6906\n",
      "6906\n"
     ]
    }
   ],
   "source": [
    "# 데이터 저장하기\n",
    "\n",
    "import os\n",
    "\n",
    "# 데이터프레임 파일을 csv 파일로 저장합니다.\n",
    "# 저장경로는 이번 프로젝트를 위해 만든 폴더로 지정해 주세요.\n",
    "# csv_path = os.getenv(\"HOME\") + \"/aiffel/news_crawler/240111_news_data.csv\"\n",
    "# df.to_csv(csv_path, index=False)\n",
    "\n",
    "# if os.path.exists(csv_path):\n",
    "#   print('{} File Saved!'.format(csv_path))\n",
    "\n",
    "# 데이터 불러오기\n",
    "\n",
    "csv_path = os.getenv(\"HOME\") + \"/aiffel/news_crawler/240111_news_data.csv\"\n",
    "df = pd.read_table(csv_path, sep=',')\n",
    "df.head()\n",
    "print(len(df))\n",
    "\n",
    "# 데이터 합치기\n",
    "csv_path_new = os.getenv(\"HOME\") + \"/aiffel/news_crawler/merged_file_crawl.csv\"\n",
    "new_df = pd.read_csv(csv_path_new)\n",
    "combined_df = pd.concat([df, new_df], ignore_index=True)\n",
    "\n",
    "df.head()\n",
    "print(len(combined_df))\n",
    "len(df)\n",
    "\n",
    "#새로운 데이터 저장\n",
    "csv_path_m = os.getenv(\"HOME\") + \"/aiffel/news_crawler/merged++.csv\"\n",
    "# df.to_csv(csv_path, index=False)\n",
    "combined_df.to_csv(csv_path_m, index=False)\n",
    "\n",
    "\n",
    "# 새로운 데이터 다시 불러오기\n",
    "\n",
    "csv_path = os.getenv(\"HOME\") + \"/aiffel/news_crawler/merged++.csv\"\n",
    "df = pd.read_table(csv_path_m, sep=',')\n",
    "\n",
    "\n",
    "print(len(df))\n"
   ]
  },
  {
   "cell_type": "code",
   "execution_count": 11,
   "id": "01f7ea7b",
   "metadata": {
    "scrolled": true
   },
   "outputs": [
    {
     "name": "stderr",
     "output_type": "stream",
     "text": [
      "/tmp/ipykernel_93/1682531284.py:3: FutureWarning: The default value of regex will change from True to False in a future version.\n",
      "  df['news'] = df['news'].str.replace(\"[^ㄱ-ㅎㅏ-ㅣ가-힣 ]\",\"\")\n"
     ]
    },
    {
     "name": "stdout",
     "output_type": "stream",
     "text": [
      "news    5\n",
      "code    0\n",
      "dtype: int64\n",
      "뉴스 기사의 개수:  5357\n",
      "    code  count\n",
      "0  IT/과학   1639\n",
      "1     사회   1978\n",
      "2  생활/문화   1740\n"
     ]
    },
    {
     "data": {
      "image/png": "[encoded data removed]",
      "text/plain": [
       "<Figure size 432x288 with 1 Axes>"
      ]
     },
     "metadata": {
      "needs_background": "light"
     },
     "output_type": "display_data"
    }
   ],
   "source": [
    "# 데이터 정제\n",
    "# 정규 표현식을 이용해서 한글 외의 문자는 전부 제거합니다.\n",
    "df['news'] = df['news'].str.replace(\"[^ㄱ-ㅎㅏ-ㅣ가-힣 ]\",\"\")\n",
    "df['news']\n",
    "\n",
    "print(df.isnull().sum())\n",
    "\n",
    "# 중복된 샘플들을 제거합니다.\n",
    "df.drop_duplicates(subset=['news'], inplace=True)\n",
    "\n",
    "print('뉴스 기사의 개수: ',len(df))\n",
    "\n",
    "# 데이터 탐색\n",
    "\n",
    "import matplotlib.pyplot as plt\n",
    "plt.rcParams[\"font.family\"] = \"NanumGothic\"\n",
    "\n",
    "df['code'].value_counts().plot(kind = 'bar')\n",
    "\n",
    "# 실제 개수 확인\n",
    "print(df.groupby('code').size().reset_index(name = 'count'))"
   ]
  },
  {
   "cell_type": "code",
   "execution_count": 12,
   "id": "492d4794",
   "metadata": {
    "scrolled": true
   },
   "outputs": [],
   "source": [
    "# 토큰화 (자연어 처리를 위한 특정 단위)\n",
    "# 대표적인 한국어 형태소 분석기로는 KoNLPy, kakao/khaiii, Mecab 등이 있음\n",
    "\n",
    "#Hannanum 으로 바꿈\n",
    "\n",
    "from konlpy.tag import Mecab\n",
    "from konlpy.tag import Hannanum\n",
    "\n",
    "tokenizer = Mecab()\n",
    "\n",
    "kor_text = '밤에 귀가하던 여성에게 범죄를 시도한 대 남성이 구속됐다서울 제주경찰서는 \\\n",
    "            상해 혐의로 씨를 구속해 수사하고 있다고 일 밝혔다씨는 지난달 일 피해 여성을 \\\n",
    "            인근 지하철 역에서부터 따라가 폭행을 시도하려다가 도망간 혐의를 받는다피해 \\\n",
    "            여성이 저항하자 놀란 씨는 도망갔으며 신고를 받고 주변을 수색하던 경찰에 \\\n",
    "            체포됐다피해 여성은 이 과정에서 경미한 부상을 입은 것으로 전해졌다'\n",
    "\n",
    "#- 형태소 분석, 즉 토큰화(tokenization)를 합니다.\n",
    "# tokens = tokenizer.morphs(kor_text)\n",
    "# print(tokens)\n"
   ]
  },
  {
   "cell_type": "code",
   "execution_count": 13,
   "id": "b2d714c1",
   "metadata": {
    "scrolled": true
   },
   "outputs": [],
   "source": [
    "# 불용어 제거\n",
    "\n",
    "# 불용어 정의\n",
    "stopwords = ['에','는','은','을','했','에게','있','이','의','하','한','다','과','때문','할','수','무단','따른','및','금지','전재','경향신문','기자','는데','가','등','들','파이낸셜','저작','등','뉴스']\n"
   ]
  },
  {
   "cell_type": "code",
   "execution_count": 14,
   "id": "24d12329",
   "metadata": {},
   "outputs": [
    {
     "name": "stdout",
     "output_type": "stream",
     "text": [
      "<class 'list'>\n",
      "626\n",
      "엔 씨 종료 게임 통 큰 환 불월 구매 개봉 아이템 도 포함\n",
      "5357\n"
     ]
    }
   ],
   "source": [
    "# 불용어 추가하기\n",
    "\n",
    "import requests\n",
    "\n",
    "stopwords_added = []\n",
    "# URL of the raw text file on GitHub\n",
    "url = 'https://gist.githubusercontent.com/chulgil/d10b18575a73778da4bc83853385465c/raw/a1a451421097fa9a93179cb1f1f0dc392f1f9da9/stopwords.txt'\n",
    "\n",
    "# Fetching the content of the file\n",
    "response = requests.get(url)\n",
    "\n",
    "# Ensure the request was successful\n",
    "if response.status_code == 200:\n",
    "    stopwords_added = response.text.splitlines()\n",
    "else:\n",
    "    print(\"Failed to retrieve the file\")\n",
    "\n",
    "# Print the type to check if it's a list\n",
    "print(type(stopwords_added))\n",
    "\n",
    "# Combine the two lists of stopwords\n",
    "stopwords_combined = stopwords_added + stopwords  # Use + operator to combine lists\n",
    "print(len(stopwords_combined))\n",
    "\n",
    "# 전처리\n",
    "def preprocessing(data):\n",
    "    text_data = []\n",
    "\n",
    "    for index, sentence in enumerate(data):\n",
    "        try:\n",
    "            #- 토큰화\n",
    "            temp_data = tokenizer.morphs(sentence)\n",
    "            #- 불용어 제거\n",
    "            temp_data = [word for word in temp_data if word not in stopwords]\n",
    "            text_data.append(' '.join(temp_data))\n",
    "        except Exception as e:\n",
    "#             print(f\"Error at index {index}: {sentence}\\nError: {e}\")\n",
    "            text_data.append('')  # Append an empty string or some placeholder\n",
    "            continue  # Continue with the next iteration\n",
    "\n",
    "    return text_data\n",
    "\n",
    "# Example usage\n",
    "text_data = preprocessing(df['news'])\n",
    "\n",
    "# Example usage\n",
    "text_data = preprocessing(df['news'])\n",
    "print(text_data[5356])\n",
    "print(len(text_data))\n",
    "\n"
   ]
  },
  {
   "cell_type": "code",
   "execution_count": 15,
   "id": "4f6e6635",
   "metadata": {},
   "outputs": [
    {
     "name": "stdout",
     "output_type": "stream",
     "text": [
      "훈련용 뉴스 기사의 개수 : 4017\n",
      "테스트용 뉴스 기사의 개수 :  1340\n",
      "훈련용 레이블의 개수 :  4017\n",
      "테스트용 레이블의 개수 :  1340\n"
     ]
    }
   ],
   "source": [
    "# 머신 러닝\n",
    "\n",
    "# 머신 러닝 도구 임포트\n",
    "from sklearn.model_selection import train_test_split\n",
    "from sklearn.feature_extraction.text import CountVectorizer\n",
    "from sklearn.feature_extraction.text import TfidfTransformer\n",
    "from sklearn.naive_bayes import MultinomialNB\n",
    "from sklearn import metrics\n",
    "\n",
    "#- 훈련 데이터와 테스트 데이터를 분리합니다.\n",
    "# sklearn 에서 훈련/테스트 데이터 분리해주는 함수 train_test_split\n",
    "X_train, X_test, y_train, y_test = train_test_split(text_data, df['code'], random_state = 0)\n",
    "\n",
    "# 분리된 데이터 개수 확인\n",
    "print('훈련용 뉴스 기사의 개수 :', len(X_train))\n",
    "print('테스트용 뉴스 기사의 개수 : ', len(X_test))\n",
    "print('훈련용 레이블의 개수 : ', len(y_train))\n",
    "print('테스트용 레이블의 개수 : ', len(y_test))\n"
   ]
  },
  {
   "cell_type": "code",
   "execution_count": 16,
   "id": "fcfc675e",
   "metadata": {},
   "outputs": [],
   "source": [
    "# 딥러닝 자연어 처리 TF-IDF\n",
    "\n",
    "# fit_transform() 함수는 fit과 transform을 연이어 수행하는 함수로, \n",
    "# CountVectorizer.fit_transform()은 단어 데이터를 학습하고 문서 데이터를 document-form matrix로 변환하는 두 가지 작업을 해 줍니다.\n",
    "\n",
    "#- 단어의 수를 카운트하는 사이킷런의 카운트벡터라이저입니다.\n",
    "count_vect = CountVectorizer()\n",
    "X_train_counts = count_vect.fit_transform(X_train)\n",
    "\n",
    "#- 카운트벡터라이저의 결과로부터 TF-IDF 결과를 얻습니다.\n",
    "tfidf_transformer = TfidfTransformer()\n",
    "X_train_tfidf = tfidf_transformer.fit_transform(X_train_counts)\n",
    "\n",
    "#- 나이브 베이즈 분류기를 수행합니다.\n",
    "#- X_train은 TF-IDF 벡터, y_train은 레이블입니다.\n",
    "clf = MultinomialNB().fit(X_train_tfidf, y_train)"
   ]
  },
  {
   "cell_type": "code",
   "execution_count": 17,
   "id": "cfcbc151",
   "metadata": {},
   "outputs": [
    {
     "name": "stdout",
     "output_type": "stream",
     "text": [
      "['사회']\n",
      "              precision    recall  f1-score   support\n",
      "\n",
      "       IT/과학       0.76      0.79      0.77       420\n",
      "          사회       0.78      0.84      0.81       483\n",
      "       생활/문화       0.72      0.64      0.68       437\n",
      "\n",
      "    accuracy                           0.76      1340\n",
      "   macro avg       0.76      0.76      0.75      1340\n",
      "weighted avg       0.76      0.76      0.76      1340\n",
      "\n"
     ]
    }
   ],
   "source": [
    "# 테스트\n",
    "\n",
    "# 텍스트를 입력하면 자동으로 TF-IDF 벡터로 바꾸는 전처리 함수\n",
    "def tfidf_vectorizer(data):\n",
    "  data_counts = count_vect.transform(data)\n",
    "  data_tfidf = tfidf_transformer.transform(data_counts)\n",
    "  return data_tfidf\n",
    "\n",
    "# 테스트 1\n",
    "new_sent = preprocessing([\"민주당 일각에서 법사위의 체계·자구 심사 기능을 없애야 한다는 \\\n",
    "                           주장이 나오는 데 대해 “체계·자구 심사가 법안 지연의 수단으로 \\\n",
    "                          쓰이는 것은 바람직하지 않다”면서도 “국회를 통과하는 법안 중 위헌\\\n",
    "                          법률이 1년에 10건 넘게 나온다. 그런데 체계·자구 심사까지 없애면 매우 위험하다”고 반박했다.\"])\n",
    "print(clf.predict(tfidf_vectorizer(new_sent)))\n",
    "# ['사회']\n",
    "\n",
    "# 점수 측정\n",
    "y_pred = clf.predict(tfidf_vectorizer(X_test))\n",
    "print(metrics.classification_report(y_test, y_pred))"
   ]
  }
 ],
 "metadata": {
  "kernelspec": {
   "display_name": "Python 3 (ipykernel)",
   "language": "python",
   "name": "python3"
  },
  "language_info": {
   "codemirror_mode": {
    "name": "ipython",
    "version": 3
   },
   "file_extension": ".py",
   "mimetype": "text/x-python",
   "name": "python",
   "nbconvert_exporter": "python",
   "pygments_lexer": "ipython3",
   "version": "3.9.7"
  }
 },
 "nbformat": 4,
 "nbformat_minor": 5
}
