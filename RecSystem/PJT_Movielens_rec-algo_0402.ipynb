{
 "cells": [
  {
   "cell_type": "markdown",
   "id": "62e34803",
   "metadata": {},
   "source": [
    "# Movie Rec System\n",
    "- 유저가 영화에 대해 평점을 매긴 데이터가 데이터 크기 별로 있습니다. MovieLens 1M Dataset 사용을 권장합니다.\n",
    "- 별점 데이터는 대표적인 explicit 데이터입니다. 하지만 implicit 데이터로 간주하고 테스트해 볼 수 있습니다.\n",
    "- 별점을 시청횟수로 해석해서 생각하겠습니다.\n",
    "- 또한 유저가 3점 미만으로 준 데이터는 선호하지 않는다고 가정하고 제외하겠습니다."
   ]
  },
  {
   "cell_type": "code",
   "execution_count": 1,
   "id": "d7e494c0",
   "metadata": {},
   "outputs": [
    {
     "name": "stdout",
     "output_type": "stream",
     "text": [
      "1.21.4\n",
      "1.7.1\n",
      "0.4.8\n"
     ]
    }
   ],
   "source": [
    "import numpy as np\n",
    "import scipy\n",
    "import implicit\n",
    "\n",
    "print(np.__version__)\n",
    "print(scipy.__version__)\n",
    "print(implicit.__version__)"
   ]
  },
  {
   "cell_type": "markdown",
   "id": "d8483091",
   "metadata": {},
   "source": [
    "# Load Data and Preprocessing"
   ]
  },
  {
   "cell_type": "code",
   "execution_count": 52,
   "id": "22e406fc",
   "metadata": {},
   "outputs": [
    {
     "data": {
      "text/html": [
       "<div>\n",
       "<style scoped>\n",
       "    .dataframe tbody tr th:only-of-type {\n",
       "        vertical-align: middle;\n",
       "    }\n",
       "\n",
       "    .dataframe tbody tr th {\n",
       "        vertical-align: top;\n",
       "    }\n",
       "\n",
       "    .dataframe thead th {\n",
       "        text-align: right;\n",
       "    }\n",
       "</style>\n",
       "<table border=\"1\" class=\"dataframe\">\n",
       "  <thead>\n",
       "    <tr style=\"text-align: right;\">\n",
       "      <th></th>\n",
       "      <th>user_id</th>\n",
       "      <th>movie_id</th>\n",
       "      <th>ratings</th>\n",
       "      <th>timestamp</th>\n",
       "    </tr>\n",
       "  </thead>\n",
       "  <tbody>\n",
       "    <tr>\n",
       "      <th>0</th>\n",
       "      <td>1</td>\n",
       "      <td>1193</td>\n",
       "      <td>5</td>\n",
       "      <td>978300760</td>\n",
       "    </tr>\n",
       "    <tr>\n",
       "      <th>1</th>\n",
       "      <td>1</td>\n",
       "      <td>661</td>\n",
       "      <td>3</td>\n",
       "      <td>978302109</td>\n",
       "    </tr>\n",
       "    <tr>\n",
       "      <th>2</th>\n",
       "      <td>1</td>\n",
       "      <td>914</td>\n",
       "      <td>3</td>\n",
       "      <td>978301968</td>\n",
       "    </tr>\n",
       "    <tr>\n",
       "      <th>3</th>\n",
       "      <td>1</td>\n",
       "      <td>3408</td>\n",
       "      <td>4</td>\n",
       "      <td>978300275</td>\n",
       "    </tr>\n",
       "    <tr>\n",
       "      <th>4</th>\n",
       "      <td>1</td>\n",
       "      <td>2355</td>\n",
       "      <td>5</td>\n",
       "      <td>978824291</td>\n",
       "    </tr>\n",
       "  </tbody>\n",
       "</table>\n",
       "</div>"
      ],
      "text/plain": [
       "   user_id  movie_id  ratings  timestamp\n",
       "0        1      1193        5  978300760\n",
       "1        1       661        3  978302109\n",
       "2        1       914        3  978301968\n",
       "3        1      3408        4  978300275\n",
       "4        1      2355        5  978824291"
      ]
     },
     "execution_count": 52,
     "metadata": {},
     "output_type": "execute_result"
    }
   ],
   "source": [
    "import os\n",
    "import pandas as pd\n",
    "\n",
    "rating_file_path=os.getenv('HOME') + '/aiffel/rec_algo/recommendata_iu/data/ml-1m/ratings.dat'\n",
    "ratings_cols = ['user_id', 'movie_id', 'ratings', 'timestamp']\n",
    "ratings = pd.read_csv(rating_file_path, sep='::', names=ratings_cols, engine='python', encoding = \"ISO-8859-1\")\n",
    "orginal_data_size = len(ratings)\n",
    "ratings.head()\n"
   ]
  },
  {
   "cell_type": "code",
   "execution_count": 53,
   "id": "fa9436ab",
   "metadata": {},
   "outputs": [
    {
     "name": "stdout",
     "output_type": "stream",
     "text": [
      "orginal_data_size: 1000209, filtered_data_size: 836478\n",
      "Ratio of Remaining Data is 83.63%\n"
     ]
    }
   ],
   "source": [
    "# drop below three\n",
    "\n",
    "ratings = ratings[ratings['ratings'] >= 3]\n",
    "filtered_data_size = len(ratings)\n",
    "\n",
    "print(f'orginal_data_size: {orginal_data_size}, filtered_data_size: {filtered_data_size}')\n",
    "print(f'Ratio of Remaining Data is {filtered_data_size / orginal_data_size:.2%}')\n"
   ]
  },
  {
   "cell_type": "code",
   "execution_count": 54,
   "id": "c60c66f1",
   "metadata": {},
   "outputs": [],
   "source": [
    "# ratings -> counts\n",
    "\n",
    "ratings.rename(columns={'ratings' : 'counts'}, inplace=True)"
   ]
  },
  {
   "cell_type": "code",
   "execution_count": 55,
   "id": "c6eb51b2",
   "metadata": {},
   "outputs": [
    {
     "data": {
      "text/html": [
       "<div>\n",
       "<style scoped>\n",
       "    .dataframe tbody tr th:only-of-type {\n",
       "        vertical-align: middle;\n",
       "    }\n",
       "\n",
       "    .dataframe tbody tr th {\n",
       "        vertical-align: top;\n",
       "    }\n",
       "\n",
       "    .dataframe thead th {\n",
       "        text-align: right;\n",
       "    }\n",
       "</style>\n",
       "<table border=\"1\" class=\"dataframe\">\n",
       "  <thead>\n",
       "    <tr style=\"text-align: right;\">\n",
       "      <th></th>\n",
       "      <th>user_id</th>\n",
       "      <th>movie_id</th>\n",
       "      <th>counts</th>\n",
       "      <th>timestamp</th>\n",
       "    </tr>\n",
       "  </thead>\n",
       "  <tbody>\n",
       "    <tr>\n",
       "      <th>0</th>\n",
       "      <td>1</td>\n",
       "      <td>1193</td>\n",
       "      <td>5</td>\n",
       "      <td>978300760</td>\n",
       "    </tr>\n",
       "    <tr>\n",
       "      <th>1</th>\n",
       "      <td>1</td>\n",
       "      <td>661</td>\n",
       "      <td>3</td>\n",
       "      <td>978302109</td>\n",
       "    </tr>\n",
       "    <tr>\n",
       "      <th>2</th>\n",
       "      <td>1</td>\n",
       "      <td>914</td>\n",
       "      <td>3</td>\n",
       "      <td>978301968</td>\n",
       "    </tr>\n",
       "    <tr>\n",
       "      <th>3</th>\n",
       "      <td>1</td>\n",
       "      <td>3408</td>\n",
       "      <td>4</td>\n",
       "      <td>978300275</td>\n",
       "    </tr>\n",
       "    <tr>\n",
       "      <th>4</th>\n",
       "      <td>1</td>\n",
       "      <td>2355</td>\n",
       "      <td>5</td>\n",
       "      <td>978824291</td>\n",
       "    </tr>\n",
       "  </tbody>\n",
       "</table>\n",
       "</div>"
      ],
      "text/plain": [
       "   user_id  movie_id  counts  timestamp\n",
       "0        1      1193       5  978300760\n",
       "1        1       661       3  978302109\n",
       "2        1       914       3  978301968\n",
       "3        1      3408       4  978300275\n",
       "4        1      2355       5  978824291"
      ]
     },
     "execution_count": 55,
     "metadata": {},
     "output_type": "execute_result"
    }
   ],
   "source": [
    "ratings.head()"
   ]
  },
  {
   "cell_type": "code",
   "execution_count": 8,
   "id": "15cccbed",
   "metadata": {},
   "outputs": [
    {
     "data": {
      "text/html": [
       "<div>\n",
       "<style scoped>\n",
       "    .dataframe tbody tr th:only-of-type {\n",
       "        vertical-align: middle;\n",
       "    }\n",
       "\n",
       "    .dataframe tbody tr th {\n",
       "        vertical-align: top;\n",
       "    }\n",
       "\n",
       "    .dataframe thead th {\n",
       "        text-align: right;\n",
       "    }\n",
       "</style>\n",
       "<table border=\"1\" class=\"dataframe\">\n",
       "  <thead>\n",
       "    <tr style=\"text-align: right;\">\n",
       "      <th></th>\n",
       "      <th>movie_id</th>\n",
       "      <th>title</th>\n",
       "      <th>genre</th>\n",
       "    </tr>\n",
       "  </thead>\n",
       "  <tbody>\n",
       "    <tr>\n",
       "      <th>0</th>\n",
       "      <td>1</td>\n",
       "      <td>Toy Story (1995)</td>\n",
       "      <td>Animation|Children's|Comedy</td>\n",
       "    </tr>\n",
       "    <tr>\n",
       "      <th>1</th>\n",
       "      <td>2</td>\n",
       "      <td>Jumanji (1995)</td>\n",
       "      <td>Adventure|Children's|Fantasy</td>\n",
       "    </tr>\n",
       "    <tr>\n",
       "      <th>2</th>\n",
       "      <td>3</td>\n",
       "      <td>Grumpier Old Men (1995)</td>\n",
       "      <td>Comedy|Romance</td>\n",
       "    </tr>\n",
       "    <tr>\n",
       "      <th>3</th>\n",
       "      <td>4</td>\n",
       "      <td>Waiting to Exhale (1995)</td>\n",
       "      <td>Comedy|Drama</td>\n",
       "    </tr>\n",
       "    <tr>\n",
       "      <th>4</th>\n",
       "      <td>5</td>\n",
       "      <td>Father of the Bride Part II (1995)</td>\n",
       "      <td>Comedy</td>\n",
       "    </tr>\n",
       "  </tbody>\n",
       "</table>\n",
       "</div>"
      ],
      "text/plain": [
       "   movie_id                               title                         genre\n",
       "0         1                    Toy Story (1995)   Animation|Children's|Comedy\n",
       "1         2                      Jumanji (1995)  Adventure|Children's|Fantasy\n",
       "2         3             Grumpier Old Men (1995)                Comedy|Romance\n",
       "3         4            Waiting to Exhale (1995)                  Comedy|Drama\n",
       "4         5  Father of the Bride Part II (1995)                        Comedy"
      ]
     },
     "execution_count": 8,
     "metadata": {},
     "output_type": "execute_result"
    }
   ],
   "source": [
    "# load metadata (movie info)\n",
    "\n",
    "# 영화 제목을 보기 위해 메타 데이터를 읽어옵니다.\n",
    "movie_file_path=os.getenv('HOME') + '/aiffel/rec_algo/recommendata_iu/data/ml-1m/movies.dat'\n",
    "cols = ['movie_id', 'title', 'genre'] \n",
    "movies = pd.read_csv(movie_file_path, sep='::', names=cols, engine='python', encoding='ISO-8859-1')\n",
    "movies.head()\n"
   ]
  },
  {
   "cell_type": "markdown",
   "id": "331205aa",
   "metadata": {},
   "source": [
    "# EDA"
   ]
  },
  {
   "cell_type": "code",
   "execution_count": 9,
   "id": "e11272c1",
   "metadata": {},
   "outputs": [
    {
     "data": {
      "text/plain": [
       "3628"
      ]
     },
     "execution_count": 9,
     "metadata": {},
     "output_type": "execute_result"
    }
   ],
   "source": [
    "ratings['movie_id'].nunique()"
   ]
  },
  {
   "cell_type": "code",
   "execution_count": 10,
   "id": "75a37b29",
   "metadata": {},
   "outputs": [
    {
     "data": {
      "text/plain": [
       "6039"
      ]
     },
     "execution_count": 10,
     "metadata": {},
     "output_type": "execute_result"
    }
   ],
   "source": [
    "ratings['user_id'].nunique()"
   ]
  },
  {
   "cell_type": "code",
   "execution_count": 34,
   "id": "06c29aa2",
   "metadata": {},
   "outputs": [
    {
     "data": {
      "text/html": [
       "<div>\n",
       "<style scoped>\n",
       "    .dataframe tbody tr th:only-of-type {\n",
       "        vertical-align: middle;\n",
       "    }\n",
       "\n",
       "    .dataframe tbody tr th {\n",
       "        vertical-align: top;\n",
       "    }\n",
       "\n",
       "    .dataframe thead th {\n",
       "        text-align: right;\n",
       "    }\n",
       "</style>\n",
       "<table border=\"1\" class=\"dataframe\">\n",
       "  <thead>\n",
       "    <tr style=\"text-align: right;\">\n",
       "      <th></th>\n",
       "      <th>user_id</th>\n",
       "      <th>counts</th>\n",
       "      <th>timestamp</th>\n",
       "    </tr>\n",
       "    <tr>\n",
       "      <th>movie_id</th>\n",
       "      <th></th>\n",
       "      <th></th>\n",
       "      <th></th>\n",
       "    </tr>\n",
       "  </thead>\n",
       "  <tbody>\n",
       "    <tr>\n",
       "      <th>2858</th>\n",
       "      <td>9370375</td>\n",
       "      <td>14449</td>\n",
       "      <td>3117376835770</td>\n",
       "    </tr>\n",
       "    <tr>\n",
       "      <th>260</th>\n",
       "      <td>8918335</td>\n",
       "      <td>13178</td>\n",
       "      <td>2824985129652</td>\n",
       "    </tr>\n",
       "    <tr>\n",
       "      <th>1196</th>\n",
       "      <td>8829164</td>\n",
       "      <td>12648</td>\n",
       "      <td>2800584085770</td>\n",
       "    </tr>\n",
       "    <tr>\n",
       "      <th>2028</th>\n",
       "      <td>7616222</td>\n",
       "      <td>11348</td>\n",
       "      <td>2486478228387</td>\n",
       "    </tr>\n",
       "    <tr>\n",
       "      <th>1210</th>\n",
       "      <td>8267731</td>\n",
       "      <td>11303</td>\n",
       "      <td>2635697585605</td>\n",
       "    </tr>\n",
       "    <tr>\n",
       "      <th>1198</th>\n",
       "      <td>7588272</td>\n",
       "      <td>11179</td>\n",
       "      <td>2400490263497</td>\n",
       "    </tr>\n",
       "    <tr>\n",
       "      <th>593</th>\n",
       "      <td>7588813</td>\n",
       "      <td>11096</td>\n",
       "      <td>2425091224615</td>\n",
       "    </tr>\n",
       "    <tr>\n",
       "      <th>2571</th>\n",
       "      <td>7313282</td>\n",
       "      <td>10903</td>\n",
       "      <td>2363243946903</td>\n",
       "    </tr>\n",
       "    <tr>\n",
       "      <th>2762</th>\n",
       "      <td>7537501</td>\n",
       "      <td>10703</td>\n",
       "      <td>2315566542809</td>\n",
       "    </tr>\n",
       "    <tr>\n",
       "      <th>589</th>\n",
       "      <td>7400571</td>\n",
       "      <td>10513</td>\n",
       "      <td>2435640519512</td>\n",
       "    </tr>\n",
       "  </tbody>\n",
       "</table>\n",
       "</div>"
      ],
      "text/plain": [
       "          user_id  counts      timestamp\n",
       "movie_id                                \n",
       "2858      9370375   14449  3117376835770\n",
       "260       8918335   13178  2824985129652\n",
       "1196      8829164   12648  2800584085770\n",
       "2028      7616222   11348  2486478228387\n",
       "1210      8267731   11303  2635697585605\n",
       "1198      7588272   11179  2400490263497\n",
       "593       7588813   11096  2425091224615\n",
       "2571      7313282   10903  2363243946903\n",
       "2762      7537501   10703  2315566542809\n",
       "589       7400571   10513  2435640519512"
      ]
     },
     "execution_count": 34,
     "metadata": {},
     "output_type": "execute_result"
    }
   ],
   "source": [
    "top_movies = ratings.groupby('movie_id').sum('counts').sort_values('counts', ascending=False).head(10)\n",
    "top_movies\n"
   ]
  },
  {
   "cell_type": "code",
   "execution_count": 35,
   "id": "533acd5e",
   "metadata": {},
   "outputs": [],
   "source": [
    "def idx_to_movie(idx):\n",
    "    try:\n",
    "        return movies.loc[movies['movie_id'] == idx, 'title']\n",
    "    except IndexError:\n",
    "        return 'not found'"
   ]
  },
  {
   "cell_type": "code",
   "execution_count": 36,
   "id": "91553834",
   "metadata": {},
   "outputs": [
    {
     "data": {
      "text/plain": [
       "[2789    American Beauty (1999)\n",
       " Name: title, dtype: object,\n",
       " 257    Star Wars: Episode IV - A New Hope (1977)\n",
       " Name: title, dtype: object,\n",
       " 1178    Star Wars: Episode V - The Empire Strikes Back...\n",
       " Name: title, dtype: object,\n",
       " 1959    Saving Private Ryan (1998)\n",
       " Name: title, dtype: object,\n",
       " 1192    Star Wars: Episode VI - Return of the Jedi (1983)\n",
       " Name: title, dtype: object,\n",
       " 1180    Raiders of the Lost Ark (1981)\n",
       " Name: title, dtype: object,\n",
       " 589    Silence of the Lambs, The (1991)\n",
       " Name: title, dtype: object,\n",
       " 2502    Matrix, The (1999)\n",
       " Name: title, dtype: object,\n",
       " 2693    Sixth Sense, The (1999)\n",
       " Name: title, dtype: object,\n",
       " 585    Terminator 2: Judgment Day (1991)\n",
       " Name: title, dtype: object]"
      ]
     },
     "execution_count": 36,
     "metadata": {},
     "output_type": "execute_result"
    }
   ],
   "source": [
    "movie_id_list = top_movies.index.tolist()\n",
    "\n",
    "movie_titles = [idx_to_movie(i) for i in movie_id_list]\n",
    "movie_titles"
   ]
  },
  {
   "cell_type": "code",
   "execution_count": 37,
   "id": "8a896ea0",
   "metadata": {},
   "outputs": [],
   "source": [
    "# add my own fav\n",
    "\n",
    "my_fav = ['Shawshank Redemption, The (1994)', 'Matrix, The (1999)', 'Die Hard (1988)', 'Blade Runner (1982)']\n"
   ]
  },
  {
   "cell_type": "code",
   "execution_count": 56,
   "id": "06ab1dac",
   "metadata": {},
   "outputs": [
    {
     "data": {
      "text/html": [
       "<div>\n",
       "<style scoped>\n",
       "    .dataframe tbody tr th:only-of-type {\n",
       "        vertical-align: middle;\n",
       "    }\n",
       "\n",
       "    .dataframe tbody tr th {\n",
       "        vertical-align: top;\n",
       "    }\n",
       "\n",
       "    .dataframe thead th {\n",
       "        text-align: right;\n",
       "    }\n",
       "</style>\n",
       "<table border=\"1\" class=\"dataframe\">\n",
       "  <thead>\n",
       "    <tr style=\"text-align: right;\">\n",
       "      <th></th>\n",
       "      <th>user_id</th>\n",
       "      <th>movie_id</th>\n",
       "      <th>counts</th>\n",
       "    </tr>\n",
       "  </thead>\n",
       "  <tbody>\n",
       "    <tr>\n",
       "      <th>0</th>\n",
       "      <td>1</td>\n",
       "      <td>1193</td>\n",
       "      <td>5</td>\n",
       "    </tr>\n",
       "    <tr>\n",
       "      <th>1</th>\n",
       "      <td>1</td>\n",
       "      <td>661</td>\n",
       "      <td>3</td>\n",
       "    </tr>\n",
       "    <tr>\n",
       "      <th>2</th>\n",
       "      <td>1</td>\n",
       "      <td>914</td>\n",
       "      <td>3</td>\n",
       "    </tr>\n",
       "    <tr>\n",
       "      <th>3</th>\n",
       "      <td>1</td>\n",
       "      <td>3408</td>\n",
       "      <td>4</td>\n",
       "    </tr>\n",
       "    <tr>\n",
       "      <th>4</th>\n",
       "      <td>1</td>\n",
       "      <td>2355</td>\n",
       "      <td>5</td>\n",
       "    </tr>\n",
       "  </tbody>\n",
       "</table>\n",
       "</div>"
      ],
      "text/plain": [
       "   user_id  movie_id  counts\n",
       "0        1      1193       5\n",
       "1        1       661       3\n",
       "2        1       914       3\n",
       "3        1      3408       4\n",
       "4        1      2355       5"
      ]
     },
     "execution_count": 56,
     "metadata": {},
     "output_type": "execute_result"
    }
   ],
   "source": [
    "ratings.drop('timestamp', axis=1, inplace=True)\n",
    "ratings.head()"
   ]
  },
  {
   "cell_type": "code",
   "execution_count": 42,
   "id": "b2382e1b",
   "metadata": {},
   "outputs": [],
   "source": [
    "def movie_to_idx(movie):\n",
    "    return movies.loc[movies['title'] == movie, 'movie_id'].values[0]\n",
    "\n",
    "my_fav_id = [movie_to_idx(movie) for movie in my_fav]"
   ]
  },
  {
   "cell_type": "code",
   "execution_count": 43,
   "id": "62045688",
   "metadata": {},
   "outputs": [
    {
     "data": {
      "text/plain": [
       "[318, 2571, 1036, 541]"
      ]
     },
     "execution_count": 43,
     "metadata": {},
     "output_type": "execute_result"
    }
   ],
   "source": [
    "my_fav_id"
   ]
  },
  {
   "cell_type": "code",
   "execution_count": 64,
   "id": "5a11fc61",
   "metadata": {},
   "outputs": [],
   "source": [
    "my_watchlist = pd.DataFrame({'user_id' : [6041]*4, 'movie_id': my_fav_id, 'counts' : [3]*4 })\n",
    "\n",
    "if not ratings.isin({'user_id' : [6041]})['user_id'].any():\n",
    "    ratings = pd.concat([ratings, my_watchlist])\n"
   ]
  },
  {
   "cell_type": "code",
   "execution_count": 65,
   "id": "8e8c17c0",
   "metadata": {},
   "outputs": [
    {
     "data": {
      "text/html": [
       "<div>\n",
       "<style scoped>\n",
       "    .dataframe tbody tr th:only-of-type {\n",
       "        vertical-align: middle;\n",
       "    }\n",
       "\n",
       "    .dataframe tbody tr th {\n",
       "        vertical-align: top;\n",
       "    }\n",
       "\n",
       "    .dataframe thead th {\n",
       "        text-align: right;\n",
       "    }\n",
       "</style>\n",
       "<table border=\"1\" class=\"dataframe\">\n",
       "  <thead>\n",
       "    <tr style=\"text-align: right;\">\n",
       "      <th></th>\n",
       "      <th>user_id</th>\n",
       "      <th>movie_id</th>\n",
       "      <th>counts</th>\n",
       "    </tr>\n",
       "  </thead>\n",
       "  <tbody>\n",
       "    <tr>\n",
       "      <th>1000202</th>\n",
       "      <td>6040</td>\n",
       "      <td>1089</td>\n",
       "      <td>4</td>\n",
       "    </tr>\n",
       "    <tr>\n",
       "      <th>1000203</th>\n",
       "      <td>6040</td>\n",
       "      <td>1090</td>\n",
       "      <td>3</td>\n",
       "    </tr>\n",
       "    <tr>\n",
       "      <th>1000205</th>\n",
       "      <td>6040</td>\n",
       "      <td>1094</td>\n",
       "      <td>5</td>\n",
       "    </tr>\n",
       "    <tr>\n",
       "      <th>1000206</th>\n",
       "      <td>6040</td>\n",
       "      <td>562</td>\n",
       "      <td>5</td>\n",
       "    </tr>\n",
       "    <tr>\n",
       "      <th>1000207</th>\n",
       "      <td>6040</td>\n",
       "      <td>1096</td>\n",
       "      <td>4</td>\n",
       "    </tr>\n",
       "    <tr>\n",
       "      <th>1000208</th>\n",
       "      <td>6040</td>\n",
       "      <td>1097</td>\n",
       "      <td>4</td>\n",
       "    </tr>\n",
       "    <tr>\n",
       "      <th>0</th>\n",
       "      <td>6041</td>\n",
       "      <td>318</td>\n",
       "      <td>3</td>\n",
       "    </tr>\n",
       "    <tr>\n",
       "      <th>1</th>\n",
       "      <td>6041</td>\n",
       "      <td>2571</td>\n",
       "      <td>3</td>\n",
       "    </tr>\n",
       "    <tr>\n",
       "      <th>2</th>\n",
       "      <td>6041</td>\n",
       "      <td>1036</td>\n",
       "      <td>3</td>\n",
       "    </tr>\n",
       "    <tr>\n",
       "      <th>3</th>\n",
       "      <td>6041</td>\n",
       "      <td>541</td>\n",
       "      <td>3</td>\n",
       "    </tr>\n",
       "  </tbody>\n",
       "</table>\n",
       "</div>"
      ],
      "text/plain": [
       "         user_id  movie_id  counts\n",
       "1000202     6040      1089       4\n",
       "1000203     6040      1090       3\n",
       "1000205     6040      1094       5\n",
       "1000206     6040       562       5\n",
       "1000207     6040      1096       4\n",
       "1000208     6040      1097       4\n",
       "0           6041       318       3\n",
       "1           6041      2571       3\n",
       "2           6041      1036       3\n",
       "3           6041       541       3"
      ]
     },
     "execution_count": 65,
     "metadata": {},
     "output_type": "execute_result"
    }
   ],
   "source": [
    "ratings.tail(10)"
   ]
  },
  {
   "cell_type": "code",
   "execution_count": 49,
   "id": "f313812b",
   "metadata": {},
   "outputs": [
    {
     "data": {
      "text/plain": [
       "<AxesSubplot:>"
      ]
     },
     "execution_count": 49,
     "metadata": {},
     "output_type": "execute_result"
    },
    {
     "data": {
      "image/png": "[encoded data removed]",
      "text/plain": [
       "<Figure size 432x288 with 1 Axes>"
      ]
     },
     "metadata": {
      "needs_background": "light"
     },
     "output_type": "display_data"
    }
   ],
   "source": [
    "ratings['counts'].hist()"
   ]
  },
  {
   "cell_type": "markdown",
   "id": "e42c082c",
   "metadata": {},
   "source": [
    "# Create CSR Matrix"
   ]
  },
  {
   "cell_type": "code",
   "execution_count": 66,
   "id": "950660bb",
   "metadata": {},
   "outputs": [
    {
     "ename": "ValueError",
     "evalue": "row index exceeds matrix dimensions",
     "output_type": "error",
     "traceback": [
      "\u001b[0;31m---------------------------------------------------------------------------\u001b[0m",
      "\u001b[0;31mValueError\u001b[0m                                Traceback (most recent call last)",
      "\u001b[0;32m/tmp/ipykernel_31/2739833711.py\u001b[0m in \u001b[0;36m<module>\u001b[0;34m\u001b[0m\n\u001b[1;32m      4\u001b[0m \u001b[0mnum_movie\u001b[0m \u001b[0;34m=\u001b[0m \u001b[0mratings\u001b[0m\u001b[0;34m[\u001b[0m\u001b[0;34m'movie_id'\u001b[0m\u001b[0;34m]\u001b[0m\u001b[0;34m.\u001b[0m\u001b[0mnunique\u001b[0m\u001b[0;34m(\u001b[0m\u001b[0;34m)\u001b[0m\u001b[0;34m\u001b[0m\u001b[0;34m\u001b[0m\u001b[0m\n\u001b[1;32m      5\u001b[0m \u001b[0;34m\u001b[0m\u001b[0m\n\u001b[0;32m----> 6\u001b[0;31m \u001b[0mcsr_ratings\u001b[0m \u001b[0;34m=\u001b[0m \u001b[0mcsr_matrix\u001b[0m\u001b[0;34m(\u001b[0m\u001b[0;34m(\u001b[0m\u001b[0mratings\u001b[0m\u001b[0;34m.\u001b[0m\u001b[0mcounts\u001b[0m\u001b[0;34m,\u001b[0m \u001b[0;34m(\u001b[0m\u001b[0mratings\u001b[0m\u001b[0;34m.\u001b[0m\u001b[0muser_id\u001b[0m\u001b[0;34m,\u001b[0m \u001b[0mratings\u001b[0m\u001b[0;34m.\u001b[0m\u001b[0mmovie_id\u001b[0m\u001b[0;34m)\u001b[0m\u001b[0;34m)\u001b[0m\u001b[0;34m,\u001b[0m \u001b[0mshape\u001b[0m\u001b[0;34m=\u001b[0m\u001b[0;34m(\u001b[0m\u001b[0mnum_user\u001b[0m\u001b[0;34m,\u001b[0m \u001b[0mnum_movie\u001b[0m\u001b[0;34m)\u001b[0m\u001b[0;34m)\u001b[0m\u001b[0;34m\u001b[0m\u001b[0;34m\u001b[0m\u001b[0m\n\u001b[0m\u001b[1;32m      7\u001b[0m \u001b[0mcsr_ratings\u001b[0m\u001b[0;34m\u001b[0m\u001b[0;34m\u001b[0m\u001b[0m\n\u001b[1;32m      8\u001b[0m \u001b[0;34m\u001b[0m\u001b[0m\n",
      "\u001b[0;32m/opt/conda/lib/python3.9/site-packages/scipy/sparse/compressed.py\u001b[0m in \u001b[0;36m__init__\u001b[0;34m(self, arg1, shape, dtype, copy)\u001b[0m\n\u001b[1;32m     52\u001b[0m                     \u001b[0;31m# (data, ij) format\u001b[0m\u001b[0;34m\u001b[0m\u001b[0;34m\u001b[0m\u001b[0m\n\u001b[1;32m     53\u001b[0m                     \u001b[0;32mfrom\u001b[0m \u001b[0;34m.\u001b[0m\u001b[0mcoo\u001b[0m \u001b[0;32mimport\u001b[0m \u001b[0mcoo_matrix\u001b[0m\u001b[0;34m\u001b[0m\u001b[0;34m\u001b[0m\u001b[0m\n\u001b[0;32m---> 54\u001b[0;31m                     other = self.__class__(coo_matrix(arg1, shape=shape,\n\u001b[0m\u001b[1;32m     55\u001b[0m                                                       dtype=dtype))\n\u001b[1;32m     56\u001b[0m                     \u001b[0mself\u001b[0m\u001b[0;34m.\u001b[0m\u001b[0m_set_self\u001b[0m\u001b[0;34m(\u001b[0m\u001b[0mother\u001b[0m\u001b[0;34m)\u001b[0m\u001b[0;34m\u001b[0m\u001b[0;34m\u001b[0m\u001b[0m\n",
      "\u001b[0;32m/opt/conda/lib/python3.9/site-packages/scipy/sparse/coo.py\u001b[0m in \u001b[0;36m__init__\u001b[0;34m(self, arg1, shape, dtype, copy)\u001b[0m\n\u001b[1;32m    194\u001b[0m             \u001b[0mself\u001b[0m\u001b[0;34m.\u001b[0m\u001b[0mdata\u001b[0m \u001b[0;34m=\u001b[0m \u001b[0mself\u001b[0m\u001b[0;34m.\u001b[0m\u001b[0mdata\u001b[0m\u001b[0;34m.\u001b[0m\u001b[0mastype\u001b[0m\u001b[0;34m(\u001b[0m\u001b[0mdtype\u001b[0m\u001b[0;34m,\u001b[0m \u001b[0mcopy\u001b[0m\u001b[0;34m=\u001b[0m\u001b[0;32mFalse\u001b[0m\u001b[0;34m)\u001b[0m\u001b[0;34m\u001b[0m\u001b[0;34m\u001b[0m\u001b[0m\n\u001b[1;32m    195\u001b[0m \u001b[0;34m\u001b[0m\u001b[0m\n\u001b[0;32m--> 196\u001b[0;31m         \u001b[0mself\u001b[0m\u001b[0;34m.\u001b[0m\u001b[0m_check\u001b[0m\u001b[0;34m(\u001b[0m\u001b[0;34m)\u001b[0m\u001b[0;34m\u001b[0m\u001b[0;34m\u001b[0m\u001b[0m\n\u001b[0m\u001b[1;32m    197\u001b[0m \u001b[0;34m\u001b[0m\u001b[0m\n\u001b[1;32m    198\u001b[0m     \u001b[0;32mdef\u001b[0m \u001b[0mreshape\u001b[0m\u001b[0;34m(\u001b[0m\u001b[0mself\u001b[0m\u001b[0;34m,\u001b[0m \u001b[0;34m*\u001b[0m\u001b[0margs\u001b[0m\u001b[0;34m,\u001b[0m \u001b[0;34m**\u001b[0m\u001b[0mkwargs\u001b[0m\u001b[0;34m)\u001b[0m\u001b[0;34m:\u001b[0m\u001b[0;34m\u001b[0m\u001b[0;34m\u001b[0m\u001b[0m\n",
      "\u001b[0;32m/opt/conda/lib/python3.9/site-packages/scipy/sparse/coo.py\u001b[0m in \u001b[0;36m_check\u001b[0;34m(self)\u001b[0m\n\u001b[1;32m    281\u001b[0m         \u001b[0;32mif\u001b[0m \u001b[0mself\u001b[0m\u001b[0;34m.\u001b[0m\u001b[0mnnz\u001b[0m \u001b[0;34m>\u001b[0m \u001b[0;36m0\u001b[0m\u001b[0;34m:\u001b[0m\u001b[0;34m\u001b[0m\u001b[0;34m\u001b[0m\u001b[0m\n\u001b[1;32m    282\u001b[0m             \u001b[0;32mif\u001b[0m \u001b[0mself\u001b[0m\u001b[0;34m.\u001b[0m\u001b[0mrow\u001b[0m\u001b[0;34m.\u001b[0m\u001b[0mmax\u001b[0m\u001b[0;34m(\u001b[0m\u001b[0;34m)\u001b[0m \u001b[0;34m>=\u001b[0m \u001b[0mself\u001b[0m\u001b[0;34m.\u001b[0m\u001b[0mshape\u001b[0m\u001b[0;34m[\u001b[0m\u001b[0;36m0\u001b[0m\u001b[0;34m]\u001b[0m\u001b[0;34m:\u001b[0m\u001b[0;34m\u001b[0m\u001b[0;34m\u001b[0m\u001b[0m\n\u001b[0;32m--> 283\u001b[0;31m                 \u001b[0;32mraise\u001b[0m \u001b[0mValueError\u001b[0m\u001b[0;34m(\u001b[0m\u001b[0;34m'row index exceeds matrix dimensions'\u001b[0m\u001b[0;34m)\u001b[0m\u001b[0;34m\u001b[0m\u001b[0;34m\u001b[0m\u001b[0m\n\u001b[0m\u001b[1;32m    284\u001b[0m             \u001b[0;32mif\u001b[0m \u001b[0mself\u001b[0m\u001b[0;34m.\u001b[0m\u001b[0mcol\u001b[0m\u001b[0;34m.\u001b[0m\u001b[0mmax\u001b[0m\u001b[0;34m(\u001b[0m\u001b[0;34m)\u001b[0m \u001b[0;34m>=\u001b[0m \u001b[0mself\u001b[0m\u001b[0;34m.\u001b[0m\u001b[0mshape\u001b[0m\u001b[0;34m[\u001b[0m\u001b[0;36m1\u001b[0m\u001b[0;34m]\u001b[0m\u001b[0;34m:\u001b[0m\u001b[0;34m\u001b[0m\u001b[0;34m\u001b[0m\u001b[0m\n\u001b[1;32m    285\u001b[0m                 \u001b[0;32mraise\u001b[0m \u001b[0mValueError\u001b[0m\u001b[0;34m(\u001b[0m\u001b[0;34m'column index exceeds matrix dimensions'\u001b[0m\u001b[0;34m)\u001b[0m\u001b[0;34m\u001b[0m\u001b[0;34m\u001b[0m\u001b[0m\n",
      "\u001b[0;31mValueError\u001b[0m: row index exceeds matrix dimensions"
     ]
    }
   ],
   "source": [
    "from scipy.sparse import csr_matrix\n",
    "\n",
    "num_user = ratings['user_id'].nunique()\n",
    "num_movie = ratings['movie_id'].nunique()\n",
    "\n",
    "csr_ratings = csr_matrix((ratings.counts, (ratings.user_id, ratings.movie_id)), shape=(num_user, num_movie))\n",
    "csr_ratings\n",
    "\n"
   ]
  },
  {
   "cell_type": "code",
   "execution_count": 68,
   "id": "ae2209b5",
   "metadata": {},
   "outputs": [],
   "source": [
    "# troubleshoot - redo indexing\n",
    "\n",
    "user_unique = ratings['user_id'].unique()\n",
    "movie_unique = ratings['movie_id'].unique()\n",
    "\n",
    "user_to_idx = {v:k for k, v in enumerate(user_unique)}\n",
    "movie_to_idx = {v:k for k, v in enumerate(movie_unique)}"
   ]
  },
  {
   "cell_type": "code",
   "execution_count": 69,
   "id": "63e357e4",
   "metadata": {},
   "outputs": [
    {
     "name": "stdout",
     "output_type": "stream",
     "text": [
      "user_to_id success\n",
      "movie_id_success\n"
     ]
    }
   ],
   "source": [
    "temp_user_idx = ratings['user_id'].map(user_to_idx.get).dropna()\n",
    "\n",
    "if len(temp_user_idx) == len(ratings):\n",
    "    print('user_to_id success')\n",
    "    ratings['user_id'] = temp_user_idx\n",
    "else: \n",
    "    print('user_to_idx fail')\n",
    "    \n",
    "temp_movie_id = ratings['movie_id'].map(movie_to_idx.get).dropna()\n",
    "\n",
    "if len(temp_movie_id) == len(ratings):\n",
    "    print('movie_id_success')\n",
    "    ratings['movie_id'] = temp_movie_id\n",
    "    \n",
    "else:\n",
    "    print('movie_idx fail')"
   ]
  },
  {
   "cell_type": "code",
   "execution_count": 70,
   "id": "46500b19",
   "metadata": {},
   "outputs": [
    {
     "data": {
      "text/plain": [
       "<6040x3628 sparse matrix of type '<class 'numpy.int64'>'\n",
       "\twith 836482 stored elements in Compressed Sparse Row format>"
      ]
     },
     "execution_count": 70,
     "metadata": {},
     "output_type": "execute_result"
    }
   ],
   "source": [
    "# retry\n",
    "\n",
    "from scipy.sparse import csr_matrix\n",
    "\n",
    "num_user = ratings['user_id'].nunique()\n",
    "num_movie = ratings['movie_id'].nunique()\n",
    "\n",
    "csr_ratings = csr_matrix((ratings.counts, (ratings.user_id, ratings.movie_id)), shape=(num_user, num_movie))\n",
    "csr_ratings\n",
    "\n"
   ]
  },
  {
   "cell_type": "code",
   "execution_count": 71,
   "id": "09a771ac",
   "metadata": {},
   "outputs": [],
   "source": [
    "# train als_model\n",
    "\n",
    "from implicit.als import AlternatingLeastSquares\n",
    "import os\n",
    "import numpy as np\n",
    "\n",
    "os.environ['OPENBLAS_NUM_THREADS']='1'\n",
    "os.environ['KMP_DUPLICATE_LIB_OK']='True'\n",
    "os.environ['MKL_NUM_THREADS']='1'"
   ]
  },
  {
   "cell_type": "code",
   "execution_count": 72,
   "id": "c8164580",
   "metadata": {},
   "outputs": [],
   "source": [
    "# create model\n",
    "\n",
    "als_model = AlternatingLeastSquares(factors=100,\n",
    "                                   regularization=0.05,\n",
    "                                   use_gpu=False,\n",
    "                                   iterations=15,\n",
    "                                   dtype=np.float32)"
   ]
  },
  {
   "cell_type": "code",
   "execution_count": 73,
   "id": "921abe55",
   "metadata": {},
   "outputs": [
    {
     "data": {
      "text/plain": [
       "<3628x6040 sparse matrix of type '<class 'numpy.int64'>'\n",
       "\twith 836482 stored elements in Compressed Sparse Column format>"
      ]
     },
     "execution_count": 73,
     "metadata": {},
     "output_type": "execute_result"
    }
   ],
   "source": [
    "csr_ratings_transposed = csr_ratings.T\n",
    "csr_ratings_transposed"
   ]
  },
  {
   "cell_type": "code",
   "execution_count": 74,
   "id": "616f48a4",
   "metadata": {},
   "outputs": [
    {
     "data": {
      "application/vnd.jupyter.widget-view+json": {
       "model_id": "8f11574f423c4e4e907506e56b2e8d28",
       "version_major": 2,
       "version_minor": 0
      },
      "text/plain": [
       "  0%|          | 0/15 [00:00<?, ?it/s]"
      ]
     },
     "metadata": {},
     "output_type": "display_data"
    }
   ],
   "source": [
    "# train model\n",
    "\n",
    "als_model.fit(csr_ratings_transposed)"
   ]
  },
  {
   "cell_type": "code",
   "execution_count": 78,
   "id": "ef5284d0",
   "metadata": {},
   "outputs": [],
   "source": [
    "# model predict\n",
    "\n",
    "chimin, Matrix = user_to_idx[6041], movie_to_idx[2571]\n",
    "chimin_vec, Matrix_vec = als_model.user_factors[chimin], als_model.item_factors[Matrix]\n"
   ]
  },
  {
   "cell_type": "code",
   "execution_count": 81,
   "id": "540314fa",
   "metadata": {},
   "outputs": [
    {
     "data": {
      "text/plain": [
       "0.32037222"
      ]
     },
     "execution_count": 81,
     "metadata": {},
     "output_type": "execute_result"
    }
   ],
   "source": [
    "# dot product\n",
    "\n",
    "pred1 = np.dot(chimin_vec, Matrix_vec)\n",
    "pred1"
   ]
  },
  {
   "cell_type": "code",
   "execution_count": 82,
   "id": "bd1ac12c",
   "metadata": {},
   "outputs": [
    {
     "data": {
      "application/vnd.jupyter.widget-view+json": {
       "model_id": "950a10ac6e984eb4a82c8b33921412a8",
       "version_major": 2,
       "version_minor": 0
      },
      "text/plain": [
       "  0%|          | 0/30 [00:00<?, ?it/s]"
      ]
     },
     "metadata": {},
     "output_type": "display_data"
    }
   ],
   "source": [
    "# acc too low. increase iter\n",
    "\n",
    "als_model2 = AlternatingLeastSquares(factors=150,\n",
    "                                   regularization=0.07,\n",
    "                                   use_gpu=False,\n",
    "                                   iterations=30,\n",
    "                                   dtype=np.float32)\n",
    "\n",
    "als_model2.fit(csr_ratings_transposed)"
   ]
  },
  {
   "cell_type": "code",
   "execution_count": 83,
   "id": "0ad081aa",
   "metadata": {},
   "outputs": [
    {
     "data": {
      "text/plain": [
       "0.4120132"
      ]
     },
     "execution_count": 83,
     "metadata": {},
     "output_type": "execute_result"
    }
   ],
   "source": [
    "# model predict\n",
    "\n",
    "chimin, Matrix = user_to_idx[6041], movie_to_idx[2571]\n",
    "chimin_vec, Matrix_vec = als_model2.user_factors[chimin], als_model2.item_factors[Matrix]\n",
    "\n",
    "pred2 = np.dot(chimin_vec, Matrix_vec)\n",
    "pred2\n"
   ]
  },
  {
   "cell_type": "code",
   "execution_count": 84,
   "id": "25a3a932",
   "metadata": {},
   "outputs": [
    {
     "data": {
      "application/vnd.jupyter.widget-view+json": {
       "model_id": "e004b25a9205414cbe5fb518cd18aef2",
       "version_major": 2,
       "version_minor": 0
      },
      "text/plain": [
       "  0%|          | 0/100 [00:00<?, ?it/s]"
      ]
     },
     "metadata": {},
     "output_type": "display_data"
    }
   ],
   "source": [
    "# iter 100\n",
    "\n",
    "als_model3 = AlternatingLeastSquares(factors=100,\n",
    "                                   regularization=0.1,\n",
    "                                   use_gpu=False,\n",
    "                                   iterations=100,\n",
    "                                   dtype=np.float32)\n",
    "\n",
    "als_model3.fit(csr_ratings_transposed)"
   ]
  },
  {
   "cell_type": "code",
   "execution_count": 85,
   "id": "eb6398ff",
   "metadata": {},
   "outputs": [
    {
     "data": {
      "text/plain": [
       "0.36379868"
      ]
     },
     "execution_count": 85,
     "metadata": {},
     "output_type": "execute_result"
    }
   ],
   "source": [
    "# model predict\n",
    "\n",
    "chimin, Matrix = user_to_idx[6041], movie_to_idx[2571]\n",
    "chimin_vec, Matrix_vec = als_model3.user_factors[chimin], als_model3.item_factors[Matrix]\n",
    "\n",
    "pred3 = np.dot(chimin_vec, Matrix_vec)\n",
    "pred3\n"
   ]
  },
  {
   "cell_type": "code",
   "execution_count": 86,
   "id": "315556a8",
   "metadata": {},
   "outputs": [
    {
     "data": {
      "text/plain": [
       "-0.04219405"
      ]
     },
     "execution_count": 86,
     "metadata": {},
     "output_type": "execute_result"
    }
   ],
   "source": [
    "# american beauty == 2858\n",
    "\n",
    "ab_idx = movie_to_idx[2858]\n",
    "ab_vec = als_model.item_factors[ab_idx]\n",
    "\n",
    "np.dot(chimin_vec, ab_vec)"
   ]
  },
  {
   "cell_type": "markdown",
   "id": "c6737c5f",
   "metadata": {},
   "source": [
    "# Find Similar Movies"
   ]
  },
  {
   "cell_type": "code",
   "execution_count": 88,
   "id": "c436bf78",
   "metadata": {},
   "outputs": [
    {
     "data": {
      "text/plain": [
       "[(124, 0.9999999),\n",
       " (92, 0.63790333),\n",
       " (62, 0.49535835),\n",
       " (200, 0.46915305),\n",
       " (141, 0.45541126),\n",
       " (145, 0.4536833),\n",
       " (375, 0.39579952),\n",
       " (317, 0.333599),\n",
       " (107, 0.32157695),\n",
       " (175, 0.31433475)]"
      ]
     },
     "execution_count": 88,
     "metadata": {},
     "output_type": "execute_result"
    }
   ],
   "source": [
    "# The Matix == 2571\n",
    "\n",
    "fav_movie = 2571\n",
    "movie_id = movie_to_idx[fav_movie]\n",
    "\n",
    "sim_movie = als_model2.similar_items(movie_id, N=10)\n",
    "sim_movie"
   ]
  },
  {
   "cell_type": "code",
   "execution_count": 93,
   "id": "29cb5130",
   "metadata": {},
   "outputs": [
    {
     "data": {
      "text/plain": [
       "[2502    Matrix, The (1999)\n",
       " Name: title, dtype: object,\n",
       " 585    Terminator 2: Judgment Day (1991)\n",
       " Name: title, dtype: object,\n",
       " 2847    Total Recall (1990)\n",
       " Name: title, dtype: object,\n",
       " 1220    Terminator, The (1984)\n",
       " Name: title, dtype: object,\n",
       " 453    Fugitive, The (1993)\n",
       " Name: title, dtype: object,\n",
       " 1491    Fifth Element, The (1997)\n",
       " Name: title, dtype: object,\n",
       " 1533    Face/Off (1997)\n",
       " Name: title, dtype: object,\n",
       " 31    Twelve Monkeys (1995)\n",
       " Name: title, dtype: object,\n",
       " 476    Jurassic Park (1993)\n",
       " Name: title, dtype: object,\n",
       " 1539    Men in Black (1997)\n",
       " Name: title, dtype: object]"
      ]
     },
     "execution_count": 93,
     "metadata": {},
     "output_type": "execute_result"
    }
   ],
   "source": [
    "idx_to_movie = {v:k for k, v in movie_to_idx.items()}\n",
    "\n",
    "sim_movie_idx = [idx_to_movie[i[0]] for i in sim_movie]\n",
    "sim_movies = [movies.loc[movies['movie_id'] == i, 'title'] for i in sim_movie_idx]\n",
    "sim_movies\n"
   ]
  },
  {
   "cell_type": "code",
   "execution_count": 99,
   "id": "c72a1b64",
   "metadata": {},
   "outputs": [
    {
     "data": {
      "text/plain": [
       "[1220    Terminator, The (1984)\n",
       " Name: title, dtype: object,\n",
       " 589    Silence of the Lambs, The (1991)\n",
       " Name: title, dtype: object,\n",
       " 585    Terminator 2: Judgment Day (1991)\n",
       " Name: title, dtype: object,\n",
       " 453    Fugitive, The (1993)\n",
       " Name: title, dtype: object,\n",
       " 1182    Aliens (1986)\n",
       " Name: title, dtype: object,\n",
       " 523    Schindler's List (1993)\n",
       " Name: title, dtype: object,\n",
       " 1180    Raiders of the Lost Ark (1981)\n",
       " Name: title, dtype: object,\n",
       " 1959    Saving Private Ryan (1998)\n",
       " Name: title, dtype: object,\n",
       " 1196    Alien (1979)\n",
       " Name: title, dtype: object,\n",
       " 49    Usual Suspects, The (1995)\n",
       " Name: title, dtype: object]"
      ]
     },
     "execution_count": 99,
     "metadata": {},
     "output_type": "execute_result"
    }
   ],
   "source": [
    "# rec me some movies\n",
    "\n",
    "user = user_to_idx[6041]\n",
    "\n",
    "movie_rec = als_model2.recommend(user, csr_ratings, N=10, filter_already_liked_items=True)\n",
    "rec_idx = [idx_to_movie[i[0]] for i in movie_rec]\n",
    "\n",
    "[movies.loc[movies['movie_id'] == i, 'title'] for i in rec_idx]\n",
    "\n"
   ]
  },
  {
   "cell_type": "code",
   "execution_count": null,
   "id": "70715b17",
   "metadata": {},
   "outputs": [],
   "source": []
  },
  {
   "cell_type": "markdown",
   "id": "4b169719",
   "metadata": {},
   "source": [
    "# 회고\n",
    "- indexing 은 movie_id 가 수치형으로 되어있어도 필요하다. 무비 아이디가 전체 행 개수와 상관 없이 적혀져 있을 경우 csr 이 안된다\n",
    "- 추천 신뢰도가 그렇게 높지 않다. iter 를 100으로 끌어올려봤는데 과적합 때문인지 30만도 못했다"
   ]
  }
 ],
 "metadata": {
  "kernelspec": {
   "display_name": "Python 3 (ipykernel)",
   "language": "python",
   "name": "python3"
  },
  "language_info": {
   "codemirror_mode": {
    "name": "ipython",
    "version": 3
   },
   "file_extension": ".py",
   "mimetype": "text/x-python",
   "name": "python",
   "nbconvert_exporter": "python",
   "pygments_lexer": "ipython3",
   "version": "3.9.7"
  }
 },
 "nbformat": 4,
 "nbformat_minor": 5
}
