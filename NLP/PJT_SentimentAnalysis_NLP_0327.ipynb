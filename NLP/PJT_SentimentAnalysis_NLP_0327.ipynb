{
 "cells": [
  {
   "cell_type": "markdown",
   "id": "7021d929",
   "metadata": {},
   "source": [
    "# Prep and Load Data"
   ]
  },
  {
   "cell_type": "code",
   "execution_count": 1,
   "id": "f6617e8c",
   "metadata": {},
   "outputs": [
    {
     "data": {
      "text/html": [
       "<div>\n",
       "<style scoped>\n",
       "    .dataframe tbody tr th:only-of-type {\n",
       "        vertical-align: middle;\n",
       "    }\n",
       "\n",
       "    .dataframe tbody tr th {\n",
       "        vertical-align: top;\n",
       "    }\n",
       "\n",
       "    .dataframe thead th {\n",
       "        text-align: right;\n",
       "    }\n",
       "</style>\n",
       "<table border=\"1\" class=\"dataframe\">\n",
       "  <thead>\n",
       "    <tr style=\"text-align: right;\">\n",
       "      <th></th>\n",
       "      <th>id</th>\n",
       "      <th>document</th>\n",
       "      <th>label</th>\n",
       "    </tr>\n",
       "  </thead>\n",
       "  <tbody>\n",
       "    <tr>\n",
       "      <th>0</th>\n",
       "      <td>9976970</td>\n",
       "      <td>아 더빙.. 진짜 짜증나네요 목소리</td>\n",
       "      <td>0</td>\n",
       "    </tr>\n",
       "    <tr>\n",
       "      <th>1</th>\n",
       "      <td>3819312</td>\n",
       "      <td>흠...포스터보고 초딩영화줄....오버연기조차 가볍지 않구나</td>\n",
       "      <td>1</td>\n",
       "    </tr>\n",
       "    <tr>\n",
       "      <th>2</th>\n",
       "      <td>10265843</td>\n",
       "      <td>너무재밓었다그래서보는것을추천한다</td>\n",
       "      <td>0</td>\n",
       "    </tr>\n",
       "    <tr>\n",
       "      <th>3</th>\n",
       "      <td>9045019</td>\n",
       "      <td>교도소 이야기구먼 ..솔직히 재미는 없다..평점 조정</td>\n",
       "      <td>0</td>\n",
       "    </tr>\n",
       "    <tr>\n",
       "      <th>4</th>\n",
       "      <td>6483659</td>\n",
       "      <td>사이몬페그의 익살스런 연기가 돋보였던 영화!스파이더맨에서 늙어보이기만 했던 커스틴 ...</td>\n",
       "      <td>1</td>\n",
       "    </tr>\n",
       "  </tbody>\n",
       "</table>\n",
       "</div>"
      ],
      "text/plain": [
       "         id                                           document  label\n",
       "0   9976970                                아 더빙.. 진짜 짜증나네요 목소리      0\n",
       "1   3819312                  흠...포스터보고 초딩영화줄....오버연기조차 가볍지 않구나      1\n",
       "2  10265843                                  너무재밓었다그래서보는것을추천한다      0\n",
       "3   9045019                      교도소 이야기구먼 ..솔직히 재미는 없다..평점 조정      0\n",
       "4   6483659  사이몬페그의 익살스런 연기가 돋보였던 영화!스파이더맨에서 늙어보이기만 했던 커스틴 ...      1"
      ]
     },
     "execution_count": 1,
     "metadata": {},
     "output_type": "execute_result"
    }
   ],
   "source": [
    "import pandas as pd\n",
    "\n",
    "# 데이터를 읽어봅시다. \n",
    "train_data = pd.read_table('~/aiffel/NLP/sentiment_classification/data/ratings_train.txt')\n",
    "test_data = pd.read_table('~/aiffel/NLP/sentiment_classification/data/ratings_test.txt')\n",
    "\n",
    "train_data.head()\n"
   ]
  },
  {
   "cell_type": "code",
   "execution_count": 10,
   "id": "82d1d7d6",
   "metadata": {},
   "outputs": [],
   "source": [
    "# create data loader\n",
    "\n",
    "from konlpy.tag import Mecab\n",
    "import numpy as np\n",
    "from collections import Counter\n",
    "import pandas as pd\n",
    "\n",
    "tokenizer = Mecab()\n",
    "stopwords = ['의', '가', '이', '은', '들', '는', '좀', '잘', '걍', '과', '도', '를', '으로', '자', '에', '와', '한', '하다']\n",
    "\n",
    "def load_data(train_data, test_data, num_words=10000):\n",
    "    # 데이터의 중복 제거와 NaN 결측치 제거\n",
    "    train_data.drop_duplicates(subset=['document'], inplace=True)\n",
    "    train_data = train_data.dropna(how='any')\n",
    "    test_data.drop_duplicates(subset=['document'], inplace=True)\n",
    "    test_data = test_data.dropna(how='any')\n",
    "\n",
    "    # 한국어 토크나이저로 토큰화 및 불용어 제거\n",
    "    X_train = []\n",
    "    for sentence in train_data['document']:\n",
    "        temp_X = tokenizer.morphs(sentence)  # 토큰화\n",
    "        temp_X = [word for word in temp_X if not word in stopwords]  # 불용어 제거\n",
    "        X_train.append(temp_X)\n",
    "\n",
    "    X_test = []\n",
    "    for sentence in test_data['document']:\n",
    "        temp_X = tokenizer.morphs(sentence)  # 토큰화\n",
    "        temp_X = [word for word in temp_X if not word in stopwords]  # 불용어 제거\n",
    "        X_test.append(temp_X)\n",
    "\n",
    "    # 사전word_to_index 구성\n",
    "    words = np.concatenate(X_train).tolist()\n",
    "    counter = Counter(words)\n",
    "    counter = counter.most_common(num_words - 1)\n",
    "    word_to_index = {word: index + 1 for index, (word, _) in enumerate(counter)}  # 인덱스 0은 패딩을 위해 비워둠\n",
    "\n",
    "    # 텍스트 스트링을 사전 인덱스 스트링으로 변환\n",
    "    X_train = list(map(lambda sentence: [word_to_index[word] if word in word_to_index else 0 for word in sentence], X_train))\n",
    "    X_test = list(map(lambda sentence: [word_to_index[word] if word in word_to_index else 0 for word in sentence], X_test))\n",
    "\n",
    "    # 레이블 데이터 준비\n",
    "    y_train = np.array(train_data['label'])\n",
    "    y_test = np.array(test_data['label'])\n",
    "\n",
    "    return X_train, y_train, X_test, y_test, word_to_index\n",
    "\n",
    "\n",
    "x_train, y_train, x_test, y_test, word_to_index = load_data(train_data, test_data)\n"
   ]
  },
  {
   "cell_type": "code",
   "execution_count": 12,
   "id": "8adbdc1e",
   "metadata": {},
   "outputs": [
    {
     "data": {
      "text/plain": [
       "[29, 71, 916, 1, 1, 36, 225, 17, 30, 745]"
      ]
     },
     "execution_count": 12,
     "metadata": {},
     "output_type": "execute_result"
    }
   ],
   "source": [
    "x_train[0]"
   ]
  },
  {
   "cell_type": "code",
   "execution_count": 6,
   "id": "3950e394",
   "metadata": {},
   "outputs": [],
   "source": [
    "index_to_word = {index:word for word, index in word_to_index.items()}"
   ]
  },
  {
   "cell_type": "code",
   "execution_count": 8,
   "id": "2f2f0887",
   "metadata": {},
   "outputs": [],
   "source": [
    "# 문장 1개를 활용할 딕셔너리와 함께 주면, 단어 인덱스 리스트 벡터로 변환해 주는 함수입니다. \n",
    "# 단, 모든 문장은 <BOS>로 시작하는 것으로 합니다. \n",
    "def get_encoded_sentence(sentence, word_to_index):\n",
    "    return [word_to_index['<BOS>']]+[word_to_index[word] if word in word_to_index else word_to_index['<UNK>'] for word in sentence.split()]\n",
    "\n",
    "# 여러 개의 문장 리스트를 한꺼번에 단어 인덱스 리스트 벡터로 encode해 주는 함수입니다. \n",
    "def get_encoded_sentences(sentences, word_to_index):\n",
    "    return [get_encoded_sentence(sentence, word_to_index) for sentence in sentences]\n",
    "\n",
    "# 숫자 벡터로 encode된 문장을 원래대로 decode하는 함수입니다. \n",
    "def get_decoded_sentence(encoded_sentence, index_to_word):\n",
    "    return ' '.join(index_to_word[index] if index in index_to_word else '<UNK>' for index in encoded_sentence[1:])  #[1:]를 통해 <BOS>를 제외\n",
    "\n",
    "# 여러 개의 숫자 벡터로 encode된 문장을 한꺼번에 원래대로 decode하는 함수입니다. \n",
    "def get_decoded_sentences(encoded_sentences, index_to_word):\n",
    "    return [get_decoded_sentence(encoded_sentence, index_to_word) for encoded_sentence in encoded_sentences]\n"
   ]
  },
  {
   "cell_type": "markdown",
   "id": "a383981e",
   "metadata": {},
   "source": [
    "## Data Analysis and processing for Model Creation\n",
    "- 데이터셋 내 문장 길이 분포\n",
    "- 적절한 최대 문장 길이 지정\n",
    "- keras.preprocessing.sequence.pad_sequences 을 활용한 패딩 추가"
   ]
  },
  {
   "cell_type": "code",
   "execution_count": 17,
   "id": "fa4d7334",
   "metadata": {},
   "outputs": [
    {
     "data": {
      "image/png": "[encoded data removed]",
      "text/plain": [
       "<Figure size 432x288 with 1 Axes>"
      ]
     },
     "metadata": {
      "needs_background": "light"
     },
     "output_type": "display_data"
    },
    {
     "name": "stdout",
     "output_type": "stream",
     "text": [
      "Average length:  15.98170773419436\n",
      "Max length:  116\n",
      "Standard deviation:  12.82473766384545\n"
     ]
    }
   ],
   "source": [
    "import matplotlib.pyplot as plt\n",
    "\n",
    "# 문장 길이 분포 확인\n",
    "sentence_lengths = [len(sentence) for sentence in X_train]\n",
    "plt.hist(sentence_lengths, bins=50)\n",
    "plt.xlabel('Length of sentences')\n",
    "plt.ylabel('Number of sentences')\n",
    "plt.show()\n",
    "\n",
    "# 평균과 최대, 표준편차 확인\n",
    "print(\"Average length: \", np.mean(sentence_lengths))\n",
    "print(\"Max length: \", np.max(sentence_lengths))\n",
    "print(\"Standard deviation: \", np.std(sentence_lengths))\n"
   ]
  },
  {
   "cell_type": "code",
   "execution_count": 18,
   "id": "fee47826",
   "metadata": {},
   "outputs": [
    {
     "name": "stdout",
     "output_type": "stream",
     "text": [
      "(146182, 40)\n",
      "(49157, 40)\n"
     ]
    }
   ],
   "source": [
    "from tensorflow.keras.preprocessing.sequence import pad_sequences\n",
    "\n",
    "max_len = 40\n",
    "\n",
    "# 패딩 추가\n",
    "X_train_padded = pad_sequences(X_train, maxlen=max_len, padding='post')\n",
    "X_test_padded = pad_sequences(X_test, maxlen=max_len, padding='post')\n",
    "\n",
    "# 결과 확인\n",
    "print(X_train_padded.shape)\n",
    "print(X_test_padded.shape)\n"
   ]
  },
  {
   "cell_type": "markdown",
   "id": "2a46f85a",
   "metadata": {},
   "source": [
    "## Model Creation and Training"
   ]
  },
  {
   "cell_type": "code",
   "execution_count": 19,
   "id": "a4c66304",
   "metadata": {},
   "outputs": [
    {
     "name": "stdout",
     "output_type": "stream",
     "text": [
      "Model: \"sequential\"\n",
      "_________________________________________________________________\n",
      "Layer (type)                 Output Shape              Param #   \n",
      "=================================================================\n",
      "embedding (Embedding)        (None, None, 16)          160000    \n",
      "_________________________________________________________________\n",
      "lstm (LSTM)                  (None, 8)                 800       \n",
      "_________________________________________________________________\n",
      "dense (Dense)                (None, 8)                 72        \n",
      "_________________________________________________________________\n",
      "dense_1 (Dense)              (None, 1)                 9         \n",
      "=================================================================\n",
      "Total params: 160,881\n",
      "Trainable params: 160,881\n",
      "Non-trainable params: 0\n",
      "_________________________________________________________________\n"
     ]
    }
   ],
   "source": [
    "# model 1 - vanilla LSTM\n",
    "\n",
    "import tensorflow as tf\n",
    "\n",
    "vocab_size = 10000\n",
    "word_vector_dim = 16\n",
    "\n",
    "model1 = tf.keras.Sequential()\n",
    "model1.add(tf.keras.layers.Embedding(vocab_size, word_vector_dim, input_shape=(None,)))\n",
    "model1.add(tf.keras.layers.LSTM(8))\n",
    "model1.add(tf.keras.layers.Dense(8, activation='relu'))\n",
    "model1.add(tf.keras.layers.Dense(1, activation='sigmoid'))\n",
    "\n",
    "model1.summary()\n"
   ]
  },
  {
   "cell_type": "code",
   "execution_count": 20,
   "id": "d15b54d4",
   "metadata": {},
   "outputs": [
    {
     "name": "stdout",
     "output_type": "stream",
     "text": [
      "Model: \"sequential_1\"\n",
      "_________________________________________________________________\n",
      "Layer (type)                 Output Shape              Param #   \n",
      "=================================================================\n",
      "embedding_1 (Embedding)      (None, None, 16)          160000    \n",
      "_________________________________________________________________\n",
      "lstm_1 (LSTM)                (None, None, 16)          2112      \n",
      "_________________________________________________________________\n",
      "lstm_2 (LSTM)                (None, 8)                 800       \n",
      "_________________________________________________________________\n",
      "dense_2 (Dense)              (None, 8)                 72        \n",
      "_________________________________________________________________\n",
      "dense_3 (Dense)              (None, 1)                 9         \n",
      "=================================================================\n",
      "Total params: 162,993\n",
      "Trainable params: 162,993\n",
      "Non-trainable params: 0\n",
      "_________________________________________________________________\n"
     ]
    }
   ],
   "source": [
    "# model 2 -stacked LSTM\n",
    "\n",
    "model2 = tf.keras.Sequential()\n",
    "model2.add(tf.keras.layers.Embedding(vocab_size, word_vector_dim, input_shape=(None,)))\n",
    "model2.add(tf.keras.layers.LSTM(16, return_sequences=True))  # return_sequences=True is necessary for stacking\n",
    "model2.add(tf.keras.layers.LSTM(8))\n",
    "model2.add(tf.keras.layers.Dense(8, activation='relu'))\n",
    "model2.add(tf.keras.layers.Dense(1, activation='sigmoid'))\n",
    "\n",
    "model2.summary()\n"
   ]
  },
  {
   "cell_type": "code",
   "execution_count": 27,
   "id": "bdbfc544",
   "metadata": {},
   "outputs": [
    {
     "name": "stdout",
     "output_type": "stream",
     "text": [
      "Model: \"sequential_3\"\n",
      "_________________________________________________________________\n",
      "Layer (type)                 Output Shape              Param #   \n",
      "=================================================================\n",
      "embedding_3 (Embedding)      (None, None, 16)          160000    \n",
      "_________________________________________________________________\n",
      "conv1d_2 (Conv1D)            (None, None, 16)          1040      \n",
      "_________________________________________________________________\n",
      "max_pooling1d_1 (MaxPooling1 (None, None, 16)          0         \n",
      "_________________________________________________________________\n",
      "conv1d_3 (Conv1D)            (None, None, 16)          1040      \n",
      "_________________________________________________________________\n",
      "global_max_pooling1d_1 (Glob (None, 16)                0         \n",
      "_________________________________________________________________\n",
      "dense_6 (Dense)              (None, 8)                 136       \n",
      "_________________________________________________________________\n",
      "dense_7 (Dense)              (None, 1)                 9         \n",
      "=================================================================\n",
      "Total params: 162,225\n",
      "Trainable params: 162,225\n",
      "Non-trainable params: 0\n",
      "_________________________________________________________________\n"
     ]
    }
   ],
   "source": [
    "# model 3 - LSTM with Conv1D\n",
    "\n",
    "model3 = tf.keras.Sequential()\n",
    "model3.add(tf.keras.layers.Embedding(vocab_size, word_vector_dim, input_shape=(None,)))\n",
    "model3.add(tf.keras.layers.Conv1D(16, 4, activation='relu'))\n",
    "model3.add(tf.keras.layers.MaxPooling1D(5))\n",
    "model3.add(tf.keras.layers.Conv1D(16, 4, activation='relu'))\n",
    "model3.add(tf.keras.layers.GlobalMaxPooling1D())\n",
    "model3.add(tf.keras.layers.Dense(8, activation='relu'))\n",
    "model3.add(tf.keras.layers.Dense(1, activation='sigmoid'))\n",
    "\n",
    "model3.summary()\n"
   ]
  },
  {
   "cell_type": "code",
   "execution_count": 22,
   "id": "6a81bbf0",
   "metadata": {},
   "outputs": [
    {
     "name": "stdout",
     "output_type": "stream",
     "text": [
      "Training set size: 116945\n",
      "Validation set size: 29237\n"
     ]
    }
   ],
   "source": [
    "# val set\n",
    "\n",
    "# Assuming you've already padded your sequences as X_train_padded and have labels in y_train\n",
    "from sklearn.model_selection import train_test_split\n",
    "\n",
    "# Split the training data to create a validation set\n",
    "X_train_split, X_val_split, y_train_split, y_val_split = train_test_split(X_train_padded, y_train, test_size=0.2, random_state=42)\n",
    "\n",
    "print(f'Training set size: {X_train_split.shape[0]}')\n",
    "print(f'Validation set size: {X_val_split.shape[0]}')\n"
   ]
  },
  {
   "cell_type": "markdown",
   "id": "7bf0cca1",
   "metadata": {},
   "source": [
    "## Train!"
   ]
  },
  {
   "cell_type": "code",
   "execution_count": 29,
   "id": "b688c3c0",
   "metadata": {},
   "outputs": [],
   "source": [
    "model1.compile(optimizer='adam',\n",
    "              loss='binary_crossentropy',\n",
    "              metrics=['accuracy'])\n",
    "\n",
    "model2.compile(optimizer='adam',\n",
    "              loss='binary_crossentropy',\n",
    "              metrics=['accuracy'])\n",
    "\n",
    "model3.compile(optimizer='adam',\n",
    "              loss='binary_crossentropy',\n",
    "              metrics=['accuracy'])\n"
   ]
  },
  {
   "cell_type": "code",
   "execution_count": 24,
   "id": "7d7c797a",
   "metadata": {},
   "outputs": [
    {
     "name": "stdout",
     "output_type": "stream",
     "text": [
      "Epoch 1/10\n",
      "1828/1828 [==============================] - 13s 5ms/step - loss: 0.4256 - accuracy: 0.7935 - val_loss: 0.3563 - val_accuracy: 0.8477\n",
      "Epoch 2/10\n",
      "1828/1828 [==============================] - 10s 5ms/step - loss: 0.3264 - accuracy: 0.8588 - val_loss: 0.3569 - val_accuracy: 0.8482\n",
      "Epoch 3/10\n",
      "1828/1828 [==============================] - 10s 5ms/step - loss: 0.3030 - accuracy: 0.8672 - val_loss: 0.3547 - val_accuracy: 0.8467\n",
      "Epoch 4/10\n",
      "1828/1828 [==============================] - 10s 5ms/step - loss: 0.2838 - accuracy: 0.8761 - val_loss: 0.3601 - val_accuracy: 0.8517\n",
      "Epoch 5/10\n",
      "1828/1828 [==============================] - 10s 5ms/step - loss: 0.2669 - accuracy: 0.8825 - val_loss: 0.3627 - val_accuracy: 0.8473\n",
      "Epoch 6/10\n",
      "1828/1828 [==============================] - 10s 5ms/step - loss: 0.2513 - accuracy: 0.8895 - val_loss: 0.3680 - val_accuracy: 0.8543\n",
      "Epoch 7/10\n",
      "1828/1828 [==============================] - 10s 5ms/step - loss: 0.2360 - accuracy: 0.8974 - val_loss: 0.3770 - val_accuracy: 0.8516\n",
      "Epoch 8/10\n",
      "1828/1828 [==============================] - 10s 5ms/step - loss: 0.2215 - accuracy: 0.9042 - val_loss: 0.3965 - val_accuracy: 0.8508\n",
      "Epoch 9/10\n",
      "1828/1828 [==============================] - 9s 5ms/step - loss: 0.2058 - accuracy: 0.9122 - val_loss: 0.4201 - val_accuracy: 0.8400\n",
      "Epoch 10/10\n",
      "1828/1828 [==============================] - 9s 5ms/step - loss: 0.1927 - accuracy: 0.9188 - val_loss: 0.4536 - val_accuracy: 0.8495\n"
     ]
    }
   ],
   "source": [
    "epochs = 10\n",
    "batch_size = 64\n",
    "\n",
    "history1 = model1.fit(X_train_split, y_train_split,\n",
    "                    epochs=epochs,\n",
    "                    batch_size=batch_size,\n",
    "                    validation_data=(X_val_split, y_val_split),\n",
    "                    verbose=1)\n"
   ]
  },
  {
   "cell_type": "code",
   "execution_count": 25,
   "id": "6d82b270",
   "metadata": {},
   "outputs": [
    {
     "name": "stdout",
     "output_type": "stream",
     "text": [
      "Epoch 1/10\n",
      "1828/1828 [==============================] - 17s 8ms/step - loss: 0.4128 - accuracy: 0.8035 - val_loss: 0.3572 - val_accuracy: 0.8431\n",
      "Epoch 2/10\n",
      "1828/1828 [==============================] - 14s 8ms/step - loss: 0.3261 - accuracy: 0.8592 - val_loss: 0.3421 - val_accuracy: 0.8518\n",
      "Epoch 3/10\n",
      "1828/1828 [==============================] - 14s 8ms/step - loss: 0.2954 - accuracy: 0.8713 - val_loss: 0.3522 - val_accuracy: 0.8559\n",
      "Epoch 4/10\n",
      "1828/1828 [==============================] - 14s 8ms/step - loss: 0.2707 - accuracy: 0.8827 - val_loss: 0.3472 - val_accuracy: 0.8535\n",
      "Epoch 5/10\n",
      "1828/1828 [==============================] - 14s 8ms/step - loss: 0.2507 - accuracy: 0.8930 - val_loss: 0.3625 - val_accuracy: 0.8534\n",
      "Epoch 6/10\n",
      "1828/1828 [==============================] - 14s 7ms/step - loss: 0.2325 - accuracy: 0.9017 - val_loss: 0.3661 - val_accuracy: 0.8541\n",
      "Epoch 7/10\n",
      "1828/1828 [==============================] - 14s 7ms/step - loss: 0.2175 - accuracy: 0.9094 - val_loss: 0.3742 - val_accuracy: 0.8520\n",
      "Epoch 8/10\n",
      "1828/1828 [==============================] - 14s 7ms/step - loss: 0.2054 - accuracy: 0.9146 - val_loss: 0.3948 - val_accuracy: 0.8506\n",
      "Epoch 9/10\n",
      "1828/1828 [==============================] - 14s 8ms/step - loss: 0.1936 - accuracy: 0.9203 - val_loss: 0.4079 - val_accuracy: 0.8433\n",
      "Epoch 10/10\n",
      "1828/1828 [==============================] - 13s 7ms/step - loss: 0.1832 - accuracy: 0.9249 - val_loss: 0.4357 - val_accuracy: 0.8475\n"
     ]
    }
   ],
   "source": [
    "\n",
    "history2 = model2.fit(X_train_split, y_train_split,\n",
    "                    epochs=epochs,\n",
    "                    batch_size=batch_size,\n",
    "                    validation_data=(X_val_split, y_val_split),\n",
    "                    verbose=1)\n"
   ]
  },
  {
   "cell_type": "code",
   "execution_count": 30,
   "id": "b6bee1ee",
   "metadata": {},
   "outputs": [
    {
     "name": "stdout",
     "output_type": "stream",
     "text": [
      "Epoch 1/10\n",
      "1828/1828 [==============================] - 10s 5ms/step - loss: 0.4636 - accuracy: 0.8058 - val_loss: 0.3842 - val_accuracy: 0.8457\n",
      "Epoch 2/10\n",
      "1828/1828 [==============================] - 8s 4ms/step - loss: 0.3253 - accuracy: 0.8727 - val_loss: 0.3545 - val_accuracy: 0.8468\n",
      "Epoch 3/10\n",
      "1828/1828 [==============================] - 8s 5ms/step - loss: 0.2614 - accuracy: 0.8998 - val_loss: 0.3585 - val_accuracy: 0.8461\n",
      "Epoch 4/10\n",
      "1828/1828 [==============================] - 8s 4ms/step - loss: 0.2118 - accuracy: 0.9229 - val_loss: 0.3974 - val_accuracy: 0.8451\n",
      "Epoch 5/10\n",
      "1828/1828 [==============================] - 8s 4ms/step - loss: 0.1739 - accuracy: 0.9396 - val_loss: 0.4413 - val_accuracy: 0.8395\n",
      "Epoch 6/10\n",
      "1828/1828 [==============================] - 8s 4ms/step - loss: 0.1455 - accuracy: 0.9505 - val_loss: 0.4901 - val_accuracy: 0.8416\n",
      "Epoch 7/10\n",
      "1828/1828 [==============================] - 8s 4ms/step - loss: 0.1245 - accuracy: 0.9596 - val_loss: 0.5638 - val_accuracy: 0.8378\n",
      "Epoch 8/10\n",
      "1828/1828 [==============================] - 8s 5ms/step - loss: 0.1097 - accuracy: 0.9653 - val_loss: 0.5938 - val_accuracy: 0.8312\n",
      "Epoch 9/10\n",
      "1828/1828 [==============================] - 8s 4ms/step - loss: 0.0988 - accuracy: 0.9695 - val_loss: 0.6757 - val_accuracy: 0.8327\n",
      "Epoch 10/10\n",
      "1828/1828 [==============================] - 8s 4ms/step - loss: 0.0918 - accuracy: 0.9720 - val_loss: 0.7023 - val_accuracy: 0.8312\n"
     ]
    }
   ],
   "source": [
    "\n",
    "history3 = model3.fit(X_train_split, y_train_split,\n",
    "                    epochs=epochs,\n",
    "                    batch_size=batch_size,\n",
    "                    validation_data=(X_val_split, y_val_split),\n",
    "                    verbose=1)\n"
   ]
  },
  {
   "cell_type": "code",
   "execution_count": 31,
   "id": "5feef882",
   "metadata": {},
   "outputs": [
    {
     "data": {
      "image/png": "[encoded data removed]",
      "text/plain": [
       "<Figure size 1440x360 with 1 Axes>"
      ]
     },
     "metadata": {
      "needs_background": "light"
     },
     "output_type": "display_data"
    },
    {
     "data": {
      "image/png": "[encoded data removed]",
      "text/plain": [
       "<Figure size 1440x360 with 1 Axes>"
      ]
     },
     "metadata": {
      "needs_background": "light"
     },
     "output_type": "display_data"
    }
   ],
   "source": [
    "# viz\n",
    "\n",
    "import matplotlib.pyplot as plt\n",
    "\n",
    "def plot_history(histories, key='accuracy'):\n",
    "    plt.figure(figsize=(20, 5))\n",
    "    \n",
    "    for name, history in histories:\n",
    "        val = plt.plot(history.epoch, history.history['val_'+key],\n",
    "                       '--', label=name.title()+' Val')\n",
    "        plt.plot(history.epoch, history.history[key], color=val[0].get_color(),\n",
    "                 label=name.title()+' Train')\n",
    "\n",
    "    plt.xlabel('Epochs')\n",
    "    plt.ylabel(key.replace('_', ' ').title())\n",
    "    plt.legend()\n",
    "\n",
    "    plt.xlim([0, max(history.epoch)])\n",
    "    plt.show()\n",
    "\n",
    "# Plotting training and validation accuracy\n",
    "plot_history([('model1', history1),\n",
    "              ('model2', history2),\n",
    "              ('model3', history3)],\n",
    "             key='accuracy')\n",
    "\n",
    "# Plotting training and validation loss\n",
    "plot_history([('model1', history1),\n",
    "              ('model2', history2),\n",
    "              ('model3', history3)],\n",
    "             key='loss')\n"
   ]
  },
  {
   "cell_type": "markdown",
   "id": "758eb52d",
   "metadata": {},
   "source": [
    "## Import Korean Word2Vec"
   ]
  },
  {
   "cell_type": "code",
   "execution_count": 35,
   "id": "1a20a116",
   "metadata": {},
   "outputs": [],
   "source": [
    "from gensim.models import Word2Vec\n",
    "\n",
    "# Assuming the Word2Vec model's path is /data/word2vec_ko.model\n",
    "word2vec_file_path = '/aiffel/data/word2vec_ko.model'\n",
    "word_vectors = Word2Vec.load(word2vec_file_path).wv\n"
   ]
  },
  {
   "cell_type": "code",
   "execution_count": 36,
   "id": "af291749",
   "metadata": {},
   "outputs": [],
   "source": [
    "vocab_size = len(word_to_index) + 1  # Plus 1 for zero padding\n",
    "word_vector_dim = word_vectors.vector_size  # Word2Vec의 벡터 사이즈\n",
    "\n",
    "# 초기화\n",
    "embedding_matrix = np.zeros((vocab_size, word_vector_dim))\n",
    "\n",
    "# word_to_index에서 <BOS>, <UNK>, <PAD> 등을 처리하지 않았다면, 이를 고려해야 함\n",
    "for word, i in word_to_index.items():\n",
    "    if word in word_vectors:\n",
    "        embedding_matrix[i] = word_vectors[word]\n"
   ]
  },
  {
   "cell_type": "code",
   "execution_count": 38,
   "id": "5eae7be0",
   "metadata": {},
   "outputs": [
    {
     "name": "stdout",
     "output_type": "stream",
     "text": [
      "Model: \"sequential_5\"\n",
      "_________________________________________________________________\n",
      "Layer (type)                 Output Shape              Param #   \n",
      "=================================================================\n",
      "embedding_5 (Embedding)      (None, 40, 100)           1000000   \n",
      "_________________________________________________________________\n",
      "lstm_3 (LSTM)                (None, 40, 16)            7488      \n",
      "_________________________________________________________________\n",
      "lstm_4 (LSTM)                (None, 8)                 800       \n",
      "_________________________________________________________________\n",
      "dense_8 (Dense)              (None, 8)                 72        \n",
      "_________________________________________________________________\n",
      "dense_9 (Dense)              (None, 1)                 9         \n",
      "=================================================================\n",
      "Total params: 1,008,369\n",
      "Trainable params: 8,369\n",
      "Non-trainable params: 1,000,000\n",
      "_________________________________________________________________\n"
     ]
    }
   ],
   "source": [
    "model_f = tf.keras.Sequential()\n",
    "model_f.add(tf.keras.layers.Embedding(vocab_size, word_vector_dim, \n",
    "                                    weights=[embedding_matrix], \n",
    "                                    input_length=max_len, \n",
    "                                    trainable=False))  # Do not update the pre-trained embeddings\n",
    "model_f.add(tf.keras.layers.LSTM(16, return_sequences=True))\n",
    "model_f.add(tf.keras.layers.LSTM(8))\n",
    "model_f.add(tf.keras.layers.Dense(8, activation='relu'))\n",
    "model_f.add(tf.keras.layers.Dense(1, activation='sigmoid'))\n",
    "\n",
    "model_f.summary()\n"
   ]
  },
  {
   "cell_type": "code",
   "execution_count": 40,
   "id": "18ae7558",
   "metadata": {},
   "outputs": [
    {
     "name": "stdout",
     "output_type": "stream",
     "text": [
      "Epoch 1/10\n",
      "1828/1828 [==============================] - 16s 7ms/step - loss: 0.5119 - accuracy: 0.7457 - val_loss: 0.4512 - val_accuracy: 0.7931\n",
      "Epoch 2/10\n",
      "1828/1828 [==============================] - 13s 7ms/step - loss: 0.4274 - accuracy: 0.8038 - val_loss: 0.4219 - val_accuracy: 0.8046\n",
      "Epoch 3/10\n",
      "1828/1828 [==============================] - 13s 7ms/step - loss: 0.3979 - accuracy: 0.8192 - val_loss: 0.4051 - val_accuracy: 0.8168\n",
      "Epoch 4/10\n",
      "1828/1828 [==============================] - 13s 7ms/step - loss: 0.3804 - accuracy: 0.8292 - val_loss: 0.3909 - val_accuracy: 0.8239\n",
      "Epoch 5/10\n",
      "1828/1828 [==============================] - 13s 7ms/step - loss: 0.3699 - accuracy: 0.8349 - val_loss: 0.3828 - val_accuracy: 0.8264\n",
      "Epoch 6/10\n",
      "1828/1828 [==============================] - 13s 7ms/step - loss: 0.3609 - accuracy: 0.8386 - val_loss: 0.3867 - val_accuracy: 0.8222\n",
      "Epoch 7/10\n",
      "1828/1828 [==============================] - 13s 7ms/step - loss: 0.3553 - accuracy: 0.8410 - val_loss: 0.3752 - val_accuracy: 0.8305\n",
      "Epoch 8/10\n",
      "1828/1828 [==============================] - 13s 7ms/step - loss: 0.3494 - accuracy: 0.8450 - val_loss: 0.3745 - val_accuracy: 0.8324\n",
      "Epoch 9/10\n",
      "1828/1828 [==============================] - 13s 7ms/step - loss: 0.3441 - accuracy: 0.8473 - val_loss: 0.3718 - val_accuracy: 0.8322\n",
      "Epoch 10/10\n",
      "1828/1828 [==============================] - 13s 7ms/step - loss: 0.3398 - accuracy: 0.8490 - val_loss: 0.3672 - val_accuracy: 0.8349\n"
     ]
    }
   ],
   "source": [
    "# 학습의 진행\n",
    "model_f.compile(optimizer='adam',\n",
    "              loss='binary_crossentropy',\n",
    "              metrics=['accuracy'])\n",
    "              \n",
    "epochs=10  # 몇 epoch를 훈련하면 좋을지 결과를 보면서 바꾸어 봅시다. \n",
    "\n",
    "history_f = model_f.fit(X_train_split, y_train_split,\n",
    "                    epochs=epochs,\n",
    "                    batch_size=batch_size,\n",
    "                    validation_data=(X_val_split, y_val_split),\n",
    "                    verbose=1)\n"
   ]
  },
  {
   "cell_type": "code",
   "execution_count": 42,
   "id": "0b199d21",
   "metadata": {},
   "outputs": [
    {
     "ename": "ValueError",
     "evalue": "Failed to find data adapter that can handle input: (<class 'list'> containing values of types {'(<class \\'list\\'> containing values of types {\"<class \\'int\\'>\"})', \"(<class 'list'> containing values of types set())\"}), <class 'numpy.ndarray'>",
     "output_type": "error",
     "traceback": [
      "\u001b[0;31m---------------------------------------------------------------------------\u001b[0m",
      "\u001b[0;31mValueError\u001b[0m                                Traceback (most recent call last)",
      "\u001b[0;32m/tmp/ipykernel_92/1373914322.py\u001b[0m in \u001b[0;36m<module>\u001b[0;34m\u001b[0m\n\u001b[1;32m      1\u001b[0m \u001b[0;31m# 테스트셋을 통한 모델 평가\u001b[0m\u001b[0;34m\u001b[0m\u001b[0;34m\u001b[0m\u001b[0m\n\u001b[0;32m----> 2\u001b[0;31m \u001b[0mresults\u001b[0m \u001b[0;34m=\u001b[0m \u001b[0mmodel_f\u001b[0m\u001b[0;34m.\u001b[0m\u001b[0mevaluate\u001b[0m\u001b[0;34m(\u001b[0m\u001b[0mx_test\u001b[0m\u001b[0;34m,\u001b[0m  \u001b[0my_test\u001b[0m\u001b[0;34m,\u001b[0m \u001b[0mverbose\u001b[0m\u001b[0;34m=\u001b[0m\u001b[0;36m2\u001b[0m\u001b[0;34m)\u001b[0m\u001b[0;34m\u001b[0m\u001b[0;34m\u001b[0m\u001b[0m\n\u001b[0m\u001b[1;32m      3\u001b[0m \u001b[0;34m\u001b[0m\u001b[0m\n\u001b[1;32m      4\u001b[0m \u001b[0mprint\u001b[0m\u001b[0;34m(\u001b[0m\u001b[0mresults\u001b[0m\u001b[0;34m)\u001b[0m\u001b[0;34m\u001b[0m\u001b[0;34m\u001b[0m\u001b[0m\n",
      "\u001b[0;32m/opt/conda/lib/python3.9/site-packages/keras/engine/training.py\u001b[0m in \u001b[0;36mevaluate\u001b[0;34m(self, x, y, batch_size, verbose, sample_weight, steps, callbacks, max_queue_size, workers, use_multiprocessing, return_dict, **kwargs)\u001b[0m\n\u001b[1;32m   1464\u001b[0m       \u001b[0;32melse\u001b[0m\u001b[0;34m:\u001b[0m\u001b[0;34m\u001b[0m\u001b[0;34m\u001b[0m\u001b[0m\n\u001b[1;32m   1465\u001b[0m         \u001b[0;31m# Creates a `tf.data.Dataset` and handles batch and epoch iteration.\u001b[0m\u001b[0;34m\u001b[0m\u001b[0;34m\u001b[0m\u001b[0m\n\u001b[0;32m-> 1466\u001b[0;31m         data_handler = data_adapter.get_data_handler(\n\u001b[0m\u001b[1;32m   1467\u001b[0m             \u001b[0mx\u001b[0m\u001b[0;34m=\u001b[0m\u001b[0mx\u001b[0m\u001b[0;34m,\u001b[0m\u001b[0;34m\u001b[0m\u001b[0;34m\u001b[0m\u001b[0m\n\u001b[1;32m   1468\u001b[0m             \u001b[0my\u001b[0m\u001b[0;34m=\u001b[0m\u001b[0my\u001b[0m\u001b[0;34m,\u001b[0m\u001b[0;34m\u001b[0m\u001b[0;34m\u001b[0m\u001b[0m\n",
      "\u001b[0;32m/opt/conda/lib/python3.9/site-packages/keras/engine/data_adapter.py\u001b[0m in \u001b[0;36mget_data_handler\u001b[0;34m(*args, **kwargs)\u001b[0m\n\u001b[1;32m   1381\u001b[0m   \u001b[0;32mif\u001b[0m \u001b[0mgetattr\u001b[0m\u001b[0;34m(\u001b[0m\u001b[0mkwargs\u001b[0m\u001b[0;34m[\u001b[0m\u001b[0;34m\"model\"\u001b[0m\u001b[0;34m]\u001b[0m\u001b[0;34m,\u001b[0m \u001b[0;34m\"_cluster_coordinator\"\u001b[0m\u001b[0;34m,\u001b[0m \u001b[0;32mNone\u001b[0m\u001b[0;34m)\u001b[0m\u001b[0;34m:\u001b[0m\u001b[0;34m\u001b[0m\u001b[0;34m\u001b[0m\u001b[0m\n\u001b[1;32m   1382\u001b[0m     \u001b[0;32mreturn\u001b[0m \u001b[0m_ClusterCoordinatorDataHandler\u001b[0m\u001b[0;34m(\u001b[0m\u001b[0;34m*\u001b[0m\u001b[0margs\u001b[0m\u001b[0;34m,\u001b[0m \u001b[0;34m**\u001b[0m\u001b[0mkwargs\u001b[0m\u001b[0;34m)\u001b[0m\u001b[0;34m\u001b[0m\u001b[0;34m\u001b[0m\u001b[0m\n\u001b[0;32m-> 1383\u001b[0;31m   \u001b[0;32mreturn\u001b[0m \u001b[0mDataHandler\u001b[0m\u001b[0;34m(\u001b[0m\u001b[0;34m*\u001b[0m\u001b[0margs\u001b[0m\u001b[0;34m,\u001b[0m \u001b[0;34m**\u001b[0m\u001b[0mkwargs\u001b[0m\u001b[0;34m)\u001b[0m\u001b[0;34m\u001b[0m\u001b[0;34m\u001b[0m\u001b[0m\n\u001b[0m\u001b[1;32m   1384\u001b[0m \u001b[0;34m\u001b[0m\u001b[0m\n\u001b[1;32m   1385\u001b[0m \u001b[0;34m\u001b[0m\u001b[0m\n",
      "\u001b[0;32m/opt/conda/lib/python3.9/site-packages/keras/engine/data_adapter.py\u001b[0m in \u001b[0;36m__init__\u001b[0;34m(self, x, y, sample_weight, batch_size, steps_per_epoch, initial_epoch, epochs, shuffle, class_weight, max_queue_size, workers, use_multiprocessing, model, steps_per_execution, distribute)\u001b[0m\n\u001b[1;32m   1135\u001b[0m       \u001b[0mself\u001b[0m\u001b[0;34m.\u001b[0m\u001b[0m_steps_per_execution_value\u001b[0m \u001b[0;34m=\u001b[0m \u001b[0msteps_per_execution\u001b[0m\u001b[0;34m.\u001b[0m\u001b[0mnumpy\u001b[0m\u001b[0;34m(\u001b[0m\u001b[0;34m)\u001b[0m\u001b[0;34m.\u001b[0m\u001b[0mitem\u001b[0m\u001b[0;34m(\u001b[0m\u001b[0;34m)\u001b[0m\u001b[0;34m\u001b[0m\u001b[0;34m\u001b[0m\u001b[0m\n\u001b[1;32m   1136\u001b[0m \u001b[0;34m\u001b[0m\u001b[0m\n\u001b[0;32m-> 1137\u001b[0;31m     \u001b[0madapter_cls\u001b[0m \u001b[0;34m=\u001b[0m \u001b[0mselect_data_adapter\u001b[0m\u001b[0;34m(\u001b[0m\u001b[0mx\u001b[0m\u001b[0;34m,\u001b[0m \u001b[0my\u001b[0m\u001b[0;34m)\u001b[0m\u001b[0;34m\u001b[0m\u001b[0;34m\u001b[0m\u001b[0m\n\u001b[0m\u001b[1;32m   1138\u001b[0m     self._adapter = adapter_cls(\n\u001b[1;32m   1139\u001b[0m         \u001b[0mx\u001b[0m\u001b[0;34m,\u001b[0m\u001b[0;34m\u001b[0m\u001b[0;34m\u001b[0m\u001b[0m\n",
      "\u001b[0;32m/opt/conda/lib/python3.9/site-packages/keras/engine/data_adapter.py\u001b[0m in \u001b[0;36mselect_data_adapter\u001b[0;34m(x, y)\u001b[0m\n\u001b[1;32m    974\u001b[0m   \u001b[0;32mif\u001b[0m \u001b[0;32mnot\u001b[0m \u001b[0madapter_cls\u001b[0m\u001b[0;34m:\u001b[0m\u001b[0;34m\u001b[0m\u001b[0;34m\u001b[0m\u001b[0m\n\u001b[1;32m    975\u001b[0m     \u001b[0;31m# TODO(scottzhu): This should be a less implementation-specific error.\u001b[0m\u001b[0;34m\u001b[0m\u001b[0;34m\u001b[0m\u001b[0m\n\u001b[0;32m--> 976\u001b[0;31m     raise ValueError(\n\u001b[0m\u001b[1;32m    977\u001b[0m         \u001b[0;34m\"Failed to find data adapter that can handle \"\u001b[0m\u001b[0;34m\u001b[0m\u001b[0;34m\u001b[0m\u001b[0m\n\u001b[1;32m    978\u001b[0m         \"input: {}, {}\".format(\n",
      "\u001b[0;31mValueError\u001b[0m: Failed to find data adapter that can handle input: (<class 'list'> containing values of types {'(<class \\'list\\'> containing values of types {\"<class \\'int\\'>\"})', \"(<class 'list'> containing values of types set())\"}), <class 'numpy.ndarray'>"
     ]
    }
   ],
   "source": [
    "# 테스트셋을 통한 모델 평가\n",
    "results = model_f.evaluate(x_test,  y_test, verbose=2)\n",
    "\n",
    "print(results)"
   ]
  },
  {
   "cell_type": "code",
   "execution_count": 43,
   "id": "d84c8057",
   "metadata": {},
   "outputs": [
    {
     "name": "stdout",
     "output_type": "stream",
     "text": [
      "1537/1537 - 4s - loss: 0.3734 - accuracy: 0.8329\n",
      "[0.37337562441825867, 0.8329230546951294]\n"
     ]
    }
   ],
   "source": [
    "from tensorflow.keras.preprocessing.sequence import pad_sequences\n",
    "import numpy as np\n",
    "\n",
    "# Assuming max_len is defined (the maximum length you've used for your training data)\n",
    "# Convert x_test to a NumPy array with proper padding\n",
    "x_test_padded = pad_sequences(x_test, maxlen=max_len, padding='post')\n",
    "\n",
    "# Ensure y_test is also a numpy array if it's not already\n",
    "y_test_array = np.array(y_test)\n",
    "\n",
    "# Now evaluate the model with the properly formatted data\n",
    "results = model_f.evaluate(x_test_padded,  y_test_array, verbose=2)\n",
    "\n",
    "print(results)\n"
   ]
  },
  {
   "cell_type": "code",
   "execution_count": null,
   "id": "6a1c1e0e",
   "metadata": {},
   "outputs": [],
   "source": []
  }
 ],
 "metadata": {
  "kernelspec": {
   "display_name": "Python 3 (ipykernel)",
   "language": "python",
   "name": "python3"
  },
  "language_info": {
   "codemirror_mode": {
    "name": "ipython",
    "version": 3
   },
   "file_extension": ".py",
   "mimetype": "text/x-python",
   "name": "python",
   "nbconvert_exporter": "python",
   "pygments_lexer": "ipython3",
   "version": "3.9.7"
  }
 },
 "nbformat": 4,
 "nbformat_minor": 5
}
